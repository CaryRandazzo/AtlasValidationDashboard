{
 "cells": [
  {
   "cell_type": "markdown",
   "id": "03ecd25c",
   "metadata": {},
   "source": [
    "While it would be faster to generate handle the non anomalous 'occ' data and 'occ_generated_anomalies' columns in the same dataset, some extra code would have to be added in this script, as well as in the normalization script to generate unique normalization columns (occ_0to1_anomalous,occ_zscore_anomalous,etc)."
   ]
  },
  {
   "cell_type": "markdown",
   "id": "8fa68f75",
   "metadata": {},
   "source": [
    "1. Imports"
   ]
  },
  {
   "cell_type": "code",
   "execution_count": 1,
   "id": "d4a44956",
   "metadata": {
    "ExecuteTime": {
     "end_time": "2022-02-22T13:59:08.082792Z",
     "start_time": "2022-02-22T13:59:02.338644Z"
    }
   },
   "outputs": [
    {
     "name": "stdout",
     "output_type": "stream",
     "text": [
      "Welcome to JupyROOT 6.24/06\n"
     ]
    }
   ],
   "source": [
    "from replica_processor import *\n",
    "import random\n",
    "\n",
    "# Turn off chained assignment message\n",
    "pd.options.mode.chained_assignment = None  # default='warn'"
   ]
  },
  {
   "cell_type": "markdown",
   "id": "568329ff",
   "metadata": {},
   "source": [
    "2. Load main dataframe"
   ]
  },
  {
   "cell_type": "code",
   "execution_count": 2,
   "id": "f37bf9aa",
   "metadata": {
    "ExecuteTime": {
     "end_time": "2022-02-22T14:00:10.532329Z",
     "start_time": "2022-02-22T13:59:23.073323Z"
    }
   },
   "outputs": [
    {
     "data": {
      "text/html": [
       "<div>\n",
       "<style scoped>\n",
       "    .dataframe tbody tr th:only-of-type {\n",
       "        vertical-align: middle;\n",
       "    }\n",
       "\n",
       "    .dataframe tbody tr th {\n",
       "        vertical-align: top;\n",
       "    }\n",
       "\n",
       "    .dataframe thead th {\n",
       "        text-align: right;\n",
       "    }\n",
       "</style>\n",
       "<table border=\"1\" class=\"dataframe\">\n",
       "  <thead>\n",
       "    <tr style=\"text-align: right;\">\n",
       "      <th></th>\n",
       "      <th>paths</th>\n",
       "      <th>x</th>\n",
       "      <th>y</th>\n",
       "      <th>occ</th>\n",
       "      <th>ftag_id</th>\n",
       "      <th>hist_type</th>\n",
       "      <th>hist_id</th>\n",
       "    </tr>\n",
       "  </thead>\n",
       "  <tbody>\n",
       "    <tr>\n",
       "      <th>0</th>\n",
       "      <td>run_363664/CaloMonitoring/ClusterMon/CaloCalTo...</td>\n",
       "      <td>0</td>\n",
       "      <td>0</td>\n",
       "      <td>0.0</td>\n",
       "      <td>0</td>\n",
       "      <td>0</td>\n",
       "      <td>0</td>\n",
       "    </tr>\n",
       "    <tr>\n",
       "      <th>1</th>\n",
       "      <td>run_363664/CaloMonitoring/ClusterMon/CaloCalTo...</td>\n",
       "      <td>0</td>\n",
       "      <td>1</td>\n",
       "      <td>0.0</td>\n",
       "      <td>0</td>\n",
       "      <td>0</td>\n",
       "      <td>0</td>\n",
       "    </tr>\n",
       "    <tr>\n",
       "      <th>2</th>\n",
       "      <td>run_363664/CaloMonitoring/ClusterMon/CaloCalTo...</td>\n",
       "      <td>0</td>\n",
       "      <td>2</td>\n",
       "      <td>0.0</td>\n",
       "      <td>0</td>\n",
       "      <td>0</td>\n",
       "      <td>0</td>\n",
       "    </tr>\n",
       "    <tr>\n",
       "      <th>3</th>\n",
       "      <td>run_363664/CaloMonitoring/ClusterMon/CaloCalTo...</td>\n",
       "      <td>0</td>\n",
       "      <td>3</td>\n",
       "      <td>0.0</td>\n",
       "      <td>0</td>\n",
       "      <td>0</td>\n",
       "      <td>0</td>\n",
       "    </tr>\n",
       "    <tr>\n",
       "      <th>4</th>\n",
       "      <td>run_363664/CaloMonitoring/ClusterMon/CaloCalTo...</td>\n",
       "      <td>0</td>\n",
       "      <td>4</td>\n",
       "      <td>0.0</td>\n",
       "      <td>0</td>\n",
       "      <td>0</td>\n",
       "      <td>0</td>\n",
       "    </tr>\n",
       "    <tr>\n",
       "      <th>...</th>\n",
       "      <td>...</td>\n",
       "      <td>...</td>\n",
       "      <td>...</td>\n",
       "      <td>...</td>\n",
       "      <td>...</td>\n",
       "      <td>...</td>\n",
       "      <td>...</td>\n",
       "    </tr>\n",
       "    <tr>\n",
       "      <th>41235475</th>\n",
       "      <td>run_360402/CaloMonitoring/ClusterMon/LArCluste...</td>\n",
       "      <td>98</td>\n",
       "      <td>60</td>\n",
       "      <td>0.0</td>\n",
       "      <td>84</td>\n",
       "      <td>17</td>\n",
       "      <td>233</td>\n",
       "    </tr>\n",
       "    <tr>\n",
       "      <th>41235476</th>\n",
       "      <td>run_360402/CaloMonitoring/ClusterMon/LArCluste...</td>\n",
       "      <td>98</td>\n",
       "      <td>61</td>\n",
       "      <td>0.0</td>\n",
       "      <td>84</td>\n",
       "      <td>17</td>\n",
       "      <td>233</td>\n",
       "    </tr>\n",
       "    <tr>\n",
       "      <th>41235477</th>\n",
       "      <td>run_360402/CaloMonitoring/ClusterMon/LArCluste...</td>\n",
       "      <td>98</td>\n",
       "      <td>62</td>\n",
       "      <td>0.0</td>\n",
       "      <td>84</td>\n",
       "      <td>17</td>\n",
       "      <td>233</td>\n",
       "    </tr>\n",
       "    <tr>\n",
       "      <th>41235478</th>\n",
       "      <td>run_360402/CaloMonitoring/ClusterMon/LArCluste...</td>\n",
       "      <td>98</td>\n",
       "      <td>63</td>\n",
       "      <td>0.0</td>\n",
       "      <td>84</td>\n",
       "      <td>17</td>\n",
       "      <td>233</td>\n",
       "    </tr>\n",
       "    <tr>\n",
       "      <th>41235479</th>\n",
       "      <td>run_360402/CaloMonitoring/ClusterMon/LArCluste...</td>\n",
       "      <td>98</td>\n",
       "      <td>64</td>\n",
       "      <td>0.0</td>\n",
       "      <td>84</td>\n",
       "      <td>17</td>\n",
       "      <td>233</td>\n",
       "    </tr>\n",
       "  </tbody>\n",
       "</table>\n",
       "<p>41235480 rows × 7 columns</p>\n",
       "</div>"
      ],
      "text/plain": [
       "                                                      paths   x   y  occ  \\\n",
       "0         run_363664/CaloMonitoring/ClusterMon/CaloCalTo...   0   0  0.0   \n",
       "1         run_363664/CaloMonitoring/ClusterMon/CaloCalTo...   0   1  0.0   \n",
       "2         run_363664/CaloMonitoring/ClusterMon/CaloCalTo...   0   2  0.0   \n",
       "3         run_363664/CaloMonitoring/ClusterMon/CaloCalTo...   0   3  0.0   \n",
       "4         run_363664/CaloMonitoring/ClusterMon/CaloCalTo...   0   4  0.0   \n",
       "...                                                     ...  ..  ..  ...   \n",
       "41235475  run_360402/CaloMonitoring/ClusterMon/LArCluste...  98  60  0.0   \n",
       "41235476  run_360402/CaloMonitoring/ClusterMon/LArCluste...  98  61  0.0   \n",
       "41235477  run_360402/CaloMonitoring/ClusterMon/LArCluste...  98  62  0.0   \n",
       "41235478  run_360402/CaloMonitoring/ClusterMon/LArCluste...  98  63  0.0   \n",
       "41235479  run_360402/CaloMonitoring/ClusterMon/LArCluste...  98  64  0.0   \n",
       "\n",
       "          ftag_id  hist_type  hist_id  \n",
       "0               0          0        0  \n",
       "1               0          0        0  \n",
       "2               0          0        0  \n",
       "3               0          0        0  \n",
       "4               0          0        0  \n",
       "...           ...        ...      ...  \n",
       "41235475       84         17      233  \n",
       "41235476       84         17      233  \n",
       "41235477       84         17      233  \n",
       "41235478       84         17      233  \n",
       "41235479       84         17      233  \n",
       "\n",
       "[41235480 rows x 7 columns]"
      ]
     },
     "execution_count": 2,
     "metadata": {},
     "output_type": "execute_result"
    }
   ],
   "source": [
    "df = dfs = pd.read_csv('main_dfs.csv', dtype={'x':'int8','y':'int8','ftag_id':'int8','occ':'float32','hist_type':'int8','hist_id':'int16'})\n",
    "df"
   ]
  },
  {
   "cell_type": "markdown",
   "id": "165a72ba",
   "metadata": {},
   "source": [
    "3. Define functions for script\n",
    "- coldspots can be added to the anomaly generation here"
   ]
  },
  {
   "cell_type": "code",
   "execution_count": 3,
   "id": "68267cfd",
   "metadata": {
    "ExecuteTime": {
     "end_time": "2022-02-22T14:00:30.507241Z",
     "start_time": "2022-02-22T14:00:30.365471Z"
    }
   },
   "outputs": [],
   "source": [
    "def gen_rand_hotspot(hist):\n",
    "    \n",
    "    # Randomly select an eta coordinate from the histogram\n",
    "    rand_x_coord = random.randint(0,99) \n",
    "    \n",
    "    # Randomly select a phi coordinate from the histogram\n",
    "    rand_y_coord = random.randint(0,65)\n",
    "    \n",
    "    # Get a handle for the intervals of the strip from which the eta coordinate comes from\n",
    "    strip_vals = hist[hist['x']==rand_x_coord]['occ']\n",
    "    \n",
    "    # Use that list of values from the strip to calculate 3 times the standard deviation\n",
    "    three_times_strip_stdev = 3*strip_vals.std()\n",
    "    \n",
    "    # Use that same list of values to calculate 4 times the standard deviation\n",
    "    four_times_strip_stdev = 4*strip_vals.std()\n",
    "    \n",
    "    # Generate a random hotspot that is between 3 and 4 standard deviations above the occupancy value that is\n",
    "    # initially at the eta,phi coordinate\n",
    "    try:\n",
    "        rand_hotval_occ = random.randint(round(three_times_strip_stdev),round(four_times_strip_stdev))\n",
    "    except:\n",
    "        # Sometimes, the standard deviation comes out as an erroneous float NaN which throws an error, this\n",
    "        # catches that issue\n",
    "        rand_hotval_occ = 1\n",
    "    \n",
    "    # Return the (eta,phi,hotspot_value) as (rand_x_coord, rand_y_coord, rand_hotval_occ)\n",
    "    return (rand_x_coord, rand_y_coord, rand_hotval_occ)\n",
    "\n",
    "def gen_rand_hotstrip(hist):\n",
    "   \n",
    "    \n",
    "    rand_start_x_coord = random.randint(0,99)\n",
    "    \n",
    "    rand_stop_x_coord = random.randint(0,99)\n",
    "    while rand_start_x_coord == rand_stop_x_coord:\n",
    "        rand_stop_x_coord = random.randint(0,99)\n",
    "    \n",
    "    rand_y_coord = random.randint(0,65)\n",
    "    \n",
    "    # If the ending coordinate is larger than the starting coordinate\n",
    "    if rand_start_x_coord < rand_stop_x_coord:\n",
    "        # And the difference between the two coordinates is greater than 10\n",
    "        if (rand_stop_x_coord-rand_start_x_coord) > 10:\n",
    "            # Cap the length of the layer to 10\n",
    "            rand_x_arr = np.arange(rand_start_x_coord,rand_start_x_coord+(10-1))\n",
    "        else:\n",
    "            # Otherwise, let the length of the layer be defined by the stop coordinate\n",
    "            rand_x_arr = np.arange(rand_start_x_coord,rand_stop_x_coord)\n",
    "    else: # If the start coordinate is larger\n",
    "        # And if the difference between the two coordinates is greater than 10\n",
    "        if (rand_start_x_coord-rand_stop_x_coord) > 10:\n",
    "            # Cap the length of the layer to 10\n",
    "            rand_x_arr = np.arange(rand_stop_x_coord,rand_stop_x_coord+(10-1))    \n",
    "        else:\n",
    "            # Otherwise, let the length of the layer be defined by the start coordinate\n",
    "            rand_x_arr = np.arange(rand_stop_x_coord,rand_start_x_coord)\n",
    "    \n",
    "    # Get a handle for the intervals of the strip from which the eta coordinate comes from\n",
    "    strip_vals = hist[hist['x']==rand_start_x_coord]['occ'].values\n",
    "    \n",
    "    # Use that list of values from the strip to calculate 3 times the standard deviation\n",
    "    three_times_strip_stdev = 3*strip_vals.std()\n",
    "    \n",
    "    # Use that same list of values to calculate 4 times the standard deviation\n",
    "    four_times_strip_stdev = 4*strip_vals.std()\n",
    "    \n",
    "    # Generate a random hotspot that is between 3 and 4 standard deviations above the occupancy value that is\n",
    "    # initially at the eta,phi coordinate\n",
    "    try:\n",
    "        rand_hotval_occ = random.randint(round(three_times_strip_stdev),round(four_times_strip_stdev))\n",
    "    except:\n",
    "        # Sometimes, the standard deviation comes out as an erroneous float NaN which throws an error, this\n",
    "        # catches that issue\n",
    "#         print(strip_vals.std())\n",
    "        rand_hotval_occ = 1\n",
    "    \n",
    "    # Return the (eta,phi,hotspot_value) as (rand_x_coord, rand_y_coord, rand_hotval_occ)\n",
    "    return (rand_x_arr, rand_y_coord, rand_hotval_occ)  \n",
    "\n",
    "\n",
    "def gen_rand_hotlayer(hist):\n",
    "    \n",
    "    \n",
    "    rand_start_x_coord = random.randint(0,99)\n",
    "    \n",
    "    \n",
    "    rand_stop_x_coord = random.randint(0,99)\n",
    "    while rand_start_x_coord == rand_stop_x_coord:\n",
    "        rand_stop_x_coord = random.randint(0,99)\n",
    "    \n",
    "    \n",
    "    rand_start_y_coord = random.randint(0,65)\n",
    "    \n",
    "\n",
    "    rand_stop_y_coord = random.randint(0,65)\n",
    "    while rand_start_y_coord == rand_stop_y_coord:\n",
    "        rand_stop_y_coord = random.randint(0,65)\n",
    "    \n",
    "\n",
    "    # If the ending coordinate is larger than the starting coordinate\n",
    "    if rand_start_x_coord < rand_stop_x_coord:\n",
    "        # And the difference between the two coordinates is greater than 10\n",
    "        if (rand_stop_x_coord-rand_start_x_coord) > 10:\n",
    "            # Cap the length of the layer to 10\n",
    "            rand_x_arr = np.arange(rand_start_x_coord,rand_start_x_coord+(10-1))\n",
    "        else:\n",
    "            # Otherwise, let the length of the layer be defined by the stop coordinate\n",
    "            rand_x_arr = np.arange(rand_start_x_coord,rand_stop_x_coord)\n",
    "    else: # If the start coordinate is larger\n",
    "        # And if the difference between the two coordinates is greater than 10\n",
    "        if (rand_start_x_coord-rand_stop_x_coord) > 10:\n",
    "            # Cap the length of the layer to 10\n",
    "            rand_x_arr = np.arange(rand_stop_x_coord,rand_stop_x_coord+(10-1))    \n",
    "        else:\n",
    "            # Otherwise, let the length of the layer be defined by the start coordinate\n",
    "            rand_x_arr = np.arange(rand_stop_x_coord,rand_start_x_coord)\n",
    "    \n",
    "    # Likewise for y, but capped at 3\n",
    "    if rand_start_y_coord < rand_stop_y_coord:\n",
    "        if (rand_stop_y_coord-rand_start_y_coord) > 3:\n",
    "            rand_y_arr = np.arange(rand_start_y_coord,rand_start_y_coord+(3-1))\n",
    "        else:\n",
    "            rand_y_arr = np.arange(rand_start_y_coord,rand_stop_y_coord)\n",
    "    else:\n",
    "        if (rand_start_y_coord-rand_stop_y_coord) > 3:\n",
    "            rand_y_arr = np.arange(rand_stop_y_coord,rand_stop_y_coord+(3-1))\n",
    "        else:\n",
    "            rand_y_arr = np.arange(rand_stop_y_coord,rand_start_y_coord)\n",
    "    \n",
    "    # Get a handle for the intervals of the strip from which the eta coordinate comes from\n",
    "    strip_vals = hist[hist['x']==rand_start_x_coord]['occ'].values\n",
    "    \n",
    "    # Use that list of values from the strip to calculate 3 times the standard deviation\n",
    "    three_times_strip_stdev = 3*strip_vals.std()\n",
    "    \n",
    "    # Use that same list of values to calculate 4 times the standard deviation\n",
    "    four_times_strip_stdev = 4*strip_vals.std()\n",
    "    \n",
    "    # Generate a random hotspot that is between 3 and 4 standard deviations above the occupancy value that is\n",
    "    # initially at the eta,phi coordinate\n",
    "    try:\n",
    "        rand_hotval_occ = random.randint(round(three_times_strip_stdev),round(four_times_strip_stdev))\n",
    "    except:\n",
    "#         print(strip_vals.std())\n",
    "          rand_hotval_occ = 1\n",
    "    \n",
    "    # Return the (eta,phi,hotspot_value) as (rand_x_coord, rand_y_coord, rand_hotval_occ)\n",
    "    return (rand_x_arr, rand_y_arr, rand_hotval_occ)\n",
    "\n",
    "\n",
    "\n",
    "def gen_rand_coldspot():\n",
    "    # same as hotspot but subtract the std instead of add?\n",
    "    return\n",
    "\n",
    "# For Debugging\n",
    "def input_heatmap(df,ftag_id,hist_id):\n",
    "    tmp = df[df['ftag_id']==ftag_id]\n",
    "    tmp = tmp[tmp['hist_id']==hist_id]\n",
    "    sns.heatmap( tmp.pivot_table(index='y',columns='x',values='occ') )\n",
    "    plt.show()"
   ]
  },
  {
   "cell_type": "markdown",
   "id": "056165fa",
   "metadata": {},
   "source": [
    "4. Initialize quality values at 0"
   ]
  },
  {
   "cell_type": "code",
   "execution_count": 5,
   "id": "72521dfc",
   "metadata": {
    "ExecuteTime": {
     "end_time": "2022-02-22T14:01:11.542409Z",
     "start_time": "2022-02-22T14:01:10.960820Z"
    }
   },
   "outputs": [
    {
     "data": {
      "text/plain": [
       "0    41235480\n",
       "Name: quality, dtype: int64"
      ]
     },
     "execution_count": 5,
     "metadata": {},
     "output_type": "execute_result"
    }
   ],
   "source": [
    "df['quality']=0\n",
    "df['quality'].value_counts()"
   ]
  },
  {
   "cell_type": "markdown",
   "id": "b827de74",
   "metadata": {},
   "source": [
    "5. Main section: Generate anomalies and update the main dataframe to include these anomalies"
   ]
  },
  {
   "cell_type": "code",
   "execution_count": 6,
   "id": "85b0a83f",
   "metadata": {
    "ExecuteTime": {
     "end_time": "2022-02-22T16:05:44.747750Z",
     "start_time": "2022-02-22T14:01:24.955451Z"
    },
    "scrolled": true
   },
   "outputs": [
    {
     "name": "stdout",
     "output_type": "stream",
     "text": [
      "Processing file 83 of 83 files... 100.0% Complete\n"
     ]
    },
    {
     "name": "stderr",
     "output_type": "stream",
     "text": [
      "/cvmfs/sft.cern.ch/lcg/views/LCG_101swan/x86_64-centos7-gcc8-opt/lib/python3.9/site-packages/numpy/core/_methods.py:262: RuntimeWarning: Degrees of freedom <= 0 for slice\n",
      "  ret = _var(a, axis=axis, dtype=dtype, out=out, ddof=ddof,\n",
      "/cvmfs/sft.cern.ch/lcg/views/LCG_101swan/x86_64-centos7-gcc8-opt/lib/python3.9/site-packages/numpy/core/_methods.py:222: RuntimeWarning: invalid value encountered in true_divide\n",
      "  arrmean = um.true_divide(arrmean, div, out=arrmean, casting='unsafe',\n",
      "/cvmfs/sft.cern.ch/lcg/views/LCG_101swan/x86_64-centos7-gcc8-opt/lib/python3.9/site-packages/numpy/core/_methods.py:254: RuntimeWarning: invalid value encountered in true_divide\n",
      "  ret = ret.dtype.type(ret / rcount)\n"
     ]
    }
   ],
   "source": [
    "for idf,ftid in enumerate(df['ftag_id'].unique()):\n",
    "    \n",
    "    progress_bar(idf,df['ftag_id'].unique())\n",
    "    \n",
    "    # Get the subset of the main dataframe whose ftag_id is ftid\n",
    "    mask = df['ftag_id'] == ftid\n",
    "    tmp = df.loc[mask,:]\n",
    "    \n",
    "    for hid in tmp['hist_id'].unique():\n",
    "        \n",
    "        # Get the subset of the ftag_id dataframe whose hist_id is hid\n",
    "        mask = tmp['hist_id'] == hid\n",
    "        tmp2 = tmp.loc[mask,:]\n",
    "\n",
    "        # 0 = do not generate anomaly in this histogram, 1 = generate anomaly in this histogram \n",
    "        #(50% of histograms should contain anomalies)\n",
    "        rand_5050 = random.randint(0,1)\n",
    "\n",
    "        # If its 1, generate an anomaly in the histogram\n",
    "        if rand_5050 == 1:\n",
    "            \n",
    "            # 1 = hotspot, 2 = hotstrip, 3 = hotlayer (33% of anomalies could be either)\n",
    "            rand_1in3 = random.randint(1,3)\n",
    "            \n",
    "            if rand_1in3 == 1:\n",
    "                \n",
    "                # Generate the hotspot with the function\n",
    "                hotspot = gen_rand_hotspot(tmp2)\n",
    "                \n",
    "                # Get a subset of datapoints for the hotspot based on generated coordinates\n",
    "                tmpx = tmp2[tmp2['x']==hotspot[0]]\n",
    "                tmpy = tmpx[tmpx['y']==hotspot[1]]\n",
    "                \n",
    "                # Get the indexes that will be used to update the hotspot in the histogram\n",
    "                index_to_change = tmpy.index\n",
    "                \n",
    "                # Update the data point(s) in the histogram based on the hotspot that we generated\n",
    "                # The std needs to be added to the original occupancy value to be higher than the avg occ\n",
    "                tmp2.loc[index_to_change,'occ'] = tmp2.loc[index_to_change,'occ']+hotspot[2]\n",
    "                \n",
    "                # If the occupancy(ies) is/are 0...\n",
    "                # The std of 0 is 0, so instead of changing an occ to an anomaly and it staying 0, we switch\n",
    "                # the value of the 0 occupancy to the highest occ value in the histogram\n",
    "                try:\n",
    "                    if tmp2.loc[index_to_change,'occ'].values[0] == 0:\n",
    "\n",
    "                        # Switch the value with the max occupancy on the histogram to ensure it is an anomaly\n",
    "                        tmp2.loc[index_to_change,'occ'] = tmp2['occ'].max()\n",
    "                        \n",
    "                    # Update the label in the dataframe to show this(these) coordinates are now anomalies\n",
    "                    tmp2.loc[index_to_change,'quality'] = 1\n",
    "                    \n",
    "                except:\n",
    "                    # If index 0 for axis 0 is size 0, the coordinate likely does not exist, leave it as is\n",
    "                    pass\n",
    "                                \n",
    "                # Debugging lines below\n",
    "                \n",
    "                # Get a readout of the coordinates of the hotspot and its associated occ value\n",
    "#                 print(hotspot[0],hotspot[1],tmp2.loc[index_to_change,'occ'].values[0])\n",
    "                \n",
    "                # Set the figure large enough so we can see the anomaly we generated\n",
    "#                 plt.figure(figsize=(20,20))\n",
    "                \n",
    "                # View the heatmap of this histogram so we can see the anomaly we generated\n",
    "#                 input_heatmap(tmp2,ftid,hid)\n",
    "\n",
    "                # End Debugging lines\n",
    "                \n",
    "            # Previous comments apply similarly for generating hotstrips in the histogram\n",
    "            elif rand_1in3 == 2:\n",
    "                \n",
    "                hotstrip = gen_rand_hotstrip(tmp2)\n",
    "\n",
    "                maskx = tmp2['x'].isin(hotstrip[0])\n",
    "                tmpx = tmp2.loc[maskx,:]\n",
    "\n",
    "                masky = tmpx['y'] == hotstrip[1]\n",
    "                tmpy = tmpx.loc[masky,:]\n",
    "\n",
    "                indexes_to_change = tmpy.index\n",
    "\n",
    "                tmp2.loc[indexes_to_change,'occ'] = tmp2.loc[indexes_to_change,'occ']+hotstrip[2]\n",
    "                \n",
    "                tmp2.loc[indexes_to_change,'quality'] = 1\n",
    "                \n",
    "                if all(tmp2.loc[indexes_to_change,'occ']) == 0:\n",
    "                    tmp2.loc[indexes_to_change,'occ'] = tmp2['occ'].max()\n",
    "                    \n",
    "                # Debugging lines\n",
    "                \n",
    "#                     print('final:',hotstrip[0],hotstrip[1],tmp2['occ'].max())\n",
    "#                 else:\n",
    "#                     print('final:',hotstrip[0],hotstrip[1],tmp2.loc[indexes_to_change,'occ'])\n",
    "                \n",
    "#                 plt.figure(figsize=(20,20))               \n",
    "#                 input_heatmap(tmp2,ftid,hid)\n",
    "\n",
    "                # End Debugging lines\n",
    "                \n",
    "            # Previous comments apply similarly for generating hotstrips in the histogram\n",
    "            elif rand_1in3 == 3:\n",
    "\n",
    "                hotlayer = gen_rand_hotlayer(tmp2)\n",
    "\n",
    "                maskx = tmp2['x'].isin(hotlayer[0])\n",
    "                tmpx = tmp2.loc[maskx,:]\n",
    "\n",
    "                masky = tmpx['y'].isin(hotlayer[1])\n",
    "                tmpy = tmpx.loc[masky,:]\n",
    "\n",
    "                indexes_to_change = tmpy.index\n",
    "\n",
    "                tmp2.loc[indexes_to_change,'occ'] = tmp2.loc[indexes_to_change,'occ']+hotlayer[2]\n",
    "                \n",
    "                tmp2.loc[indexes_to_change,'quality'] = 1\n",
    "                \n",
    "                if all(tmp2.loc[indexes_to_change,'occ']) == 0:\n",
    "                    tmp2.loc[indexes_to_change,'occ'] = tmp2['occ'].max()\n",
    "                    \n",
    "                # Debugging lines below\n",
    "                \n",
    "#                     print('final:',hotlayer[0],hotlayer[1],tmp2['occ'].max())\n",
    "#                 else:\n",
    "#                     print('final:',hotlayer[0],hotlayer[1],tmp2.loc[indexes_to_change,'occ'])\n",
    "                \n",
    "#                 plt.figure(figsize=(20,20))                \n",
    "#                 input_heatmap(tmp2,ftid,hid)\n",
    "\n",
    "                # End Debugging lines\n",
    "\n",
    "            # Update the main dataframe with the anomalous values\n",
    "            df.loc[tmp2.index,:] = tmp2"
   ]
  },
  {
   "cell_type": "markdown",
   "id": "12b6457e",
   "metadata": {},
   "source": [
    "6. Verify anomalies were added"
   ]
  },
  {
   "cell_type": "code",
   "execution_count": 7,
   "id": "83172264",
   "metadata": {
    "ExecuteTime": {
     "end_time": "2022-02-22T16:17:38.943705Z",
     "start_time": "2022-02-22T16:17:38.421626Z"
    }
   },
   "outputs": [
    {
     "data": {
      "text/plain": [
       "0    41207189\n",
       "1       28291\n",
       "Name: quality, dtype: int64"
      ]
     },
     "execution_count": 7,
     "metadata": {},
     "output_type": "execute_result"
    }
   ],
   "source": [
    "df['quality'].value_counts()"
   ]
  },
  {
   "cell_type": "markdown",
   "id": "3906fe6c",
   "metadata": {},
   "source": [
    "What percentage of datapoints are anomalous? Is this a problem and should we comment about it?"
   ]
  },
  {
   "cell_type": "code",
   "execution_count": 8,
   "id": "859c97bf",
   "metadata": {
    "ExecuteTime": {
     "end_time": "2022-02-22T16:17:44.523078Z",
     "start_time": "2022-02-22T16:17:42.943493Z"
    }
   },
   "outputs": [
    {
     "name": "stdout",
     "output_type": "stream",
     "text": [
      "Pct values non anomalous:99.93139160742157%\n",
      "Pct values anomalous:0.06860839257843003%\n"
     ]
    }
   ],
   "source": [
    "total = df['quality'].value_counts().values[0]+df[\"quality\"].value_counts().values[1]\n",
    "print(f'Pct values non anomalous:{100*df[\"quality\"].value_counts().values[0]/total}%')\n",
    "print(f'Pct values anomalous:{100*df[\"quality\"].value_counts().values[1]/total}%')"
   ]
  },
  {
   "cell_type": "markdown",
   "id": "d20b8bc4",
   "metadata": {},
   "source": [
    "7. Save main df with anomalies added as anomalous_dfs.csv"
   ]
  },
  {
   "cell_type": "code",
   "execution_count": 11,
   "id": "c71a83a6",
   "metadata": {
    "ExecuteTime": {
     "end_time": "2022-02-22T16:39:08.092527Z",
     "start_time": "2022-02-22T16:33:04.088288Z"
    }
   },
   "outputs": [],
   "source": [
    "df.to_csv('anomalous_dfs.csv',index=False)"
   ]
  },
  {
   "cell_type": "markdown",
   "id": "ac51e4cc",
   "metadata": {},
   "source": [
    "We can now move to the normalization script for further processing of this anomalous set, and if not already done, processing of the non anomalous set"
   ]
  }
 ],
 "metadata": {
  "kernelspec": {
   "display_name": "Python 3",
   "language": "python",
   "name": "python3"
  },
  "language_info": {
   "codemirror_mode": {
    "name": "ipython",
    "version": 3
   },
   "file_extension": ".py",
   "mimetype": "text/x-python",
   "name": "python",
   "nbconvert_exporter": "python",
   "pygments_lexer": "ipython3",
   "version": "3.9.6"
  },
  "varInspector": {
   "cols": {
    "lenName": 16,
    "lenType": 16,
    "lenVar": 40
   },
   "kernels_config": {
    "python": {
     "delete_cmd_postfix": "",
     "delete_cmd_prefix": "del ",
     "library": "var_list.py",
     "varRefreshCmd": "print(var_dic_list())"
    },
    "r": {
     "delete_cmd_postfix": ") ",
     "delete_cmd_prefix": "rm(",
     "library": "var_list.r",
     "varRefreshCmd": "cat(var_dic_list()) "
    }
   },
   "types_to_exclude": [
    "module",
    "function",
    "builtin_function_or_method",
    "instance",
    "_Feature"
   ],
   "window_display": false
  }
 },
 "nbformat": 4,
 "nbformat_minor": 5
}
