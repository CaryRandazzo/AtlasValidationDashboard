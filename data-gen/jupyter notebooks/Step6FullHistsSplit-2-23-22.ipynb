{
 "cells": [
  {
   "cell_type": "markdown",
   "id": "df0f908b",
   "metadata": {},
   "source": [
    "Note: This script should process the main dataset after the normalization script runs over it. This is roughly the final step before converting the datasets into numpy arrays (or using them as dataframes as is if keras takes dataframes as input) for modelling."
   ]
  },
  {
   "cell_type": "markdown",
   "id": "0117305b",
   "metadata": {},
   "source": [
    "1. Imports"
   ]
  },
  {
   "cell_type": "code",
   "execution_count": 1,
   "id": "dc0eb743",
   "metadata": {
    "ExecuteTime": {
     "end_time": "2022-03-22T13:35:27.328605Z",
     "start_time": "2022-03-22T13:35:21.508407Z"
    }
   },
   "outputs": [
    {
     "name": "stdout",
     "output_type": "stream",
     "text": [
      "Welcome to JupyROOT 6.24/06\n"
     ]
    }
   ],
   "source": [
    "from replica_processor import *\n",
    "import random"
   ]
  },
  {
   "cell_type": "markdown",
   "id": "d6a60043",
   "metadata": {},
   "source": [
    "2. Load the main dataset"
   ]
  },
  {
   "cell_type": "code",
   "execution_count": 2,
   "id": "b3e6e482",
   "metadata": {
    "ExecuteTime": {
     "end_time": "2022-03-22T13:38:46.612136Z",
     "start_time": "2022-03-22T13:35:30.067397Z"
    }
   },
   "outputs": [
    {
     "data": {
      "text/html": [
       "<div>\n",
       "<style scoped>\n",
       "    .dataframe tbody tr th:only-of-type {\n",
       "        vertical-align: middle;\n",
       "    }\n",
       "\n",
       "    .dataframe tbody tr th {\n",
       "        vertical-align: top;\n",
       "    }\n",
       "\n",
       "    .dataframe thead th {\n",
       "        text-align: right;\n",
       "    }\n",
       "</style>\n",
       "<table border=\"1\" class=\"dataframe\">\n",
       "  <thead>\n",
       "    <tr style=\"text-align: right;\">\n",
       "      <th></th>\n",
       "      <th>paths</th>\n",
       "      <th>x</th>\n",
       "      <th>y</th>\n",
       "      <th>occ</th>\n",
       "      <th>ftag_id</th>\n",
       "      <th>hist_type</th>\n",
       "      <th>hist_id</th>\n",
       "      <th>quality</th>\n",
       "      <th>occ_0to1</th>\n",
       "      <th>occ_zscore</th>\n",
       "      <th>occ_robust</th>\n",
       "    </tr>\n",
       "  </thead>\n",
       "  <tbody>\n",
       "    <tr>\n",
       "      <th>0</th>\n",
       "      <td>run_363664/CaloMonitoring/ClusterMon/CaloCalTo...</td>\n",
       "      <td>0</td>\n",
       "      <td>0</td>\n",
       "      <td>3872943.0</td>\n",
       "      <td>0</td>\n",
       "      <td>0</td>\n",
       "      <td>0</td>\n",
       "      <td>1</td>\n",
       "      <td>0.084320</td>\n",
       "      <td>3.641077</td>\n",
       "      <td>1.564232</td>\n",
       "    </tr>\n",
       "    <tr>\n",
       "      <th>1</th>\n",
       "      <td>run_363664/CaloMonitoring/ClusterMon/CaloCalTo...</td>\n",
       "      <td>0</td>\n",
       "      <td>1</td>\n",
       "      <td>4551316.0</td>\n",
       "      <td>0</td>\n",
       "      <td>0</td>\n",
       "      <td>0</td>\n",
       "      <td>1</td>\n",
       "      <td>0.099089</td>\n",
       "      <td>4.307510</td>\n",
       "      <td>1.903885</td>\n",
       "    </tr>\n",
       "    <tr>\n",
       "      <th>2</th>\n",
       "      <td>run_363664/CaloMonitoring/ClusterMon/CaloCalTo...</td>\n",
       "      <td>0</td>\n",
       "      <td>2</td>\n",
       "      <td>0.0</td>\n",
       "      <td>0</td>\n",
       "      <td>0</td>\n",
       "      <td>0</td>\n",
       "      <td>0</td>\n",
       "      <td>0.000000</td>\n",
       "      <td>-0.163700</td>\n",
       "      <td>-0.374900</td>\n",
       "    </tr>\n",
       "    <tr>\n",
       "      <th>3</th>\n",
       "      <td>run_363664/CaloMonitoring/ClusterMon/CaloCalTo...</td>\n",
       "      <td>0</td>\n",
       "      <td>3</td>\n",
       "      <td>3610718.0</td>\n",
       "      <td>0</td>\n",
       "      <td>0</td>\n",
       "      <td>0</td>\n",
       "      <td>1</td>\n",
       "      <td>0.078611</td>\n",
       "      <td>3.383467</td>\n",
       "      <td>1.432940</td>\n",
       "    </tr>\n",
       "    <tr>\n",
       "      <th>4</th>\n",
       "      <td>run_363664/CaloMonitoring/ClusterMon/CaloCalTo...</td>\n",
       "      <td>0</td>\n",
       "      <td>4</td>\n",
       "      <td>0.0</td>\n",
       "      <td>0</td>\n",
       "      <td>0</td>\n",
       "      <td>0</td>\n",
       "      <td>0</td>\n",
       "      <td>0.000000</td>\n",
       "      <td>-0.163700</td>\n",
       "      <td>-0.374900</td>\n",
       "    </tr>\n",
       "    <tr>\n",
       "      <th>...</th>\n",
       "      <td>...</td>\n",
       "      <td>...</td>\n",
       "      <td>...</td>\n",
       "      <td>...</td>\n",
       "      <td>...</td>\n",
       "      <td>...</td>\n",
       "      <td>...</td>\n",
       "      <td>...</td>\n",
       "      <td>...</td>\n",
       "      <td>...</td>\n",
       "      <td>...</td>\n",
       "    </tr>\n",
       "    <tr>\n",
       "      <th>41235475</th>\n",
       "      <td>run_360402/CaloMonitoring/ClusterMon/LArCluste...</td>\n",
       "      <td>98</td>\n",
       "      <td>60</td>\n",
       "      <td>0.0</td>\n",
       "      <td>84</td>\n",
       "      <td>17</td>\n",
       "      <td>233</td>\n",
       "      <td>0</td>\n",
       "      <td>0.000000</td>\n",
       "      <td>-0.090706</td>\n",
       "      <td>-0.170740</td>\n",
       "    </tr>\n",
       "    <tr>\n",
       "      <th>41235476</th>\n",
       "      <td>run_360402/CaloMonitoring/ClusterMon/LArCluste...</td>\n",
       "      <td>98</td>\n",
       "      <td>61</td>\n",
       "      <td>0.0</td>\n",
       "      <td>84</td>\n",
       "      <td>17</td>\n",
       "      <td>233</td>\n",
       "      <td>0</td>\n",
       "      <td>0.000000</td>\n",
       "      <td>-0.090706</td>\n",
       "      <td>-0.170740</td>\n",
       "    </tr>\n",
       "    <tr>\n",
       "      <th>41235477</th>\n",
       "      <td>run_360402/CaloMonitoring/ClusterMon/LArCluste...</td>\n",
       "      <td>98</td>\n",
       "      <td>62</td>\n",
       "      <td>0.0</td>\n",
       "      <td>84</td>\n",
       "      <td>17</td>\n",
       "      <td>233</td>\n",
       "      <td>0</td>\n",
       "      <td>0.000000</td>\n",
       "      <td>-0.090706</td>\n",
       "      <td>-0.170740</td>\n",
       "    </tr>\n",
       "    <tr>\n",
       "      <th>41235478</th>\n",
       "      <td>run_360402/CaloMonitoring/ClusterMon/LArCluste...</td>\n",
       "      <td>98</td>\n",
       "      <td>63</td>\n",
       "      <td>78.0</td>\n",
       "      <td>84</td>\n",
       "      <td>17</td>\n",
       "      <td>233</td>\n",
       "      <td>1</td>\n",
       "      <td>0.006434</td>\n",
       "      <td>-0.090692</td>\n",
       "      <td>0.036157</td>\n",
       "    </tr>\n",
       "    <tr>\n",
       "      <th>41235479</th>\n",
       "      <td>run_360402/CaloMonitoring/ClusterMon/LArCluste...</td>\n",
       "      <td>98</td>\n",
       "      <td>64</td>\n",
       "      <td>0.0</td>\n",
       "      <td>84</td>\n",
       "      <td>17</td>\n",
       "      <td>233</td>\n",
       "      <td>0</td>\n",
       "      <td>0.000000</td>\n",
       "      <td>-0.090706</td>\n",
       "      <td>-0.170740</td>\n",
       "    </tr>\n",
       "  </tbody>\n",
       "</table>\n",
       "<p>41235480 rows × 11 columns</p>\n",
       "</div>"
      ],
      "text/plain": [
       "                                                      paths   x   y  \\\n",
       "0         run_363664/CaloMonitoring/ClusterMon/CaloCalTo...   0   0   \n",
       "1         run_363664/CaloMonitoring/ClusterMon/CaloCalTo...   0   1   \n",
       "2         run_363664/CaloMonitoring/ClusterMon/CaloCalTo...   0   2   \n",
       "3         run_363664/CaloMonitoring/ClusterMon/CaloCalTo...   0   3   \n",
       "4         run_363664/CaloMonitoring/ClusterMon/CaloCalTo...   0   4   \n",
       "...                                                     ...  ..  ..   \n",
       "41235475  run_360402/CaloMonitoring/ClusterMon/LArCluste...  98  60   \n",
       "41235476  run_360402/CaloMonitoring/ClusterMon/LArCluste...  98  61   \n",
       "41235477  run_360402/CaloMonitoring/ClusterMon/LArCluste...  98  62   \n",
       "41235478  run_360402/CaloMonitoring/ClusterMon/LArCluste...  98  63   \n",
       "41235479  run_360402/CaloMonitoring/ClusterMon/LArCluste...  98  64   \n",
       "\n",
       "                occ  ftag_id  hist_type  hist_id  quality  occ_0to1  \\\n",
       "0         3872943.0        0          0        0        1  0.084320   \n",
       "1         4551316.0        0          0        0        1  0.099089   \n",
       "2               0.0        0          0        0        0  0.000000   \n",
       "3         3610718.0        0          0        0        1  0.078611   \n",
       "4               0.0        0          0        0        0  0.000000   \n",
       "...             ...      ...        ...      ...      ...       ...   \n",
       "41235475        0.0       84         17      233        0  0.000000   \n",
       "41235476        0.0       84         17      233        0  0.000000   \n",
       "41235477        0.0       84         17      233        0  0.000000   \n",
       "41235478       78.0       84         17      233        1  0.006434   \n",
       "41235479        0.0       84         17      233        0  0.000000   \n",
       "\n",
       "          occ_zscore  occ_robust  \n",
       "0           3.641077    1.564232  \n",
       "1           4.307510    1.903885  \n",
       "2          -0.163700   -0.374900  \n",
       "3           3.383467    1.432940  \n",
       "4          -0.163700   -0.374900  \n",
       "...              ...         ...  \n",
       "41235475   -0.090706   -0.170740  \n",
       "41235476   -0.090706   -0.170740  \n",
       "41235477   -0.090706   -0.170740  \n",
       "41235478   -0.090692    0.036157  \n",
       "41235479   -0.090706   -0.170740  \n",
       "\n",
       "[41235480 rows x 11 columns]"
      ]
     },
     "execution_count": 2,
     "metadata": {},
     "output_type": "execute_result"
    }
   ],
   "source": [
    "df = pd.read_csv('normed_anoms2.csv', dtype={'x':'int8','y':'int8','ftag_id':'int8','occ':'float32','hist_type':'int8','hist_id':'int16','quality':'int8','occ_0to1':'float32','occ_zscore':'float32','occ_robust':'float32'})\n",
    "df"
   ]
  },
  {
   "cell_type": "markdown",
   "id": "6c8236a2",
   "metadata": {},
   "source": [
    "3. Define the processing function "
   ]
  },
  {
   "cell_type": "code",
   "execution_count": 3,
   "id": "ab76dcc7",
   "metadata": {
    "ExecuteTime": {
     "end_time": "2022-03-22T13:39:03.229036Z",
     "start_time": "2022-03-22T13:39:03.116455Z"
    }
   },
   "outputs": [],
   "source": [
    "def full_hist_split(main_dfs,train_set_pct):\n",
    "    \"\"\"\n",
    "    On about 27million datapoints, took only 6-7mins\n",
    "    \n",
    "    Example Use:\n",
    "        x_train,x_test = full_hist_split(main_dfs,.67)\n",
    "    \"\"\"\n",
    "    \n",
    "    try:\n",
    "        del x_train_df\n",
    "        del x_test_df\n",
    "    except:\n",
    "        pass\n",
    "\n",
    "    for idf,ftid in enumerate(main_dfs['ftag_id'].unique()):\n",
    "\n",
    "        # Progress\n",
    "        progress_bar(idf,main_dfs['ftag_id'].unique())\n",
    "\n",
    "        # Initialize randomized hist index lists\n",
    "        rand_train_list = []\n",
    "        rand_test_list = []\n",
    "\n",
    "        print('setting up mask1 datapoints...')\n",
    "        mask1 = main_dfs['ftag_id'] == ftid\n",
    "        tmp = main_dfs.loc[mask1,:]\n",
    "\n",
    "        # Gen rand_train_list for train_set\n",
    "        print('generating rand_list...')\n",
    "        while len(rand_train_list) < round(train_set_pct*len(tmp['hist_id'].unique())):\n",
    "            rand_num = random.randint(0,len(tmp['hist_id'].unique())-1)\n",
    "            if rand_num in rand_train_list:\n",
    "                continue\n",
    "            rand_train_list.append(rand_num)\n",
    "\n",
    "        # Gen rand_test_list for train_set\n",
    "        while len(rand_test_list) < round((1-train_set_pct)*len(tmp['hist_id'].unique())):\n",
    "            rand_num = random.randint(0,len(tmp['hist_id'].unique())-1)\n",
    "            if rand_num in rand_train_list or rand_num in rand_test_list:\n",
    "                continue\n",
    "            rand_test_list.append(rand_num)\n",
    "\n",
    "        # Build the training set\n",
    "        \n",
    "        print('setting up mask2 datapoints...')\n",
    "        mask2 = tmp['hist_id'].isin(rand_train_list)\n",
    "        tmp2 = tmp.loc[mask2,:]\n",
    "        \n",
    "        print('updating dataframe...')\n",
    "        try:\n",
    "            x_train_df = pd.concat([x_train_df,tmp2])\n",
    "        except:\n",
    "            x_train_df = tmp2\n",
    "\n",
    "        # Build the test set\n",
    "        \n",
    "        print('setting up mask2 datapoints...')\n",
    "        mask2 = tmp['hist_id'].isin(rand_test_list)\n",
    "        tmp2 = tmp.loc[mask2,:]\n",
    "        \n",
    "        print('updating dataframe...')\n",
    "        try:\n",
    "            x_test_df = pd.concat([x_test_df,tmp2])\n",
    "        except:\n",
    "            x_test_df = tmp2\n",
    "            \n",
    "    return x_train_df, x_test_df"
   ]
  },
  {
   "cell_type": "markdown",
   "id": "2d02fd9d",
   "metadata": {},
   "source": [
    "4. split the hists with the function and set parameters"
   ]
  },
  {
   "cell_type": "code",
   "execution_count": 4,
   "id": "4ef43033",
   "metadata": {
    "ExecuteTime": {
     "end_time": "2022-03-22T13:53:15.433238Z",
     "start_time": "2022-03-22T13:39:20.157458Z"
    }
   },
   "outputs": [
    {
     "name": "stdout",
     "output_type": "stream",
     "text": [
      "Processing file 83 of 83 files... 100.0% Complete\n",
      "setting up mask1 datapoints...\n",
      "generating rand_list...\n",
      "setting up mask2 datapoints...\n",
      "updating dataframe...\n",
      "setting up mask2 datapoints...\n",
      "updating dataframe...\n"
     ]
    }
   ],
   "source": [
    "x_train_df,x_test_df = full_hist_split(df,.67)"
   ]
  },
  {
   "cell_type": "markdown",
   "id": "7db9aae3",
   "metadata": {},
   "source": [
    "5. View and verify the result"
   ]
  },
  {
   "cell_type": "code",
   "execution_count": 5,
   "id": "b8d813ec",
   "metadata": {
    "ExecuteTime": {
     "end_time": "2022-03-22T13:56:17.523983Z",
     "start_time": "2022-03-22T13:56:16.978723Z"
    }
   },
   "outputs": [
    {
     "data": {
      "text/plain": [
       "0    21501056\n",
       "1     6092224\n",
       "Name: quality, dtype: int64"
      ]
     },
     "execution_count": 5,
     "metadata": {},
     "output_type": "execute_result"
    }
   ],
   "source": [
    "x_train_df['quality'].value_counts()"
   ]
  },
  {
   "cell_type": "code",
   "execution_count": 6,
   "id": "446e2479",
   "metadata": {
    "ExecuteTime": {
     "end_time": "2022-03-22T13:56:28.990914Z",
     "start_time": "2022-03-22T13:56:28.664161Z"
    }
   },
   "outputs": [
    {
     "data": {
      "text/plain": [
       "0    10587865\n",
       "1     3054335\n",
       "Name: quality, dtype: int64"
      ]
     },
     "execution_count": 6,
     "metadata": {},
     "output_type": "execute_result"
    }
   ],
   "source": [
    "x_test_df['quality'].value_counts()"
   ]
  },
  {
   "cell_type": "code",
   "execution_count": 7,
   "id": "798c0305",
   "metadata": {
    "ExecuteTime": {
     "end_time": "2022-03-22T13:57:00.038400Z",
     "start_time": "2022-03-22T13:56:43.564132Z"
    }
   },
   "outputs": [
    {
     "data": {
      "text/plain": [
       "69"
      ]
     },
     "execution_count": 7,
     "metadata": {},
     "output_type": "execute_result"
    }
   ],
   "source": [
    "# How many histograms do we have that are invalid (all occ values are 0)\n",
    "cnt=0\n",
    "for ftag in x_train_df['ftag_id'].unique():\n",
    "    tmp = x_train_df[x_train_df['ftag_id']==ftag]\n",
    "    for histid in x_train_df[x_train_df['ftag_id']==ftag]['hist_id'].unique():\n",
    "        tmp2 = tmp[tmp['hist_id']==histid]\n",
    "        if len(tmp2['occ'].value_counts().values)==1:\n",
    "            cnt+=1\n",
    "#             print(ftag,histid)\n",
    "#             input_heatmap(x_train_noanom_df,ftag,histid)\n",
    "#             plt.show()\n",
    "cnt"
   ]
  },
  {
   "cell_type": "code",
   "execution_count": 8,
   "id": "0a2fe571",
   "metadata": {
    "ExecuteTime": {
     "end_time": "2022-03-22T13:57:13.247298Z",
     "start_time": "2022-03-22T13:57:05.570099Z"
    }
   },
   "outputs": [
    {
     "data": {
      "text/plain": [
       "27"
      ]
     },
     "execution_count": 8,
     "metadata": {},
     "output_type": "execute_result"
    }
   ],
   "source": [
    "# How many histograms do we have that are invalid (all occ values are 0) for the test set\n",
    "cnt=0\n",
    "for ftag in x_test_df['ftag_id'].unique():\n",
    "    tmp = x_test_df[x_test_df['ftag_id']==ftag]\n",
    "    for histid in x_test_df[x_test_df['ftag_id']==ftag]['hist_id'].unique():\n",
    "        tmp2 = tmp[tmp['hist_id']==histid]\n",
    "        if len(tmp2['occ'].value_counts().values)==1:\n",
    "            cnt+=1\n",
    "#             print(ftag,histid)\n",
    "#             input_heatmap(x_train_noanom_df,ftag,histid)\n",
    "#             plt.show()\n",
    "cnt"
   ]
  },
  {
   "cell_type": "code",
   "execution_count": 9,
   "id": "12194e36",
   "metadata": {
    "ExecuteTime": {
     "end_time": "2022-03-22T13:57:36.067732Z",
     "start_time": "2022-03-22T13:57:19.480178Z"
    }
   },
   "outputs": [
    {
     "data": {
      "text/plain": [
       "6408"
      ]
     },
     "execution_count": 9,
     "metadata": {},
     "output_type": "execute_result"
    }
   ],
   "source": [
    "# How many histograms total do we have in this dataset\n",
    "cnt=0\n",
    "for ftag in df['ftag_id'].unique():\n",
    "    tmp = df[df['ftag_id']==ftag]\n",
    "    for histid in tmp[tmp['ftag_id']==ftag]['hist_id'].unique():\n",
    "        tmp2 = tmp[tmp['hist_id']==histid]\n",
    "        cnt+=1\n",
    "cnt"
   ]
  },
  {
   "cell_type": "code",
   "execution_count": 10,
   "id": "29affcf5",
   "metadata": {
    "ExecuteTime": {
     "end_time": "2022-03-22T13:57:41.666979Z",
     "start_time": "2022-03-22T13:57:41.552095Z"
    }
   },
   "outputs": [],
   "source": [
    "def input_heatmap(df,ftag_id,hist_id):\n",
    "    tmp = df[df['ftag_id']==ftag_id]\n",
    "    tmp = tmp[tmp['hist_id']==hist_id]\n",
    "    sns.heatmap( tmp.pivot_table(index='y',columns='x',values='occ') )"
   ]
  },
  {
   "cell_type": "code",
   "execution_count": 12,
   "id": "bb5ba31c",
   "metadata": {
    "ExecuteTime": {
     "end_time": "2022-03-22T13:57:51.806978Z",
     "start_time": "2022-03-22T13:57:51.042087Z"
    }
   },
   "outputs": [
    {
     "data": {
      "application/javascript": [
       "\n",
       "        if (window._pyforest_update_imports_cell) { window._pyforest_update_imports_cell('from sklearn.linear_model import LogisticRegression\\nfrom sklearn.feature_extraction.text import CountVectorizer\\nfrom sklearn.cluster import KMeans\\nfrom sklearn.preprocessing import MinMaxScaler\\nfrom sklearn.ensemble import GradientBoostingClassifier\\nfrom statsmodels.tsa.arima_model import ARIMA\\nfrom sklearn.linear_model import ElasticNetCV\\nfrom sklearn.preprocessing import OneHotEncoder\\nfrom sklearn.linear_model import Lasso\\nfrom sklearn.preprocessing import PolynomialFeatures\\nfrom sklearn.decomposition import PCA\\nfrom sklearn.model_selection import GridSearchCV\\nimport seaborn as sns\\nfrom sklearn.linear_model import ElasticNet\\nfrom sklearn.ensemble import GradientBoostingRegressor\\nfrom pathlib import Path\\nfrom sklearn.model_selection import KFold\\nfrom sklearn.preprocessing import LabelEncoder\\nfrom sklearn.linear_model import LassoCV\\nfrom PIL import Image\\nfrom sklearn.linear_model import LinearRegression'); }\n",
       "    "
      ],
      "text/plain": [
       "<IPython.core.display.Javascript object>"
      ]
     },
     "metadata": {},
     "output_type": "display_data"
    },
    {
     "data": {
      "image/png": "[encoded data removed]",
      "text/plain": [
       "<Figure size 432x288 with 2 Axes>"
      ]
     },
     "metadata": {
      "needs_background": "light"
     },
     "output_type": "display_data"
    }
   ],
   "source": [
    "input_heatmap(x_test_df,0,0)"
   ]
  },
  {
   "cell_type": "markdown",
   "id": "e4587c25",
   "metadata": {},
   "source": [
    "6. Save results"
   ]
  },
  {
   "cell_type": "code",
   "execution_count": 13,
   "id": "71534004",
   "metadata": {
    "ExecuteTime": {
     "end_time": "2022-03-22T14:06:35.107172Z",
     "start_time": "2022-03-22T13:58:10.499092Z"
    }
   },
   "outputs": [],
   "source": [
    "x_train_df.to_csv('x_train_df2.csv',index=False)\n",
    "x_test_df.to_csv('x_test_df2.csv',index=False)"
   ]
  }
 ],
 "metadata": {
  "kernelspec": {
   "display_name": "Python 3",
   "language": "python",
   "name": "python3"
  },
  "language_info": {
   "codemirror_mode": {
    "name": "ipython",
    "version": 3
   },
   "file_extension": ".py",
   "mimetype": "text/x-python",
   "name": "python",
   "nbconvert_exporter": "python",
   "pygments_lexer": "ipython3",
   "version": "3.9.6"
  },
  "varInspector": {
   "cols": {
    "lenName": 16,
    "lenType": 16,
    "lenVar": 40
   },
   "kernels_config": {
    "python": {
     "delete_cmd_postfix": "",
     "delete_cmd_prefix": "del ",
     "library": "var_list.py",
     "varRefreshCmd": "print(var_dic_list())"
    },
    "r": {
     "delete_cmd_postfix": ") ",
     "delete_cmd_prefix": "rm(",
     "library": "var_list.r",
     "varRefreshCmd": "cat(var_dic_list()) "
    }
   },
   "types_to_exclude": [
    "module",
    "function",
    "builtin_function_or_method",
    "instance",
    "_Feature"
   ],
   "window_display": false
  }
 },
 "nbformat": 4,
 "nbformat_minor": 5
}
