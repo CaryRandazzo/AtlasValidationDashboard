{
 "cells": [
  {
   "cell_type": "code",
   "execution_count": 4,
   "id": "7931af09",
   "metadata": {
    "ExecuteTime": {
     "end_time": "2022-02-24T01:17:53.241177Z",
     "start_time": "2022-02-24T01:17:53.136571Z"
    }
   },
   "outputs": [],
   "source": [
    "from replica_processor import *\n",
    "import random"
   ]
  },
  {
   "cell_type": "code",
   "execution_count": 5,
   "id": "a4217b43",
   "metadata": {
    "ExecuteTime": {
     "end_time": "2022-02-24T01:18:53.008590Z",
     "start_time": "2022-02-24T01:17:55.652495Z"
    }
   },
   "outputs": [
    {
     "data": {
      "text/html": [
       "<div>\n",
       "<style scoped>\n",
       "    .dataframe tbody tr th:only-of-type {\n",
       "        vertical-align: middle;\n",
       "    }\n",
       "\n",
       "    .dataframe tbody tr th {\n",
       "        vertical-align: top;\n",
       "    }\n",
       "\n",
       "    .dataframe thead th {\n",
       "        text-align: right;\n",
       "    }\n",
       "</style>\n",
       "<table border=\"1\" class=\"dataframe\">\n",
       "  <thead>\n",
       "    <tr style=\"text-align: right;\">\n",
       "      <th></th>\n",
       "      <th>paths</th>\n",
       "      <th>x</th>\n",
       "      <th>y</th>\n",
       "      <th>occ</th>\n",
       "      <th>ftag_id</th>\n",
       "      <th>hist_type</th>\n",
       "      <th>hist_id</th>\n",
       "      <th>occ_0to1</th>\n",
       "      <th>occ_zscore</th>\n",
       "      <th>occ_robust</th>\n",
       "      <th>quality</th>\n",
       "    </tr>\n",
       "  </thead>\n",
       "  <tbody>\n",
       "    <tr>\n",
       "      <th>0</th>\n",
       "      <td>run_363664/CaloMonitoring/ClusterMon/CaloCalTo...</td>\n",
       "      <td>0</td>\n",
       "      <td>0</td>\n",
       "      <td>0.0</td>\n",
       "      <td>0</td>\n",
       "      <td>0</td>\n",
       "      <td>0</td>\n",
       "      <td>0.0</td>\n",
       "      <td>-0.149630</td>\n",
       "      <td>-0.241575</td>\n",
       "      <td>0</td>\n",
       "    </tr>\n",
       "    <tr>\n",
       "      <th>1</th>\n",
       "      <td>run_363664/CaloMonitoring/ClusterMon/CaloCalTo...</td>\n",
       "      <td>0</td>\n",
       "      <td>1</td>\n",
       "      <td>0.0</td>\n",
       "      <td>0</td>\n",
       "      <td>0</td>\n",
       "      <td>0</td>\n",
       "      <td>0.0</td>\n",
       "      <td>-0.149630</td>\n",
       "      <td>-0.241575</td>\n",
       "      <td>0</td>\n",
       "    </tr>\n",
       "    <tr>\n",
       "      <th>2</th>\n",
       "      <td>run_363664/CaloMonitoring/ClusterMon/CaloCalTo...</td>\n",
       "      <td>0</td>\n",
       "      <td>2</td>\n",
       "      <td>0.0</td>\n",
       "      <td>0</td>\n",
       "      <td>0</td>\n",
       "      <td>0</td>\n",
       "      <td>0.0</td>\n",
       "      <td>-0.149630</td>\n",
       "      <td>-0.241575</td>\n",
       "      <td>0</td>\n",
       "    </tr>\n",
       "    <tr>\n",
       "      <th>3</th>\n",
       "      <td>run_363664/CaloMonitoring/ClusterMon/CaloCalTo...</td>\n",
       "      <td>0</td>\n",
       "      <td>3</td>\n",
       "      <td>0.0</td>\n",
       "      <td>0</td>\n",
       "      <td>0</td>\n",
       "      <td>0</td>\n",
       "      <td>0.0</td>\n",
       "      <td>-0.149630</td>\n",
       "      <td>-0.241575</td>\n",
       "      <td>0</td>\n",
       "    </tr>\n",
       "    <tr>\n",
       "      <th>4</th>\n",
       "      <td>run_363664/CaloMonitoring/ClusterMon/CaloCalTo...</td>\n",
       "      <td>0</td>\n",
       "      <td>4</td>\n",
       "      <td>0.0</td>\n",
       "      <td>0</td>\n",
       "      <td>0</td>\n",
       "      <td>0</td>\n",
       "      <td>0.0</td>\n",
       "      <td>-0.149630</td>\n",
       "      <td>-0.241575</td>\n",
       "      <td>0</td>\n",
       "    </tr>\n",
       "    <tr>\n",
       "      <th>...</th>\n",
       "      <td>...</td>\n",
       "      <td>...</td>\n",
       "      <td>...</td>\n",
       "      <td>...</td>\n",
       "      <td>...</td>\n",
       "      <td>...</td>\n",
       "      <td>...</td>\n",
       "      <td>...</td>\n",
       "      <td>...</td>\n",
       "      <td>...</td>\n",
       "      <td>...</td>\n",
       "    </tr>\n",
       "    <tr>\n",
       "      <th>41235475</th>\n",
       "      <td>run_360402/CaloMonitoring/ClusterMon/LArCluste...</td>\n",
       "      <td>98</td>\n",
       "      <td>60</td>\n",
       "      <td>0.0</td>\n",
       "      <td>84</td>\n",
       "      <td>17</td>\n",
       "      <td>233</td>\n",
       "      <td>0.0</td>\n",
       "      <td>-0.173805</td>\n",
       "      <td>-0.889612</td>\n",
       "      <td>0</td>\n",
       "    </tr>\n",
       "    <tr>\n",
       "      <th>41235476</th>\n",
       "      <td>run_360402/CaloMonitoring/ClusterMon/LArCluste...</td>\n",
       "      <td>98</td>\n",
       "      <td>61</td>\n",
       "      <td>0.0</td>\n",
       "      <td>84</td>\n",
       "      <td>17</td>\n",
       "      <td>233</td>\n",
       "      <td>0.0</td>\n",
       "      <td>-0.173805</td>\n",
       "      <td>-0.889612</td>\n",
       "      <td>0</td>\n",
       "    </tr>\n",
       "    <tr>\n",
       "      <th>41235477</th>\n",
       "      <td>run_360402/CaloMonitoring/ClusterMon/LArCluste...</td>\n",
       "      <td>98</td>\n",
       "      <td>62</td>\n",
       "      <td>0.0</td>\n",
       "      <td>84</td>\n",
       "      <td>17</td>\n",
       "      <td>233</td>\n",
       "      <td>0.0</td>\n",
       "      <td>-0.173805</td>\n",
       "      <td>-0.889612</td>\n",
       "      <td>0</td>\n",
       "    </tr>\n",
       "    <tr>\n",
       "      <th>41235478</th>\n",
       "      <td>run_360402/CaloMonitoring/ClusterMon/LArCluste...</td>\n",
       "      <td>98</td>\n",
       "      <td>63</td>\n",
       "      <td>0.0</td>\n",
       "      <td>84</td>\n",
       "      <td>17</td>\n",
       "      <td>233</td>\n",
       "      <td>0.0</td>\n",
       "      <td>-0.173805</td>\n",
       "      <td>-0.889612</td>\n",
       "      <td>0</td>\n",
       "    </tr>\n",
       "    <tr>\n",
       "      <th>41235479</th>\n",
       "      <td>run_360402/CaloMonitoring/ClusterMon/LArCluste...</td>\n",
       "      <td>98</td>\n",
       "      <td>64</td>\n",
       "      <td>0.0</td>\n",
       "      <td>84</td>\n",
       "      <td>17</td>\n",
       "      <td>233</td>\n",
       "      <td>0.0</td>\n",
       "      <td>-0.173805</td>\n",
       "      <td>-0.889612</td>\n",
       "      <td>0</td>\n",
       "    </tr>\n",
       "  </tbody>\n",
       "</table>\n",
       "<p>41235480 rows × 11 columns</p>\n",
       "</div>"
      ],
      "text/plain": [
       "                                                      paths   x   y  occ  \\\n",
       "0         run_363664/CaloMonitoring/ClusterMon/CaloCalTo...   0   0  0.0   \n",
       "1         run_363664/CaloMonitoring/ClusterMon/CaloCalTo...   0   1  0.0   \n",
       "2         run_363664/CaloMonitoring/ClusterMon/CaloCalTo...   0   2  0.0   \n",
       "3         run_363664/CaloMonitoring/ClusterMon/CaloCalTo...   0   3  0.0   \n",
       "4         run_363664/CaloMonitoring/ClusterMon/CaloCalTo...   0   4  0.0   \n",
       "...                                                     ...  ..  ..  ...   \n",
       "41235475  run_360402/CaloMonitoring/ClusterMon/LArCluste...  98  60  0.0   \n",
       "41235476  run_360402/CaloMonitoring/ClusterMon/LArCluste...  98  61  0.0   \n",
       "41235477  run_360402/CaloMonitoring/ClusterMon/LArCluste...  98  62  0.0   \n",
       "41235478  run_360402/CaloMonitoring/ClusterMon/LArCluste...  98  63  0.0   \n",
       "41235479  run_360402/CaloMonitoring/ClusterMon/LArCluste...  98  64  0.0   \n",
       "\n",
       "          ftag_id  hist_type  hist_id  occ_0to1  occ_zscore  occ_robust  \\\n",
       "0               0          0        0       0.0   -0.149630   -0.241575   \n",
       "1               0          0        0       0.0   -0.149630   -0.241575   \n",
       "2               0          0        0       0.0   -0.149630   -0.241575   \n",
       "3               0          0        0       0.0   -0.149630   -0.241575   \n",
       "4               0          0        0       0.0   -0.149630   -0.241575   \n",
       "...           ...        ...      ...       ...         ...         ...   \n",
       "41235475       84         17      233       0.0   -0.173805   -0.889612   \n",
       "41235476       84         17      233       0.0   -0.173805   -0.889612   \n",
       "41235477       84         17      233       0.0   -0.173805   -0.889612   \n",
       "41235478       84         17      233       0.0   -0.173805   -0.889612   \n",
       "41235479       84         17      233       0.0   -0.173805   -0.889612   \n",
       "\n",
       "          quality  \n",
       "0               0  \n",
       "1               0  \n",
       "2               0  \n",
       "3               0  \n",
       "4               0  \n",
       "...           ...  \n",
       "41235475        0  \n",
       "41235476        0  \n",
       "41235477        0  \n",
       "41235478        0  \n",
       "41235479        0  \n",
       "\n",
       "[41235480 rows x 11 columns]"
      ]
     },
     "execution_count": 5,
     "metadata": {},
     "output_type": "execute_result"
    }
   ],
   "source": [
    "df = pd.read_csv('normed_nonanoms.csv', dtype={'x':'int8','y':'int8','ftag_id':'int8','occ':'float32','hist_type':'int8','hist_id':'int16','quality':'int8','occ_0to1':'float32','occ_zscore':'float32','occ_robust':'float32'})\n",
    "df"
   ]
  },
  {
   "cell_type": "code",
   "execution_count": 6,
   "id": "f6ff0039",
   "metadata": {
    "ExecuteTime": {
     "end_time": "2022-02-24T01:33:13.587402Z",
     "start_time": "2022-02-24T01:33:13.472735Z"
    }
   },
   "outputs": [],
   "source": [
    "def full_hist_split(main_dfs,train_set_pct):\n",
    "    \"\"\"\n",
    "    On about 27million datapoints, took only 6-7mins\n",
    "    \n",
    "    Example Use:\n",
    "        x_train,x_test = full_hist_split(main_dfs,.67)\n",
    "    \"\"\"\n",
    "    \n",
    "    try:\n",
    "        del x_train_df\n",
    "        del x_test_df\n",
    "    except:\n",
    "        pass\n",
    "\n",
    "    for idf,ftid in enumerate(main_dfs['ftag_id'].unique()):\n",
    "\n",
    "        # Progress\n",
    "        progress_bar(idf,main_dfs['ftag_id'].unique())\n",
    "\n",
    "        # Initialize randomized hist index lists\n",
    "        rand_train_list = []\n",
    "        rand_test_list = []\n",
    "\n",
    "        print('setting up mask1 datapoints...')\n",
    "        mask1 = main_dfs['ftag_id'] == ftid\n",
    "        tmp = main_dfs.loc[mask1,:]\n",
    "\n",
    "        # Gen rand_train_list for train_set\n",
    "        print('generating rand_list...')\n",
    "        while len(rand_train_list) < round(train_set_pct*len(tmp['hist_id'].unique())):\n",
    "            rand_num = random.randint(0,len(tmp['hist_id'].unique())-1)\n",
    "            if rand_num in rand_train_list:\n",
    "                continue\n",
    "            rand_train_list.append(rand_num)\n",
    "\n",
    "        # Gen rand_test_list for train_set\n",
    "        while len(rand_test_list) < round((1-train_set_pct)*len(tmp['hist_id'].unique())):\n",
    "            rand_num = random.randint(0,len(tmp['hist_id'].unique())-1)\n",
    "            if rand_num in rand_train_list or rand_num in rand_test_list:\n",
    "                continue\n",
    "            rand_test_list.append(rand_num)\n",
    "\n",
    "        # Build the training set\n",
    "        \n",
    "        print('setting up mask2 datapoints...')\n",
    "        mask2 = tmp['hist_id'].isin(rand_train_list)\n",
    "        tmp2 = tmp.loc[mask2,:]\n",
    "        \n",
    "        print('updating dataframe...')\n",
    "        try:\n",
    "            x_train_df = pd.concat([x_train_df,tmp2])\n",
    "        except:\n",
    "            x_train_df = tmp2\n",
    "\n",
    "        # Build the test set\n",
    "        \n",
    "        print('setting up mask2 datapoints...')\n",
    "        mask2 = tmp['hist_id'].isin(rand_test_list)\n",
    "        tmp2 = tmp.loc[mask2,:]\n",
    "        \n",
    "        print('updating dataframe...')\n",
    "        try:\n",
    "            x_test_df = pd.concat([x_test_df,tmp2])\n",
    "        except:\n",
    "            x_test_df = tmp2\n",
    "            \n",
    "    return x_train_df, x_test_df"
   ]
  },
  {
   "cell_type": "code",
   "execution_count": 7,
   "id": "1702e576",
   "metadata": {
    "ExecuteTime": {
     "end_time": "2022-02-24T01:45:17.057647Z",
     "start_time": "2022-02-24T01:33:16.816314Z"
    }
   },
   "outputs": [
    {
     "name": "stdout",
     "output_type": "stream",
     "text": [
      "Processing file 83 of 83 files... 100.0% Complete\n",
      "setting up mask1 datapoints...\n",
      "generating rand_list...\n",
      "setting up mask2 datapoints...\n",
      "updating dataframe...\n",
      "setting up mask2 datapoints...\n",
      "updating dataframe...\n"
     ]
    }
   ],
   "source": [
    "x_train_noanom_df,x_test_noanom_df = full_hist_split(df,.67)"
   ]
  },
  {
   "cell_type": "code",
   "execution_count": 8,
   "id": "7e27d2cb",
   "metadata": {
    "ExecuteTime": {
     "end_time": "2022-02-24T01:45:59.541982Z",
     "start_time": "2022-02-24T01:45:58.962456Z"
    }
   },
   "outputs": [
    {
     "data": {
      "text/plain": [
       "0    27593280\n",
       "Name: quality, dtype: int64"
      ]
     },
     "execution_count": 8,
     "metadata": {},
     "output_type": "execute_result"
    }
   ],
   "source": [
    "x_train_noanom_df['quality'].value_counts()"
   ]
  },
  {
   "cell_type": "code",
   "execution_count": 9,
   "id": "d07d6911",
   "metadata": {
    "ExecuteTime": {
     "end_time": "2022-02-24T01:46:06.508177Z",
     "start_time": "2022-02-24T01:46:06.220074Z"
    }
   },
   "outputs": [
    {
     "data": {
      "text/plain": [
       "0    13642200\n",
       "Name: quality, dtype: int64"
      ]
     },
     "execution_count": 9,
     "metadata": {},
     "output_type": "execute_result"
    }
   ],
   "source": [
    "x_test_noanom_df['quality'].value_counts()"
   ]
  },
  {
   "cell_type": "code",
   "execution_count": 10,
   "id": "1765f925",
   "metadata": {
    "ExecuteTime": {
     "end_time": "2022-02-24T01:46:14.254632Z",
     "start_time": "2022-02-24T01:46:13.089956Z"
    }
   },
   "outputs": [
    {
     "data": {
      "text/html": [
       "<div>\n",
       "<style scoped>\n",
       "    .dataframe tbody tr th:only-of-type {\n",
       "        vertical-align: middle;\n",
       "    }\n",
       "\n",
       "    .dataframe tbody tr th {\n",
       "        vertical-align: top;\n",
       "    }\n",
       "\n",
       "    .dataframe thead th {\n",
       "        text-align: right;\n",
       "    }\n",
       "</style>\n",
       "<table border=\"1\" class=\"dataframe\">\n",
       "  <thead>\n",
       "    <tr style=\"text-align: right;\">\n",
       "      <th></th>\n",
       "      <th>paths</th>\n",
       "      <th>x</th>\n",
       "      <th>y</th>\n",
       "      <th>occ</th>\n",
       "      <th>ftag_id</th>\n",
       "      <th>hist_type</th>\n",
       "      <th>hist_id</th>\n",
       "      <th>occ_0to1</th>\n",
       "      <th>occ_zscore</th>\n",
       "      <th>occ_robust</th>\n",
       "      <th>quality</th>\n",
       "    </tr>\n",
       "  </thead>\n",
       "  <tbody>\n",
       "  </tbody>\n",
       "</table>\n",
       "</div>"
      ],
      "text/plain": [
       "Empty DataFrame\n",
       "Columns: [paths, x, y, occ, ftag_id, hist_type, hist_id, occ_0to1, occ_zscore, occ_robust, quality]\n",
       "Index: []"
      ]
     },
     "execution_count": 10,
     "metadata": {},
     "output_type": "execute_result"
    }
   ],
   "source": [
    "tmp = x_train_noanom_df[x_train_noanom_df['quality']==1]\n",
    "tmp = tmp[tmp['ftag_id']==7]\n",
    "tmp = tmp[tmp['hist_id']==2]\n",
    "tmp"
   ]
  },
  {
   "cell_type": "code",
   "execution_count": 54,
   "id": "edbd2132",
   "metadata": {
    "ExecuteTime": {
     "end_time": "2022-02-24T03:33:58.599388Z",
     "start_time": "2022-02-24T03:33:43.120769Z"
    },
    "scrolled": true
   },
   "outputs": [
    {
     "data": {
      "text/plain": [
       "123"
      ]
     },
     "execution_count": 54,
     "metadata": {},
     "output_type": "execute_result"
    }
   ],
   "source": [
    "# How many histograms do we have that are invalid (all occ values are 0)\n",
    "cnt=0\n",
    "for ftag in x_train_noanom_df['ftag_id'].unique():\n",
    "    tmp = x_train_noanom_df[x_train_noanom_df['ftag_id']==ftag]\n",
    "    for histid in x_train_noanom_df[x_train_noanom_df['ftag_id']==ftag]['hist_id'].unique():\n",
    "        tmp2 = tmp[tmp['hist_id']==histid]\n",
    "        if len(tmp2['occ'].value_counts().values)==1:\n",
    "            cnt+=1\n",
    "#             print(ftag,histid)\n",
    "#             input_heatmap(x_train_noanom_df,ftag,histid)\n",
    "#             plt.show()\n",
    "cnt"
   ]
  },
  {
   "cell_type": "code",
   "execution_count": 55,
   "id": "0a914c03",
   "metadata": {
    "ExecuteTime": {
     "end_time": "2022-02-24T03:35:03.516066Z",
     "start_time": "2022-02-24T03:34:55.638513Z"
    }
   },
   "outputs": [
    {
     "data": {
      "text/plain": [
       "57"
      ]
     },
     "execution_count": 55,
     "metadata": {},
     "output_type": "execute_result"
    }
   ],
   "source": [
    "# How many histograms do we have that are invalid (all occ values are 0) for the test set\n",
    "cnt=0\n",
    "for ftag in x_test_noanom_df['ftag_id'].unique():\n",
    "    tmp = x_test_noanom_df[x_test_noanom_df['ftag_id']==ftag]\n",
    "    for histid in x_test_noanom_df[x_test_noanom_df['ftag_id']==ftag]['hist_id'].unique():\n",
    "        tmp2 = tmp[tmp['hist_id']==histid]\n",
    "        if len(tmp2['occ'].value_counts().values)==1:\n",
    "            cnt+=1\n",
    "#             print(ftag,histid)\n",
    "#             input_heatmap(x_train_noanom_df,ftag,histid)\n",
    "#             plt.show()\n",
    "cnt"
   ]
  },
  {
   "cell_type": "code",
   "execution_count": 58,
   "id": "21313efa",
   "metadata": {
    "ExecuteTime": {
     "end_time": "2022-02-24T03:36:37.113003Z",
     "start_time": "2022-02-24T03:36:20.895241Z"
    }
   },
   "outputs": [
    {
     "data": {
      "text/plain": [
       "6408"
      ]
     },
     "execution_count": 58,
     "metadata": {},
     "output_type": "execute_result"
    }
   ],
   "source": [
    "# How many histograms total do we have in this dataset\n",
    "cnt=0\n",
    "for ftag in df['ftag_id'].unique():\n",
    "    tmp = df[df['ftag_id']==ftag]\n",
    "    for histid in tmp[tmp['ftag_id']==ftag]['hist_id'].unique():\n",
    "        tmp2 = tmp[tmp['hist_id']==histid]\n",
    "        cnt+=1\n",
    "cnt"
   ]
  },
  {
   "cell_type": "code",
   "execution_count": 11,
   "id": "d78664e0",
   "metadata": {
    "ExecuteTime": {
     "end_time": "2022-02-24T01:46:17.569357Z",
     "start_time": "2022-02-24T01:46:17.463415Z"
    }
   },
   "outputs": [],
   "source": [
    "def input_heatmap(df,ftag_id,hist_id):\n",
    "    tmp = df[df['ftag_id']==ftag_id]\n",
    "    tmp = tmp[tmp['hist_id']==hist_id]\n",
    "    sns.heatmap( tmp.pivot_table(index='y',columns='x',values='occ') )"
   ]
  },
  {
   "cell_type": "code",
   "execution_count": 40,
   "id": "53e2d598",
   "metadata": {
    "ExecuteTime": {
     "end_time": "2022-02-24T02:19:53.098958Z",
     "start_time": "2022-02-24T02:19:52.431629Z"
    }
   },
   "outputs": [
    {
     "data": {
      "application/javascript": [
       "\n",
       "        if (window._pyforest_update_imports_cell) { window._pyforest_update_imports_cell('from sklearn.linear_model import ElasticNet\\nfrom sklearn.preprocessing import PolynomialFeatures\\nfrom sklearn.linear_model import LogisticRegression\\nfrom sklearn.preprocessing import OneHotEncoder\\nfrom sklearn.model_selection import KFold\\nfrom sklearn.linear_model import LinearRegression\\nfrom statsmodels.tsa.arima_model import ARIMA\\nfrom sklearn.decomposition import PCA\\nfrom sklearn.feature_extraction.text import CountVectorizer\\nfrom pathlib import Path\\nfrom sklearn.preprocessing import LabelEncoder\\nfrom sklearn.model_selection import GridSearchCV\\nfrom sklearn.linear_model import LassoCV\\nfrom sklearn.cluster import KMeans\\nfrom sklearn.ensemble import GradientBoostingRegressor\\nfrom sklearn.preprocessing import MinMaxScaler\\nfrom sklearn.linear_model import Lasso\\nfrom sklearn.ensemble import GradientBoostingClassifier\\nimport seaborn as sns\\nfrom PIL import Image\\nfrom sklearn.linear_model import ElasticNetCV'); }\n",
       "    "
      ],
      "text/plain": [
       "<IPython.core.display.Javascript object>"
      ]
     },
     "metadata": {},
     "output_type": "display_data"
    },
    {
     "data": {
      "image/png": "[encoded data removed]",
      "text/plain": [
       "<Figure size 432x288 with 2 Axes>"
      ]
     },
     "metadata": {
      "needs_background": "light"
     },
     "output_type": "display_data"
    }
   ],
   "source": [
    "# This is the monitoring histogram in its unaltered form (non noisy, no generated anomalous data)\n",
    "input_heatmap(x_test_noanom_df,0,1)"
   ]
  },
  {
   "cell_type": "code",
   "execution_count": 13,
   "id": "09a192c6",
   "metadata": {
    "ExecuteTime": {
     "end_time": "2022-02-24T01:54:57.181366Z",
     "start_time": "2022-02-24T01:46:27.854202Z"
    }
   },
   "outputs": [],
   "source": [
    "x_train_noanom_df.to_csv('x_train_noanom_df.csv',index=False)\n",
    "x_test_noanom_df.to_csv('x_test_noanom_df.csv',index=False)"
   ]
  }
 ],
 "metadata": {
  "kernelspec": {
   "display_name": "Python 3",
   "language": "python",
   "name": "python3"
  },
  "language_info": {
   "codemirror_mode": {
    "name": "ipython",
    "version": 3
   },
   "file_extension": ".py",
   "mimetype": "text/x-python",
   "name": "python",
   "nbconvert_exporter": "python",
   "pygments_lexer": "ipython3",
   "version": "3.9.6"
  },
  "varInspector": {
   "cols": {
    "lenName": 16,
    "lenType": 16,
    "lenVar": 40
   },
   "kernels_config": {
    "python": {
     "delete_cmd_postfix": "",
     "delete_cmd_prefix": "del ",
     "library": "var_list.py",
     "varRefreshCmd": "print(var_dic_list())"
    },
    "r": {
     "delete_cmd_postfix": ") ",
     "delete_cmd_prefix": "rm(",
     "library": "var_list.r",
     "varRefreshCmd": "cat(var_dic_list()) "
    }
   },
   "types_to_exclude": [
    "module",
    "function",
    "builtin_function_or_method",
    "instance",
    "_Feature"
   ],
   "window_display": false
  }
 },
 "nbformat": 4,
 "nbformat_minor": 5
}
