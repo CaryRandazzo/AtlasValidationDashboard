{
 "cells": [
  {
   "cell_type": "markdown",
   "id": "cultural-poetry",
   "metadata": {},
   "source": [
    "# CNN Project"
   ]
  },
  {
   "cell_type": "markdown",
   "id": "helpful-girlfriend",
   "metadata": {},
   "source": [
    "##### Imports"
   ]
  },
  {
   "cell_type": "code",
   "execution_count": 20,
   "id": "seven-intention",
   "metadata": {},
   "outputs": [
    {
     "name": "stdout",
     "output_type": "stream",
     "text": [
      "\u001b[33mWARNING: Keyring is skipped due to an exception: Failed to unlock the collection!\u001b[0m\n",
      "Collecting opencv-python\n",
      "  Downloading opencv_python-4.5.2.52-cp38-cp38-manylinux2014_x86_64.whl (51.0 MB)\n",
      "\u001b[K     |████████████████████████████████| 51.0 MB 13.3 MB/s eta 0:00:01\n",
      "\u001b[?25hRequirement already satisfied: numpy>=1.17.3 in /home/c/anaconda3/lib/python3.8/site-packages (from opencv-python) (1.19.2)\n",
      "Installing collected packages: opencv-python\n",
      "Successfully installed opencv-python-4.5.2.52\n"
     ]
    }
   ],
   "source": [
    "# import sys\n",
    "!{sys.executable} -m pip install opencv-python"
   ]
  },
  {
   "cell_type": "code",
   "execution_count": 12,
   "id": "covered-client",
   "metadata": {
    "ExecuteTime": {
     "end_time": "2021-07-17T04:14:47.464344Z",
     "start_time": "2021-07-17T04:14:40.389526Z"
    }
   },
   "outputs": [],
   "source": [
    "# Imports\n",
    "import os\n",
    "import numpy as np\n",
    "import pandas as pd\n",
    "import matplotlib.pyplot as plt\n",
    "import tensorflow as tf\n",
    "from tensorflow.keras.layers import Dense, Dropout, Input, InputLayer, Conv2D, UpSampling2D, DepthwiseConv2D\n",
    "from tensorflow.keras.layers import Flatten, MaxPooling2D, Conv2DTranspose, AveragePooling2D\n",
    "from tensorflow.keras.applications.vgg16 import VGG16\n",
    "from tensorflow.keras.models import Model, Sequential\n",
    "from tensorflow.keras.optimizers import Adam\n",
    "from tensorflow.keras import layers\n",
    "from tensorflow.keras.preprocessing.image import img_to_array, load_img\n",
    "from PIL import Image\n",
    "from tensorflow.keras.utils import plot_model\n",
    "from math import ceil\n",
    "import random\n",
    "import cv2\n",
    "from skimage import io, color"
   ]
  },
  {
   "cell_type": "markdown",
   "id": "clean-symposium",
   "metadata": {},
   "source": [
    "##### Convert Images"
   ]
  },
  {
   "cell_type": "code",
   "execution_count": 2,
   "id": "genuine-poverty",
   "metadata": {
    "ExecuteTime": {
     "end_time": "2021-07-14T23:25:56.492839Z",
     "start_time": "2021-07-14T23:25:56.482095Z"
    }
   },
   "outputs": [
    {
     "data": {
      "text/plain": [
       "'/eos/home-c/crandazz/SWAN_projects/Machine Learning'"
      ]
     },
     "execution_count": 2,
     "metadata": {},
     "output_type": "execute_result"
    }
   ],
   "source": [
    "os.getcwd()"
   ]
  },
  {
   "cell_type": "code",
   "execution_count": null,
   "id": "chinese-windows",
   "metadata": {},
   "outputs": [],
   "source": []
  },
  {
   "cell_type": "code",
   "execution_count": 34,
   "id": "sustained-radar",
   "metadata": {
    "ExecuteTime": {
     "end_time": "2021-07-17T04:49:15.553612Z",
     "start_time": "2021-07-17T04:49:15.518312Z"
    }
   },
   "outputs": [],
   "source": [
    "rootdir = os.getcwd()\n",
    "# filenames = random.sample(os.listdir('...path...'), 500)\n",
    "filenames = ['Data/ImageFiles/S41eRa.jpg']\n",
    "lspace = []\n",
    "abspace = []\n",
    "for file in filenames:\n",
    "    rgb = io.imread(file)\n",
    "    lab_image = cv2.cvtColor(rgb,cv2.COLOR_BGR2LAB)\n",
    "    l_channel, a_channel, b_channel = cv2.split(lab_image)\n",
    "    lspace.append(l_channel)\n",
    "    replot_lab = np.zeros((256,256,2))\n",
    "    replot_lab[:,:,0] = a_channel\n",
    "    replot_lab[:,:,1] = b_channel\n",
    "    abspace.append(replot_lab)\n",
    "    transfer = cv2.merge([l_channel, a_channel, b_channel])\n",
    "    transfer = cv2.cvtColor(transfer.astype('uint8'), cv2.COLOR_LAB2BGR)\n",
    "\n",
    "lspace = np.asarray(lspace)\n",
    "abspace = np.asarray(abspace)"
   ]
  },
  {
   "cell_type": "code",
   "execution_count": 35,
   "id": "southern-antique",
   "metadata": {
    "ExecuteTime": {
     "end_time": "2021-07-17T04:49:16.960514Z",
     "start_time": "2021-07-17T04:49:16.952794Z"
    }
   },
   "outputs": [
    {
     "data": {
      "text/plain": [
       "(256, 256, 3)"
      ]
     },
     "execution_count": 35,
     "metadata": {},
     "output_type": "execute_result"
    }
   ],
   "source": [
    "rgb.shape"
   ]
  },
  {
   "cell_type": "code",
   "execution_count": 36,
   "id": "lucky-burton",
   "metadata": {
    "ExecuteTime": {
     "end_time": "2021-07-17T04:49:19.155691Z",
     "start_time": "2021-07-17T04:49:19.146756Z"
    }
   },
   "outputs": [
    {
     "data": {
      "text/plain": [
       "array([[235, 237, 244, ..., 143, 180, 183],\n",
       "       [ 95, 105, 121, ..., 250, 251, 250],\n",
       "       [  1,   2,   4, ..., 110, 105, 105],\n",
       "       ...,\n",
       "       [254, 254, 255, ..., 192, 155, 129],\n",
       "       [255, 255, 255, ..., 190, 153, 125],\n",
       "       [255, 254, 254, ..., 187, 148, 118]], dtype=uint8)"
      ]
     },
     "execution_count": 36,
     "metadata": {},
     "output_type": "execute_result"
    }
   ],
   "source": [
    "#3 matrices, 256x256-red, 256x256-green, 256x256-blue  ...each matrix is rgb[:,:,1],rgb[:,:,2],[:,:,3] respectively\n",
    "rgb[:,:,0] #a_channel containing the ?yellow/green? values"
   ]
  },
  {
   "cell_type": "code",
   "execution_count": 37,
   "id": "theoretical-medium",
   "metadata": {
    "ExecuteTime": {
     "end_time": "2021-07-17T04:49:20.246148Z",
     "start_time": "2021-07-17T04:49:20.230788Z"
    }
   },
   "outputs": [
    {
     "data": {
      "text/plain": [
       "(256, 256)"
      ]
     },
     "metadata": {},
     "output_type": "display_data"
    },
    {
     "data": {
      "text/plain": [
       "(256, 256)"
      ]
     },
     "metadata": {},
     "output_type": "display_data"
    },
    {
     "data": {
      "text/plain": [
       "(256, 256)"
      ]
     },
     "metadata": {},
     "output_type": "display_data"
    }
   ],
   "source": [
    "# np.set_printoptions(threshold=1000)\n",
    "np.set_printoptions(threshold=np.inf)\n",
    "display(rgb[:,:,0].shape) #red\n",
    "display(rgb[:,:,1].shape) #green\n",
    "display(rgb[:,:,2].shape) #blue"
   ]
  },
  {
   "cell_type": "code",
   "execution_count": 38,
   "id": "herbal-buying",
   "metadata": {
    "ExecuteTime": {
     "end_time": "2021-07-17T04:49:36.161709Z",
     "start_time": "2021-07-17T04:49:36.156860Z"
    }
   },
   "outputs": [
    {
     "data": {
      "text/plain": [
       "(1, 256, 256)"
      ]
     },
     "execution_count": 38,
     "metadata": {},
     "output_type": "execute_result"
    }
   ],
   "source": [
    "# This is the grayscale matrix. A single 256x256 matrix that specifies the gray scale\n",
    "# Black and White color scale\n",
    "lspace.shape"
   ]
  },
  {
   "cell_type": "code",
   "execution_count": 33,
   "id": "welsh-tactics",
   "metadata": {
    "ExecuteTime": {
     "end_time": "2021-07-17T04:49:07.885497Z",
     "start_time": "2021-07-17T04:49:07.878197Z"
    }
   },
   "outputs": [
    {
     "data": {
      "text/plain": [
       "(1, 256, 256)"
      ]
     },
     "execution_count": 33,
     "metadata": {},
     "output_type": "execute_result"
    }
   ],
   "source": [
    "lspace"
   ]
  },
  {
   "cell_type": "code",
   "execution_count": 7,
   "id": "bridal-belle",
   "metadata": {
    "ExecuteTime": {
     "end_time": "2021-07-14T23:27:05.702558Z",
     "start_time": "2021-07-14T23:27:05.691994Z"
    }
   },
   "outputs": [
    {
     "data": {
      "text/plain": [
       "array([[[241, 244, 250, ..., 155, 192, 195],\n",
       "        [105, 118, 136, ..., 254, 255, 255],\n",
       "        [  1,   2,   5, ..., 120, 115, 117],\n",
       "        ...,\n",
       "        [255, 255, 255, ..., 216, 193, 174],\n",
       "        [254, 254, 255, ..., 214, 189, 168],\n",
       "        [254, 253, 254, ..., 212, 185, 162]]], dtype=uint8)"
      ]
     },
     "execution_count": 7,
     "metadata": {},
     "output_type": "execute_result"
    }
   ],
   "source": [
    "np.set_printoptions(threshold=1000)\n",
    "lspace # our max luminescence(grey scale) value is 255 for a total rage of 256 from 0-255 as possible values"
   ]
  },
  {
   "cell_type": "code",
   "execution_count": 39,
   "id": "satellite-brake",
   "metadata": {
    "ExecuteTime": {
     "end_time": "2021-07-17T04:51:05.778837Z",
     "start_time": "2021-07-17T04:51:05.771554Z"
    }
   },
   "outputs": [
    {
     "data": {
      "text/plain": [
       "(1, 256, 256, 2)"
      ]
     },
     "execution_count": 39,
     "metadata": {},
     "output_type": "execute_result"
    }
   ],
   "source": [
    "# The first matrix is the Red-Green scale, the second is the Blue-Yellow [0,:,:,0] and [0,:,:,1] respectively\n",
    "# This is the color matrix (lab style color system), each matrix is 256x256-\n",
    "abspace.shape #256 possible values, 0-255 is range of either channels a/b where...\n",
    " #a channel is green/red,  ..green from 0-126, red from 128-255, balance at 127 \n",
    " #b channel is blue/yellow, ..blue from 0-126, yellow from 128-55, balance at 127\n",
    " #(or so I think)"
   ]
  },
  {
   "cell_type": "code",
   "execution_count": 9,
   "id": "eight-cement",
   "metadata": {
    "ExecuteTime": {
     "end_time": "2021-07-14T23:27:16.233803Z",
     "start_time": "2021-07-14T23:27:16.223820Z"
    }
   },
   "outputs": [
    {
     "data": {
      "text/plain": [
       "array([[132., 130., 130., ..., 127., 128., 128.],\n",
       "       [132., 130., 129., ..., 128., 127., 127.],\n",
       "       [128., 128., 128., ..., 130., 130., 129.],\n",
       "       ...,\n",
       "       [128., 128., 128., ..., 129., 130., 130.],\n",
       "       [129., 129., 128., ..., 129., 131., 132.],\n",
       "       [129., 129., 128., ..., 129., 131., 132.]])"
      ]
     },
     "execution_count": 9,
     "metadata": {},
     "output_type": "execute_result"
    }
   ],
   "source": [
    "abspace[0,:,:,0] #a channel"
   ]
  },
  {
   "cell_type": "code",
   "execution_count": 10,
   "id": "pleased-investor",
   "metadata": {
    "ExecuteTime": {
     "end_time": "2021-07-14T23:27:17.289613Z",
     "start_time": "2021-07-14T23:27:17.280504Z"
    }
   },
   "outputs": [
    {
     "data": {
      "text/plain": [
       "array([[130., 131., 131., ..., 130., 131., 131.],\n",
       "       [130., 131., 132., ..., 130., 130., 130.],\n",
       "       [128., 129., 130., ..., 129., 129., 130.],\n",
       "       ...,\n",
       "       [128., 128., 128., ..., 138., 145., 149.],\n",
       "       [127., 127., 128., ..., 138., 144., 148.],\n",
       "       [127., 127., 128., ..., 138., 145., 148.]])"
      ]
     },
     "execution_count": 10,
     "metadata": {},
     "output_type": "execute_result"
    }
   ],
   "source": [
    "abspace[0,:,:,1] #b channel"
   ]
  },
  {
   "cell_type": "markdown",
   "id": "sudden-salon",
   "metadata": {},
   "source": [
    "Trying to scale the values inside the matrix to the values that are expressed in Atlas's heatmap:"
   ]
  },
  {
   "cell_type": "markdown",
   "id": "regional-imagination",
   "metadata": {},
   "source": [
    "if values are from\n",
    "- 0-255 and (256 possible)\n",
    "- green and blue are from 0-127   (128 possible)\n",
    "- red and yellow are from 128-255 (128 possible)\n",
    "- a channel combines green/red   for 0-127,128-255\n",
    "- b channel combines blue/yellow for 0-127,128-255"
   ]
  },
  {
   "cell_type": "markdown",
   "id": "applicable-second",
   "metadata": {},
   "source": [
    "<b>THUS, in order to prepare our data quality data in the format this thing recognizes...</b>\n",
    "- a single gray scale marix is (256,256,1) where rows=x,columns=y,z=occ and is the data values for a 2d TH2 hist\n",
    "- typically, when representing a TH2 file as a heatmap it contains x data, y data, and the occupancy gives it a red/blue color scale depending on the total values. if it were devided by 2 then black would be 256/2 or 128 and 129 while the upper and lower limits would be blue as 0 and red as 256"
   ]
  },
  {
   "cell_type": "code",
   "execution_count": 32,
   "id": "short-integral",
   "metadata": {
    "ExecuteTime": {
     "end_time": "2021-07-17T04:48:54.924953Z",
     "start_time": "2021-07-17T04:48:54.916598Z"
    }
   },
   "outputs": [
    {
     "data": {
      "text/plain": [
       "(1, 256, 256)"
      ]
     },
     "execution_count": 32,
     "metadata": {},
     "output_type": "execute_result"
    }
   ],
   "source": [
    "lspace.shape #grey scale matrix"
   ]
  },
  {
   "cell_type": "markdown",
   "id": "pregnant-amsterdam",
   "metadata": {},
   "source": [
    "##### Load the Data"
   ]
  },
  {
   "cell_type": "markdown",
   "id": "intermediate-stomach",
   "metadata": {},
   "source": [
    "Just for fun, we will turn the grey scale into a dataframe and visualize it as a heatmap:"
   ]
  },
  {
   "cell_type": "code",
   "execution_count": 17,
   "id": "recreational-wellington",
   "metadata": {
    "ExecuteTime": {
     "end_time": "2021-07-17T04:16:06.081162Z",
     "start_time": "2021-07-17T04:16:06.072812Z"
    }
   },
   "outputs": [],
   "source": [
    "# Convert Grey space matrix shape (1,256,256) to dataframe\n",
    "columns = []\n",
    "for i in range(256):\n",
    "    columns.append('Y_'+str(i))\n",
    "\n",
    "tmp = pd.DataFrame(lspace[0], columns = columns)"
   ]
  },
  {
   "cell_type": "code",
   "execution_count": 20,
   "id": "three-alfred",
   "metadata": {
    "ExecuteTime": {
     "end_time": "2021-07-17T04:16:35.645625Z",
     "start_time": "2021-07-17T04:16:35.598983Z"
    }
   },
   "outputs": [
    {
     "data": {
      "text/html": [
       "<div>\n",
       "<style scoped>\n",
       "    .dataframe tbody tr th:only-of-type {\n",
       "        vertical-align: middle;\n",
       "    }\n",
       "\n",
       "    .dataframe tbody tr th {\n",
       "        vertical-align: top;\n",
       "    }\n",
       "\n",
       "    .dataframe thead th {\n",
       "        text-align: right;\n",
       "    }\n",
       "</style>\n",
       "<table border=\"1\" class=\"dataframe\">\n",
       "  <thead>\n",
       "    <tr style=\"text-align: right;\">\n",
       "      <th></th>\n",
       "      <th>Y_0</th>\n",
       "      <th>Y_1</th>\n",
       "      <th>Y_2</th>\n",
       "      <th>Y_3</th>\n",
       "      <th>Y_4</th>\n",
       "      <th>Y_5</th>\n",
       "      <th>Y_6</th>\n",
       "      <th>Y_7</th>\n",
       "      <th>Y_8</th>\n",
       "      <th>Y_9</th>\n",
       "      <th>...</th>\n",
       "      <th>Y_246</th>\n",
       "      <th>Y_247</th>\n",
       "      <th>Y_248</th>\n",
       "      <th>Y_249</th>\n",
       "      <th>Y_250</th>\n",
       "      <th>Y_251</th>\n",
       "      <th>Y_252</th>\n",
       "      <th>Y_253</th>\n",
       "      <th>Y_254</th>\n",
       "      <th>Y_255</th>\n",
       "    </tr>\n",
       "  </thead>\n",
       "  <tbody>\n",
       "    <tr>\n",
       "      <th>0</th>\n",
       "      <td>241</td>\n",
       "      <td>244</td>\n",
       "      <td>250</td>\n",
       "      <td>250</td>\n",
       "      <td>252</td>\n",
       "      <td>255</td>\n",
       "      <td>254</td>\n",
       "      <td>253</td>\n",
       "      <td>255</td>\n",
       "      <td>255</td>\n",
       "      <td>...</td>\n",
       "      <td>182</td>\n",
       "      <td>165</td>\n",
       "      <td>161</td>\n",
       "      <td>166</td>\n",
       "      <td>190</td>\n",
       "      <td>177</td>\n",
       "      <td>139</td>\n",
       "      <td>155</td>\n",
       "      <td>192</td>\n",
       "      <td>195</td>\n",
       "    </tr>\n",
       "    <tr>\n",
       "      <th>1</th>\n",
       "      <td>105</td>\n",
       "      <td>118</td>\n",
       "      <td>136</td>\n",
       "      <td>144</td>\n",
       "      <td>142</td>\n",
       "      <td>138</td>\n",
       "      <td>135</td>\n",
       "      <td>135</td>\n",
       "      <td>134</td>\n",
       "      <td>141</td>\n",
       "      <td>...</td>\n",
       "      <td>253</td>\n",
       "      <td>253</td>\n",
       "      <td>253</td>\n",
       "      <td>253</td>\n",
       "      <td>253</td>\n",
       "      <td>255</td>\n",
       "      <td>254</td>\n",
       "      <td>254</td>\n",
       "      <td>255</td>\n",
       "      <td>255</td>\n",
       "    </tr>\n",
       "    <tr>\n",
       "      <th>2</th>\n",
       "      <td>1</td>\n",
       "      <td>2</td>\n",
       "      <td>5</td>\n",
       "      <td>7</td>\n",
       "      <td>5</td>\n",
       "      <td>1</td>\n",
       "      <td>1</td>\n",
       "      <td>3</td>\n",
       "      <td>9</td>\n",
       "      <td>16</td>\n",
       "      <td>...</td>\n",
       "      <td>152</td>\n",
       "      <td>143</td>\n",
       "      <td>137</td>\n",
       "      <td>127</td>\n",
       "      <td>115</td>\n",
       "      <td>113</td>\n",
       "      <td>119</td>\n",
       "      <td>120</td>\n",
       "      <td>115</td>\n",
       "      <td>117</td>\n",
       "    </tr>\n",
       "    <tr>\n",
       "      <th>3</th>\n",
       "      <td>7</td>\n",
       "      <td>1</td>\n",
       "      <td>0</td>\n",
       "      <td>0</td>\n",
       "      <td>0</td>\n",
       "      <td>1</td>\n",
       "      <td>5</td>\n",
       "      <td>16</td>\n",
       "      <td>45</td>\n",
       "      <td>54</td>\n",
       "      <td>...</td>\n",
       "      <td>15</td>\n",
       "      <td>12</td>\n",
       "      <td>7</td>\n",
       "      <td>9</td>\n",
       "      <td>5</td>\n",
       "      <td>1</td>\n",
       "      <td>2</td>\n",
       "      <td>6</td>\n",
       "      <td>7</td>\n",
       "      <td>3</td>\n",
       "    </tr>\n",
       "    <tr>\n",
       "      <th>4</th>\n",
       "      <td>1</td>\n",
       "      <td>3</td>\n",
       "      <td>3</td>\n",
       "      <td>1</td>\n",
       "      <td>2</td>\n",
       "      <td>2</td>\n",
       "      <td>1</td>\n",
       "      <td>2</td>\n",
       "      <td>7</td>\n",
       "      <td>8</td>\n",
       "      <td>...</td>\n",
       "      <td>35</td>\n",
       "      <td>32</td>\n",
       "      <td>34</td>\n",
       "      <td>19</td>\n",
       "      <td>7</td>\n",
       "      <td>1</td>\n",
       "      <td>2</td>\n",
       "      <td>1</td>\n",
       "      <td>0</td>\n",
       "      <td>0</td>\n",
       "    </tr>\n",
       "    <tr>\n",
       "      <th>...</th>\n",
       "      <td>...</td>\n",
       "      <td>...</td>\n",
       "      <td>...</td>\n",
       "      <td>...</td>\n",
       "      <td>...</td>\n",
       "      <td>...</td>\n",
       "      <td>...</td>\n",
       "      <td>...</td>\n",
       "      <td>...</td>\n",
       "      <td>...</td>\n",
       "      <td>...</td>\n",
       "      <td>...</td>\n",
       "      <td>...</td>\n",
       "      <td>...</td>\n",
       "      <td>...</td>\n",
       "      <td>...</td>\n",
       "      <td>...</td>\n",
       "      <td>...</td>\n",
       "      <td>...</td>\n",
       "      <td>...</td>\n",
       "      <td>...</td>\n",
       "    </tr>\n",
       "    <tr>\n",
       "      <th>251</th>\n",
       "      <td>254</td>\n",
       "      <td>254</td>\n",
       "      <td>255</td>\n",
       "      <td>255</td>\n",
       "      <td>255</td>\n",
       "      <td>255</td>\n",
       "      <td>255</td>\n",
       "      <td>255</td>\n",
       "      <td>255</td>\n",
       "      <td>255</td>\n",
       "      <td>...</td>\n",
       "      <td>255</td>\n",
       "      <td>255</td>\n",
       "      <td>255</td>\n",
       "      <td>255</td>\n",
       "      <td>254</td>\n",
       "      <td>254</td>\n",
       "      <td>242</td>\n",
       "      <td>223</td>\n",
       "      <td>205</td>\n",
       "      <td>187</td>\n",
       "    </tr>\n",
       "    <tr>\n",
       "      <th>252</th>\n",
       "      <td>251</td>\n",
       "      <td>255</td>\n",
       "      <td>255</td>\n",
       "      <td>255</td>\n",
       "      <td>255</td>\n",
       "      <td>255</td>\n",
       "      <td>255</td>\n",
       "      <td>255</td>\n",
       "      <td>255</td>\n",
       "      <td>255</td>\n",
       "      <td>...</td>\n",
       "      <td>255</td>\n",
       "      <td>254</td>\n",
       "      <td>255</td>\n",
       "      <td>255</td>\n",
       "      <td>254</td>\n",
       "      <td>251</td>\n",
       "      <td>238</td>\n",
       "      <td>219</td>\n",
       "      <td>199</td>\n",
       "      <td>179</td>\n",
       "    </tr>\n",
       "    <tr>\n",
       "      <th>253</th>\n",
       "      <td>255</td>\n",
       "      <td>255</td>\n",
       "      <td>255</td>\n",
       "      <td>255</td>\n",
       "      <td>255</td>\n",
       "      <td>254</td>\n",
       "      <td>255</td>\n",
       "      <td>255</td>\n",
       "      <td>255</td>\n",
       "      <td>255</td>\n",
       "      <td>...</td>\n",
       "      <td>255</td>\n",
       "      <td>255</td>\n",
       "      <td>254</td>\n",
       "      <td>255</td>\n",
       "      <td>255</td>\n",
       "      <td>248</td>\n",
       "      <td>236</td>\n",
       "      <td>216</td>\n",
       "      <td>193</td>\n",
       "      <td>174</td>\n",
       "    </tr>\n",
       "    <tr>\n",
       "      <th>254</th>\n",
       "      <td>254</td>\n",
       "      <td>254</td>\n",
       "      <td>255</td>\n",
       "      <td>255</td>\n",
       "      <td>255</td>\n",
       "      <td>255</td>\n",
       "      <td>255</td>\n",
       "      <td>255</td>\n",
       "      <td>255</td>\n",
       "      <td>255</td>\n",
       "      <td>...</td>\n",
       "      <td>255</td>\n",
       "      <td>255</td>\n",
       "      <td>255</td>\n",
       "      <td>255</td>\n",
       "      <td>254</td>\n",
       "      <td>247</td>\n",
       "      <td>234</td>\n",
       "      <td>214</td>\n",
       "      <td>189</td>\n",
       "      <td>168</td>\n",
       "    </tr>\n",
       "    <tr>\n",
       "      <th>255</th>\n",
       "      <td>254</td>\n",
       "      <td>253</td>\n",
       "      <td>254</td>\n",
       "      <td>255</td>\n",
       "      <td>255</td>\n",
       "      <td>255</td>\n",
       "      <td>254</td>\n",
       "      <td>254</td>\n",
       "      <td>254</td>\n",
       "      <td>254</td>\n",
       "      <td>...</td>\n",
       "      <td>255</td>\n",
       "      <td>255</td>\n",
       "      <td>254</td>\n",
       "      <td>253</td>\n",
       "      <td>254</td>\n",
       "      <td>245</td>\n",
       "      <td>232</td>\n",
       "      <td>212</td>\n",
       "      <td>185</td>\n",
       "      <td>162</td>\n",
       "    </tr>\n",
       "  </tbody>\n",
       "</table>\n",
       "<p>256 rows × 256 columns</p>\n",
       "</div>"
      ],
      "text/plain": [
       "     Y_0  Y_1  Y_2  Y_3  Y_4  Y_5  Y_6  Y_7  Y_8  Y_9  ...  Y_246  Y_247  \\\n",
       "0    241  244  250  250  252  255  254  253  255  255  ...    182    165   \n",
       "1    105  118  136  144  142  138  135  135  134  141  ...    253    253   \n",
       "2      1    2    5    7    5    1    1    3    9   16  ...    152    143   \n",
       "3      7    1    0    0    0    1    5   16   45   54  ...     15     12   \n",
       "4      1    3    3    1    2    2    1    2    7    8  ...     35     32   \n",
       "..   ...  ...  ...  ...  ...  ...  ...  ...  ...  ...  ...    ...    ...   \n",
       "251  254  254  255  255  255  255  255  255  255  255  ...    255    255   \n",
       "252  251  255  255  255  255  255  255  255  255  255  ...    255    254   \n",
       "253  255  255  255  255  255  254  255  255  255  255  ...    255    255   \n",
       "254  254  254  255  255  255  255  255  255  255  255  ...    255    255   \n",
       "255  254  253  254  255  255  255  254  254  254  254  ...    255    255   \n",
       "\n",
       "     Y_248  Y_249  Y_250  Y_251  Y_252  Y_253  Y_254  Y_255  \n",
       "0      161    166    190    177    139    155    192    195  \n",
       "1      253    253    253    255    254    254    255    255  \n",
       "2      137    127    115    113    119    120    115    117  \n",
       "3        7      9      5      1      2      6      7      3  \n",
       "4       34     19      7      1      2      1      0      0  \n",
       "..     ...    ...    ...    ...    ...    ...    ...    ...  \n",
       "251    255    255    254    254    242    223    205    187  \n",
       "252    255    255    254    251    238    219    199    179  \n",
       "253    254    255    255    248    236    216    193    174  \n",
       "254    255    255    254    247    234    214    189    168  \n",
       "255    254    253    254    245    232    212    185    162  \n",
       "\n",
       "[256 rows x 256 columns]"
      ]
     },
     "execution_count": 20,
     "metadata": {},
     "output_type": "execute_result"
    }
   ],
   "source": [
    "tmp"
   ]
  },
  {
   "cell_type": "code",
   "execution_count": 81,
   "id": "compound-kentucky",
   "metadata": {
    "ExecuteTime": {
     "end_time": "2021-07-14T23:59:41.544196Z",
     "start_time": "2021-07-14T23:59:40.172316Z"
    }
   },
   "outputs": [
    {
     "data": {
      "text/plain": [
       "<AxesSubplot:>"
      ]
     },
     "execution_count": 81,
     "metadata": {},
     "output_type": "execute_result"
    },
    {
     "data": {
      "image/png": "[encoded data removed]",
      "text/plain": [
       "<Figure size 432x288 with 2 Axes>"
      ]
     },
     "metadata": {
      "needs_background": "light"
     },
     "output_type": "display_data"
    }
   ],
   "source": [
    "# import seaborn as sns\n",
    "sns.heatmap(tmp)"
   ]
  },
  {
   "cell_type": "markdown",
   "id": "objective-holder",
   "metadata": {},
   "source": [
    "And Now, we can convert the dataframe we constructed back to a numpy array... we can do the same thing when we have a dataframe from a hist file:"
   ]
  },
  {
   "cell_type": "code",
   "execution_count": 82,
   "id": "infinite-franklin",
   "metadata": {
    "ExecuteTime": {
     "end_time": "2021-07-15T00:02:40.940919Z",
     "start_time": "2021-07-15T00:02:40.931974Z"
    }
   },
   "outputs": [
    {
     "data": {
      "text/plain": [
       "array([[241, 244, 250, ..., 155, 192, 195],\n",
       "       [105, 118, 136, ..., 254, 255, 255],\n",
       "       [  1,   2,   5, ..., 120, 115, 117],\n",
       "       ...,\n",
       "       [255, 255, 255, ..., 216, 193, 174],\n",
       "       [254, 254, 255, ..., 214, 189, 168],\n",
       "       [254, 253, 254, ..., 212, 185, 162]], dtype=uint8)"
      ]
     },
     "execution_count": 82,
     "metadata": {},
     "output_type": "execute_result"
    }
   ],
   "source": [
    "tmp.to_numpy()"
   ]
  },
  {
   "cell_type": "markdown",
   "id": "collect-macintosh",
   "metadata": {},
   "source": [
    "Back to the main procedure:"
   ]
  },
  {
   "cell_type": "code",
   "execution_count": 28,
   "id": "opponent-syria",
   "metadata": {
    "ExecuteTime": {
     "end_time": "2021-07-17T04:48:24.736629Z",
     "start_time": "2021-07-17T04:48:24.728327Z"
    }
   },
   "outputs": [
    {
     "data": {
      "text/plain": [
       "(1, 256, 256)"
      ]
     },
     "execution_count": 28,
     "metadata": {},
     "output_type": "execute_result"
    }
   ],
   "source": [
    "# Issue - theres only a single image, therefore theres only a single 256x256 matrix that becomes the X variable...so when we set test_inp as X[2:,] ..it gets nothing..we need at least \n",
    "# 2 more image as inputs to test this thing\n",
    "lspace.shape"
   ]
  },
  {
   "cell_type": "code",
   "execution_count": 29,
   "id": "humanitarian-blowing",
   "metadata": {
    "ExecuteTime": {
     "end_time": "2021-07-17T04:48:26.300296Z",
     "start_time": "2021-07-17T04:48:26.294905Z"
    }
   },
   "outputs": [],
   "source": [
    "#files created from above code ..just run the code and set X to lspace and Y to abspace\n",
    "# X = np.load('lspace100.npy')\n",
    "# Y = np.load('abspace100.npy')\n",
    "X = lspace\n",
    "Y = abspace"
   ]
  },
  {
   "cell_type": "markdown",
   "id": "authentic-profit",
   "metadata": {},
   "source": [
    "##### Structure the Model"
   ]
  },
  {
   "cell_type": "code",
   "execution_count": 40,
   "id": "sharp-accuracy",
   "metadata": {
    "ExecuteTime": {
     "end_time": "2021-07-17T04:51:51.754886Z",
     "start_time": "2021-07-17T04:51:50.812143Z"
    }
   },
   "outputs": [
    {
     "name": "stdout",
     "output_type": "stream",
     "text": [
      "Model: \"sequential\"\n",
      "_________________________________________________________________\n",
      "Layer (type)                 Output Shape              Param #   \n",
      "=================================================================\n",
      "dense (Dense)                (None, 256, 256, 3)       6         \n",
      "_________________________________________________________________\n",
      "functional_1 (Functional)    (None, 64, 64, 256)       1735488   \n",
      "_________________________________________________________________\n",
      "up_sampling2d (UpSampling2D) (None, 128, 128, 256)     0         \n",
      "_________________________________________________________________\n",
      "up_sampling2d_1 (UpSampling2 (None, 256, 256, 256)     0         \n",
      "_________________________________________________________________\n",
      "depthwise_conv2d (DepthwiseC (None, 128, 128, 256)     262400    \n",
      "_________________________________________________________________\n",
      "up_sampling2d_2 (UpSampling2 (None, 256, 256, 256)     0         \n",
      "_________________________________________________________________\n",
      "depthwise_conv2d_1 (Depthwis (None, 128, 128, 256)     262400    \n",
      "_________________________________________________________________\n",
      "re_lu (ReLU)                 (None, 128, 128, 256)     0         \n",
      "_________________________________________________________________\n",
      "dropout (Dropout)            (None, 128, 128, 256)     0         \n",
      "_________________________________________________________________\n",
      "up_sampling2d_3 (UpSampling2 (None, 256, 256, 256)     0         \n",
      "_________________________________________________________________\n",
      "up_sampling2d_4 (UpSampling2 (None, 512, 512, 256)     0         \n",
      "_________________________________________________________________\n",
      "depthwise_conv2d_2 (Depthwis (None, 256, 256, 256)     1280      \n",
      "_________________________________________________________________\n",
      "re_lu_1 (ReLU)               (None, 256, 256, 256)     0         \n",
      "_________________________________________________________________\n",
      "dropout_1 (Dropout)          (None, 256, 256, 256)     0         \n",
      "_________________________________________________________________\n",
      "up_sampling2d_5 (UpSampling2 (None, 512, 512, 256)     0         \n",
      "_________________________________________________________________\n",
      "re_lu_2 (ReLU)               (None, 512, 512, 256)     0         \n",
      "_________________________________________________________________\n",
      "dropout_2 (Dropout)          (None, 512, 512, 256)     0         \n",
      "_________________________________________________________________\n",
      "average_pooling2d (AveragePo (None, 256, 256, 256)     0         \n",
      "_________________________________________________________________\n",
      "dense_1 (Dense)              (None, 256, 256, 2)       514       \n",
      "=================================================================\n",
      "Total params: 2,262,088\n",
      "Trainable params: 2,262,088\n",
      "Non-trainable params: 0\n",
      "_________________________________________________________________\n",
      "None\n"
     ]
    }
   ],
   "source": [
    "model6 = VGG16(weights='imagenet', include_top=False, input_shape=(256,256,3))\n",
    "model = Sequential()\n",
    "model.add(InputLayer(input_shape=(X.shape[1], X.shape[2], 1)))\n",
    "model.add(layers.Dense(units=3))\n",
    "model.add(Model(inputs=model6.inputs, outputs=model6.layers[-10].output))\n",
    "model.add(UpSampling2D(size=(2,2)))\n",
    "model.add(UpSampling2D(size=(2,2)))\n",
    "model.add(DepthwiseConv2D(32,(2,2), activation='tanh', padding='same'))\n",
    "model.add(UpSampling2D(size=(2,2)))\n",
    "model.add(DepthwiseConv2D(32,(2,2), activation='tanh', padding='same'))\n",
    "model.add(layers.ReLU(0.3))\n",
    "model.add(layers.Dropout(0.4))\n",
    "model.add(UpSampling2D(size=(2,2)))\n",
    "model.add(UpSampling2D(size=(2,2)))\n",
    "model.add(DepthwiseConv2D(2,(2,2), activation='tanh', padding='same'))\n",
    "model.add(layers.ReLU(0.3))\n",
    "model.add(layers.Dropout(0.2))\n",
    "model.add(UpSampling2D(size=(2,2)))\n",
    "model.add(layers.ReLU(0.3))\n",
    "model.add(layers.Dropout(0.2))\n",
    "model.add(AveragePooling2D(pool_size = (2,2)))\n",
    "model.add(layers.Dense(units=2))\n",
    "print(model.summary())"
   ]
  },
  {
   "cell_type": "markdown",
   "id": "level-budapest",
   "metadata": {},
   "source": [
    "##### Set Model Parameters"
   ]
  },
  {
   "cell_type": "code",
   "execution_count": 41,
   "id": "retained-colleague",
   "metadata": {
    "ExecuteTime": {
     "end_time": "2021-07-17T04:52:07.210452Z",
     "start_time": "2021-07-17T04:52:07.194883Z"
    }
   },
   "outputs": [],
   "source": [
    "def adam_optimizer():\n",
    "    return Adam(lr = 0.001, beta_1=0.99, beta_2=0.999)\n",
    "model.compile(loss='mape', optimizer=adam_optimizer())"
   ]
  },
  {
   "cell_type": "markdown",
   "id": "adjustable-personality",
   "metadata": {},
   "source": [
    "##### Data Preparation"
   ]
  },
  {
   "cell_type": "code",
   "execution_count": 31,
   "id": "popular-algeria",
   "metadata": {
    "ExecuteTime": {
     "end_time": "2021-07-17T04:48:35.826824Z",
     "start_time": "2021-07-17T04:48:35.818908Z"
    }
   },
   "outputs": [
    {
     "data": {
      "text/plain": [
       "(1, 256, 256)"
      ]
     },
     "execution_count": 31,
     "metadata": {},
     "output_type": "execute_result"
    }
   ],
   "source": [
    "# Issue \n",
    "X.shape"
   ]
  },
  {
   "cell_type": "code",
   "execution_count": 42,
   "id": "guilty-owner",
   "metadata": {
    "ExecuteTime": {
     "end_time": "2021-07-17T04:52:22.407217Z",
     "start_time": "2021-07-17T04:52:22.385389Z"
    }
   },
   "outputs": [
    {
     "ename": "NameError",
     "evalue": "name 'testsize' is not defined",
     "output_type": "error",
     "traceback": [
      "\u001b[0;31m---------------------------------------------------------------------------\u001b[0m",
      "\u001b[0;31mNameError\u001b[0m                                 Traceback (most recent call last)",
      "\u001b[0;32m<ipython-input-42-378745fc369d>\u001b[0m in \u001b[0;36m<module>\u001b[0;34m\u001b[0m\n\u001b[1;32m      1\u001b[0m \u001b[0;31m# Issue\u001b[0m\u001b[0;34m\u001b[0m\u001b[0;34m\u001b[0m\u001b[0;34m\u001b[0m\u001b[0m\n\u001b[0;32m----> 2\u001b[0;31m \u001b[0mX\u001b[0m\u001b[0;34m[\u001b[0m\u001b[0mtestsize\u001b[0m\u001b[0;34m:\u001b[0m\u001b[0;34m,\u001b[0m\u001b[0;34m]\u001b[0m\u001b[0;34m\u001b[0m\u001b[0;34m\u001b[0m\u001b[0m\n\u001b[0m",
      "\u001b[0;31mNameError\u001b[0m: name 'testsize' is not defined"
     ]
    }
   ],
   "source": [
    "# Issue\n",
    "X[testsize:,]"
   ]
  },
  {
   "cell_type": "code",
   "execution_count": 43,
   "id": "incorporated-homework",
   "metadata": {
    "ExecuteTime": {
     "end_time": "2021-07-17T04:53:11.030359Z",
     "start_time": "2021-07-17T04:53:11.018791Z"
    }
   },
   "outputs": [],
   "source": [
    "X = ((X.reshape(X.shape[0],X.shape[1],X.shape[2],1)))\n",
    "X = (X-255)/255\n",
    "Y = (Y-255)/255\n",
    "\n",
    "trainsize = ceil(0.8 * X.shape[0])\n",
    "testsize = ceil(0.2 * X.shape[0])+1\n",
    "\n",
    "train_inp = X[:trainsize,]\n",
    "test_inp = X[testsize:,]\n",
    "\n",
    "train_out = Y[:trainsize,]\n",
    "test_out = Y[testsize:,]"
   ]
  },
  {
   "cell_type": "code",
   "execution_count": 46,
   "id": "indian-location",
   "metadata": {
    "ExecuteTime": {
     "end_time": "2021-07-17T05:29:00.096765Z",
     "start_time": "2021-07-17T05:29:00.088289Z"
    }
   },
   "outputs": [
    {
     "data": {
      "text/plain": [
       "(1, 256, 256, 1)"
      ]
     },
     "execution_count": 46,
     "metadata": {},
     "output_type": "execute_result"
    }
   ],
   "source": [
    "train_inp.shape"
   ]
  },
  {
   "cell_type": "markdown",
   "id": "optical-rotation",
   "metadata": {},
   "source": [
    "note: the test_input will break with a single image because there is only 1 available to use on and it goes in training rather than testing"
   ]
  },
  {
   "cell_type": "markdown",
   "id": "dated-preliminary",
   "metadata": {},
   "source": [
    "##### Train the Model"
   ]
  },
  {
   "cell_type": "code",
   "execution_count": 44,
   "id": "nominated-participation",
   "metadata": {
    "ExecuteTime": {
     "end_time": "2021-07-17T04:54:17.435998Z",
     "start_time": "2021-07-17T04:53:33.382473Z"
    }
   },
   "outputs": [
    {
     "name": "stdout",
     "output_type": "stream",
     "text": [
      "Epoch 1/5\n"
     ]
    },
    {
     "ename": "KeyboardInterrupt",
     "evalue": "",
     "output_type": "error",
     "traceback": [
      "\u001b[0;31m---------------------------------------------------------------------------\u001b[0m",
      "\u001b[0;31mKeyboardInterrupt\u001b[0m                         Traceback (most recent call last)",
      "\u001b[0;32m<ipython-input-44-224a0ed11bce>\u001b[0m in \u001b[0;36m<module>\u001b[0;34m\u001b[0m\n\u001b[0;32m----> 1\u001b[0;31m \u001b[0mmodel\u001b[0m\u001b[0;34m.\u001b[0m\u001b[0mfit\u001b[0m\u001b[0;34m(\u001b[0m\u001b[0mx\u001b[0m\u001b[0;34m=\u001b[0m\u001b[0mtrain_inp\u001b[0m\u001b[0;34m,\u001b[0m \u001b[0my\u001b[0m\u001b[0;34m=\u001b[0m\u001b[0mtrain_out\u001b[0m\u001b[0;34m,\u001b[0m \u001b[0mbatch_size\u001b[0m\u001b[0;34m=\u001b[0m\u001b[0;36m10\u001b[0m\u001b[0;34m,\u001b[0m \u001b[0mepochs\u001b[0m\u001b[0;34m=\u001b[0m\u001b[0;36m5\u001b[0m\u001b[0;34m)\u001b[0m\u001b[0;34m\u001b[0m\u001b[0;34m\u001b[0m\u001b[0m\n\u001b[0m",
      "\u001b[0;32m/cvmfs/sft.cern.ch/lcg/views/LCG_100/x86_64-centos7-gcc8-opt/lib/python3.8/site-packages/tensorflow/python/keras/engine/training.py\u001b[0m in \u001b[0;36m_method_wrapper\u001b[0;34m(self, *args, **kwargs)\u001b[0m\n\u001b[1;32m    106\u001b[0m   \u001b[0;32mdef\u001b[0m \u001b[0m_method_wrapper\u001b[0m\u001b[0;34m(\u001b[0m\u001b[0mself\u001b[0m\u001b[0;34m,\u001b[0m \u001b[0;34m*\u001b[0m\u001b[0margs\u001b[0m\u001b[0;34m,\u001b[0m \u001b[0;34m**\u001b[0m\u001b[0mkwargs\u001b[0m\u001b[0;34m)\u001b[0m\u001b[0;34m:\u001b[0m\u001b[0;34m\u001b[0m\u001b[0;34m\u001b[0m\u001b[0m\n\u001b[1;32m    107\u001b[0m     \u001b[0;32mif\u001b[0m \u001b[0;32mnot\u001b[0m \u001b[0mself\u001b[0m\u001b[0;34m.\u001b[0m\u001b[0m_in_multi_worker_mode\u001b[0m\u001b[0;34m(\u001b[0m\u001b[0;34m)\u001b[0m\u001b[0;34m:\u001b[0m  \u001b[0;31m# pylint: disable=protected-access\u001b[0m\u001b[0;34m\u001b[0m\u001b[0;34m\u001b[0m\u001b[0m\n\u001b[0;32m--> 108\u001b[0;31m       \u001b[0;32mreturn\u001b[0m \u001b[0mmethod\u001b[0m\u001b[0;34m(\u001b[0m\u001b[0mself\u001b[0m\u001b[0;34m,\u001b[0m \u001b[0;34m*\u001b[0m\u001b[0margs\u001b[0m\u001b[0;34m,\u001b[0m \u001b[0;34m**\u001b[0m\u001b[0mkwargs\u001b[0m\u001b[0;34m)\u001b[0m\u001b[0;34m\u001b[0m\u001b[0;34m\u001b[0m\u001b[0m\n\u001b[0m\u001b[1;32m    109\u001b[0m \u001b[0;34m\u001b[0m\u001b[0m\n\u001b[1;32m    110\u001b[0m     \u001b[0;31m# Running inside `run_distribute_coordinator` already.\u001b[0m\u001b[0;34m\u001b[0m\u001b[0;34m\u001b[0m\u001b[0;34m\u001b[0m\u001b[0m\n",
      "\u001b[0;32m/cvmfs/sft.cern.ch/lcg/views/LCG_100/x86_64-centos7-gcc8-opt/lib/python3.8/site-packages/tensorflow/python/keras/engine/training.py\u001b[0m in \u001b[0;36mfit\u001b[0;34m(self, x, y, batch_size, epochs, verbose, callbacks, validation_split, validation_data, shuffle, class_weight, sample_weight, initial_epoch, steps_per_epoch, validation_steps, validation_batch_size, validation_freq, max_queue_size, workers, use_multiprocessing)\u001b[0m\n\u001b[1;32m   1096\u001b[0m                 batch_size=batch_size):\n\u001b[1;32m   1097\u001b[0m               \u001b[0mcallbacks\u001b[0m\u001b[0;34m.\u001b[0m\u001b[0mon_train_batch_begin\u001b[0m\u001b[0;34m(\u001b[0m\u001b[0mstep\u001b[0m\u001b[0;34m)\u001b[0m\u001b[0;34m\u001b[0m\u001b[0;34m\u001b[0m\u001b[0m\n\u001b[0;32m-> 1098\u001b[0;31m               \u001b[0mtmp_logs\u001b[0m \u001b[0;34m=\u001b[0m \u001b[0mtrain_function\u001b[0m\u001b[0;34m(\u001b[0m\u001b[0miterator\u001b[0m\u001b[0;34m)\u001b[0m\u001b[0;34m\u001b[0m\u001b[0;34m\u001b[0m\u001b[0m\n\u001b[0m\u001b[1;32m   1099\u001b[0m               \u001b[0;32mif\u001b[0m \u001b[0mdata_handler\u001b[0m\u001b[0;34m.\u001b[0m\u001b[0mshould_sync\u001b[0m\u001b[0;34m:\u001b[0m\u001b[0;34m\u001b[0m\u001b[0;34m\u001b[0m\u001b[0m\n\u001b[1;32m   1100\u001b[0m                 \u001b[0mcontext\u001b[0m\u001b[0;34m.\u001b[0m\u001b[0masync_wait\u001b[0m\u001b[0;34m(\u001b[0m\u001b[0;34m)\u001b[0m\u001b[0;34m\u001b[0m\u001b[0;34m\u001b[0m\u001b[0m\n",
      "\u001b[0;32m/cvmfs/sft.cern.ch/lcg/views/LCG_100/x86_64-centos7-gcc8-opt/lib/python3.8/site-packages/tensorflow/python/eager/def_function.py\u001b[0m in \u001b[0;36m__call__\u001b[0;34m(self, *args, **kwds)\u001b[0m\n\u001b[1;32m    778\u001b[0m       \u001b[0;32melse\u001b[0m\u001b[0;34m:\u001b[0m\u001b[0;34m\u001b[0m\u001b[0;34m\u001b[0m\u001b[0m\n\u001b[1;32m    779\u001b[0m         \u001b[0mcompiler\u001b[0m \u001b[0;34m=\u001b[0m \u001b[0;34m\"nonXla\"\u001b[0m\u001b[0;34m\u001b[0m\u001b[0;34m\u001b[0m\u001b[0m\n\u001b[0;32m--> 780\u001b[0;31m         \u001b[0mresult\u001b[0m \u001b[0;34m=\u001b[0m \u001b[0mself\u001b[0m\u001b[0;34m.\u001b[0m\u001b[0m_call\u001b[0m\u001b[0;34m(\u001b[0m\u001b[0;34m*\u001b[0m\u001b[0margs\u001b[0m\u001b[0;34m,\u001b[0m \u001b[0;34m**\u001b[0m\u001b[0mkwds\u001b[0m\u001b[0;34m)\u001b[0m\u001b[0;34m\u001b[0m\u001b[0;34m\u001b[0m\u001b[0m\n\u001b[0m\u001b[1;32m    781\u001b[0m \u001b[0;34m\u001b[0m\u001b[0m\n\u001b[1;32m    782\u001b[0m       \u001b[0mnew_tracing_count\u001b[0m \u001b[0;34m=\u001b[0m \u001b[0mself\u001b[0m\u001b[0;34m.\u001b[0m\u001b[0m_get_tracing_count\u001b[0m\u001b[0;34m(\u001b[0m\u001b[0;34m)\u001b[0m\u001b[0;34m\u001b[0m\u001b[0;34m\u001b[0m\u001b[0m\n",
      "\u001b[0;32m/cvmfs/sft.cern.ch/lcg/views/LCG_100/x86_64-centos7-gcc8-opt/lib/python3.8/site-packages/tensorflow/python/eager/def_function.py\u001b[0m in \u001b[0;36m_call\u001b[0;34m(self, *args, **kwds)\u001b[0m\n\u001b[1;32m    838\u001b[0m         \u001b[0;31m# Lifting succeeded, so variables are initialized and we can run the\u001b[0m\u001b[0;34m\u001b[0m\u001b[0;34m\u001b[0m\u001b[0;34m\u001b[0m\u001b[0m\n\u001b[1;32m    839\u001b[0m         \u001b[0;31m# stateless function.\u001b[0m\u001b[0;34m\u001b[0m\u001b[0;34m\u001b[0m\u001b[0;34m\u001b[0m\u001b[0m\n\u001b[0;32m--> 840\u001b[0;31m         \u001b[0;32mreturn\u001b[0m \u001b[0mself\u001b[0m\u001b[0;34m.\u001b[0m\u001b[0m_stateless_fn\u001b[0m\u001b[0;34m(\u001b[0m\u001b[0;34m*\u001b[0m\u001b[0margs\u001b[0m\u001b[0;34m,\u001b[0m \u001b[0;34m**\u001b[0m\u001b[0mkwds\u001b[0m\u001b[0;34m)\u001b[0m\u001b[0;34m\u001b[0m\u001b[0;34m\u001b[0m\u001b[0m\n\u001b[0m\u001b[1;32m    841\u001b[0m     \u001b[0;32melse\u001b[0m\u001b[0;34m:\u001b[0m\u001b[0;34m\u001b[0m\u001b[0;34m\u001b[0m\u001b[0m\n\u001b[1;32m    842\u001b[0m       \u001b[0mcanon_args\u001b[0m\u001b[0;34m,\u001b[0m \u001b[0mcanon_kwds\u001b[0m \u001b[0;34m=\u001b[0m\u001b[0;31m \u001b[0m\u001b[0;31m\\\u001b[0m\u001b[0;34m\u001b[0m\u001b[0;34m\u001b[0m\u001b[0m\n",
      "\u001b[0;32m/cvmfs/sft.cern.ch/lcg/views/LCG_100/x86_64-centos7-gcc8-opt/lib/python3.8/site-packages/tensorflow/python/eager/function.py\u001b[0m in \u001b[0;36m__call__\u001b[0;34m(self, *args, **kwargs)\u001b[0m\n\u001b[1;32m   2827\u001b[0m     \u001b[0;32mwith\u001b[0m \u001b[0mself\u001b[0m\u001b[0;34m.\u001b[0m\u001b[0m_lock\u001b[0m\u001b[0;34m:\u001b[0m\u001b[0;34m\u001b[0m\u001b[0;34m\u001b[0m\u001b[0m\n\u001b[1;32m   2828\u001b[0m       \u001b[0mgraph_function\u001b[0m\u001b[0;34m,\u001b[0m \u001b[0margs\u001b[0m\u001b[0;34m,\u001b[0m \u001b[0mkwargs\u001b[0m \u001b[0;34m=\u001b[0m \u001b[0mself\u001b[0m\u001b[0;34m.\u001b[0m\u001b[0m_maybe_define_function\u001b[0m\u001b[0;34m(\u001b[0m\u001b[0margs\u001b[0m\u001b[0;34m,\u001b[0m \u001b[0mkwargs\u001b[0m\u001b[0;34m)\u001b[0m\u001b[0;34m\u001b[0m\u001b[0;34m\u001b[0m\u001b[0m\n\u001b[0;32m-> 2829\u001b[0;31m     \u001b[0;32mreturn\u001b[0m \u001b[0mgraph_function\u001b[0m\u001b[0;34m.\u001b[0m\u001b[0m_filtered_call\u001b[0m\u001b[0;34m(\u001b[0m\u001b[0margs\u001b[0m\u001b[0;34m,\u001b[0m \u001b[0mkwargs\u001b[0m\u001b[0;34m)\u001b[0m  \u001b[0;31m# pylint: disable=protected-access\u001b[0m\u001b[0;34m\u001b[0m\u001b[0;34m\u001b[0m\u001b[0m\n\u001b[0m\u001b[1;32m   2830\u001b[0m \u001b[0;34m\u001b[0m\u001b[0m\n\u001b[1;32m   2831\u001b[0m   \u001b[0;34m@\u001b[0m\u001b[0mproperty\u001b[0m\u001b[0;34m\u001b[0m\u001b[0;34m\u001b[0m\u001b[0m\n",
      "\u001b[0;32m/cvmfs/sft.cern.ch/lcg/views/LCG_100/x86_64-centos7-gcc8-opt/lib/python3.8/site-packages/tensorflow/python/eager/function.py\u001b[0m in \u001b[0;36m_filtered_call\u001b[0;34m(self, args, kwargs, cancellation_manager)\u001b[0m\n\u001b[1;32m   1841\u001b[0m       \u001b[0;31m`\u001b[0m\u001b[0margs\u001b[0m\u001b[0;31m`\u001b[0m \u001b[0;32mand\u001b[0m\u001b[0;31m \u001b[0m\u001b[0;31m`\u001b[0m\u001b[0mkwargs\u001b[0m\u001b[0;31m`\u001b[0m\u001b[0;34m.\u001b[0m\u001b[0;34m\u001b[0m\u001b[0;34m\u001b[0m\u001b[0m\n\u001b[1;32m   1842\u001b[0m     \"\"\"\n\u001b[0;32m-> 1843\u001b[0;31m     return self._call_flat(\n\u001b[0m\u001b[1;32m   1844\u001b[0m         [t for t in nest.flatten((args, kwargs), expand_composites=True)\n\u001b[1;32m   1845\u001b[0m          if isinstance(t, (ops.Tensor,\n",
      "\u001b[0;32m/cvmfs/sft.cern.ch/lcg/views/LCG_100/x86_64-centos7-gcc8-opt/lib/python3.8/site-packages/tensorflow/python/eager/function.py\u001b[0m in \u001b[0;36m_call_flat\u001b[0;34m(self, args, captured_inputs, cancellation_manager)\u001b[0m\n\u001b[1;32m   1921\u001b[0m         and executing_eagerly):\n\u001b[1;32m   1922\u001b[0m       \u001b[0;31m# No tape is watching; skip to running the function.\u001b[0m\u001b[0;34m\u001b[0m\u001b[0;34m\u001b[0m\u001b[0;34m\u001b[0m\u001b[0m\n\u001b[0;32m-> 1923\u001b[0;31m       return self._build_call_outputs(self._inference_function.call(\n\u001b[0m\u001b[1;32m   1924\u001b[0m           ctx, args, cancellation_manager=cancellation_manager))\n\u001b[1;32m   1925\u001b[0m     forward_backward = self._select_forward_and_backward_functions(\n",
      "\u001b[0;32m/cvmfs/sft.cern.ch/lcg/views/LCG_100/x86_64-centos7-gcc8-opt/lib/python3.8/site-packages/tensorflow/python/eager/function.py\u001b[0m in \u001b[0;36mcall\u001b[0;34m(self, ctx, args, cancellation_manager)\u001b[0m\n\u001b[1;32m    543\u001b[0m       \u001b[0;32mwith\u001b[0m \u001b[0m_InterpolateFunctionError\u001b[0m\u001b[0;34m(\u001b[0m\u001b[0mself\u001b[0m\u001b[0;34m)\u001b[0m\u001b[0;34m:\u001b[0m\u001b[0;34m\u001b[0m\u001b[0;34m\u001b[0m\u001b[0m\n\u001b[1;32m    544\u001b[0m         \u001b[0;32mif\u001b[0m \u001b[0mcancellation_manager\u001b[0m \u001b[0;32mis\u001b[0m \u001b[0;32mNone\u001b[0m\u001b[0;34m:\u001b[0m\u001b[0;34m\u001b[0m\u001b[0;34m\u001b[0m\u001b[0m\n\u001b[0;32m--> 545\u001b[0;31m           outputs = execute.execute(\n\u001b[0m\u001b[1;32m    546\u001b[0m               \u001b[0mstr\u001b[0m\u001b[0;34m(\u001b[0m\u001b[0mself\u001b[0m\u001b[0;34m.\u001b[0m\u001b[0msignature\u001b[0m\u001b[0;34m.\u001b[0m\u001b[0mname\u001b[0m\u001b[0;34m)\u001b[0m\u001b[0;34m,\u001b[0m\u001b[0;34m\u001b[0m\u001b[0;34m\u001b[0m\u001b[0m\n\u001b[1;32m    547\u001b[0m               \u001b[0mnum_outputs\u001b[0m\u001b[0;34m=\u001b[0m\u001b[0mself\u001b[0m\u001b[0;34m.\u001b[0m\u001b[0m_num_outputs\u001b[0m\u001b[0;34m,\u001b[0m\u001b[0;34m\u001b[0m\u001b[0;34m\u001b[0m\u001b[0m\n",
      "\u001b[0;32m/cvmfs/sft.cern.ch/lcg/views/LCG_100/x86_64-centos7-gcc8-opt/lib/python3.8/site-packages/tensorflow/python/eager/execute.py\u001b[0m in \u001b[0;36mquick_execute\u001b[0;34m(op_name, num_outputs, inputs, attrs, ctx, name)\u001b[0m\n\u001b[1;32m     57\u001b[0m   \u001b[0;32mtry\u001b[0m\u001b[0;34m:\u001b[0m\u001b[0;34m\u001b[0m\u001b[0;34m\u001b[0m\u001b[0m\n\u001b[1;32m     58\u001b[0m     \u001b[0mctx\u001b[0m\u001b[0;34m.\u001b[0m\u001b[0mensure_initialized\u001b[0m\u001b[0;34m(\u001b[0m\u001b[0;34m)\u001b[0m\u001b[0;34m\u001b[0m\u001b[0;34m\u001b[0m\u001b[0m\n\u001b[0;32m---> 59\u001b[0;31m     tensors = pywrap_tfe.TFE_Py_Execute(ctx._handle, device_name, op_name,\n\u001b[0m\u001b[1;32m     60\u001b[0m                                         inputs, attrs, num_outputs)\n\u001b[1;32m     61\u001b[0m   \u001b[0;32mexcept\u001b[0m \u001b[0mcore\u001b[0m\u001b[0;34m.\u001b[0m\u001b[0m_NotOkStatusException\u001b[0m \u001b[0;32mas\u001b[0m \u001b[0me\u001b[0m\u001b[0;34m:\u001b[0m\u001b[0;34m\u001b[0m\u001b[0;34m\u001b[0m\u001b[0m\n",
      "\u001b[0;31mKeyboardInterrupt\u001b[0m: "
     ]
    }
   ],
   "source": [
    "model.fit(x=train_inp, y=train_out, batch_size=10, epochs=5)"
   ]
  },
  {
   "cell_type": "markdown",
   "id": "tight-fairy",
   "metadata": {},
   "source": [
    "##### Obtain Predictions"
   ]
  },
  {
   "cell_type": "code",
   "execution_count": 25,
   "id": "relative-racing",
   "metadata": {
    "ExecuteTime": {
     "end_time": "2021-07-14T23:38:21.456307Z",
     "start_time": "2021-07-14T23:38:21.449003Z"
    }
   },
   "outputs": [
    {
     "data": {
      "text/plain": [
       "array([], shape=(0, 256, 256, 1), dtype=float64)"
      ]
     },
     "execution_count": 25,
     "metadata": {},
     "output_type": "execute_result"
    }
   ],
   "source": [
    "# Issue \n",
    "test_inp"
   ]
  },
  {
   "cell_type": "code",
   "execution_count": 16,
   "id": "spiritual-yahoo",
   "metadata": {
    "ExecuteTime": {
     "end_time": "2021-07-14T23:37:03.507406Z",
     "start_time": "2021-07-14T23:36:49.411299Z"
    }
   },
   "outputs": [
    {
     "ename": "UnboundLocalError",
     "evalue": "local variable 'batch_outputs' referenced before assignment",
     "output_type": "error",
     "traceback": [
      "\u001b[0;31m---------------------------------------------------------------------------\u001b[0m",
      "\u001b[0;31mUnboundLocalError\u001b[0m                         Traceback (most recent call last)",
      "\u001b[0;32m<ipython-input-16-fc6a948270f2>\u001b[0m in \u001b[0;36m<module>\u001b[0;34m\u001b[0m\n\u001b[1;32m      1\u001b[0m \u001b[0mtrain_pred\u001b[0m \u001b[0;34m=\u001b[0m \u001b[0mmodel\u001b[0m\u001b[0;34m.\u001b[0m\u001b[0mpredict\u001b[0m\u001b[0;34m(\u001b[0m\u001b[0mtrain_inp\u001b[0m\u001b[0;34m)\u001b[0m\u001b[0;34m\u001b[0m\u001b[0;34m\u001b[0m\u001b[0m\n\u001b[0;32m----> 2\u001b[0;31m \u001b[0mtest_pred\u001b[0m \u001b[0;34m=\u001b[0m \u001b[0mmodel\u001b[0m\u001b[0;34m.\u001b[0m\u001b[0mpredict\u001b[0m\u001b[0;34m(\u001b[0m\u001b[0mtest_inp\u001b[0m\u001b[0;34m)\u001b[0m\u001b[0;34m\u001b[0m\u001b[0;34m\u001b[0m\u001b[0m\n\u001b[0m\u001b[1;32m      3\u001b[0m \u001b[0;34m\u001b[0m\u001b[0m\n\u001b[1;32m      4\u001b[0m \u001b[0mtrain_random\u001b[0m\u001b[0;34m=\u001b[0m\u001b[0mrandom\u001b[0m\u001b[0;34m.\u001b[0m\u001b[0mrandint\u001b[0m\u001b[0;34m(\u001b[0m\u001b[0;36m1\u001b[0m\u001b[0;34m,\u001b[0m\u001b[0mtrainsize\u001b[0m\u001b[0;34m)\u001b[0m\u001b[0;34m\u001b[0m\u001b[0;34m\u001b[0m\u001b[0m\n\u001b[1;32m      5\u001b[0m \u001b[0mtest_random\u001b[0m\u001b[0;34m=\u001b[0m\u001b[0mrandom\u001b[0m\u001b[0;34m.\u001b[0m\u001b[0mrandint\u001b[0m\u001b[0;34m(\u001b[0m\u001b[0;36m1\u001b[0m\u001b[0;34m,\u001b[0m\u001b[0mtestsize\u001b[0m\u001b[0;34m)\u001b[0m\u001b[0;34m\u001b[0m\u001b[0;34m\u001b[0m\u001b[0m\n",
      "\u001b[0;32m/cvmfs/sft.cern.ch/lcg/views/LCG_100/x86_64-centos7-gcc8-opt/lib/python3.8/site-packages/tensorflow/python/keras/engine/training.py\u001b[0m in \u001b[0;36m_method_wrapper\u001b[0;34m(self, *args, **kwargs)\u001b[0m\n\u001b[1;32m    128\u001b[0m       raise ValueError('{} is not supported in multi-worker mode.'.format(\n\u001b[1;32m    129\u001b[0m           method.__name__))\n\u001b[0;32m--> 130\u001b[0;31m     \u001b[0;32mreturn\u001b[0m \u001b[0mmethod\u001b[0m\u001b[0;34m(\u001b[0m\u001b[0mself\u001b[0m\u001b[0;34m,\u001b[0m \u001b[0;34m*\u001b[0m\u001b[0margs\u001b[0m\u001b[0;34m,\u001b[0m \u001b[0;34m**\u001b[0m\u001b[0mkwargs\u001b[0m\u001b[0;34m)\u001b[0m\u001b[0;34m\u001b[0m\u001b[0;34m\u001b[0m\u001b[0m\n\u001b[0m\u001b[1;32m    131\u001b[0m \u001b[0;34m\u001b[0m\u001b[0m\n\u001b[1;32m    132\u001b[0m   return tf_decorator.make_decorator(\n",
      "\u001b[0;32m/cvmfs/sft.cern.ch/lcg/views/LCG_100/x86_64-centos7-gcc8-opt/lib/python3.8/site-packages/tensorflow/python/keras/engine/training.py\u001b[0m in \u001b[0;36mpredict\u001b[0;34m(self, x, batch_size, verbose, steps, callbacks, max_queue_size, workers, use_multiprocessing)\u001b[0m\n\u001b[1;32m   1612\u001b[0m             \u001b[0mcallbacks\u001b[0m\u001b[0;34m.\u001b[0m\u001b[0mon_predict_batch_end\u001b[0m\u001b[0;34m(\u001b[0m\u001b[0mend_step\u001b[0m\u001b[0;34m,\u001b[0m \u001b[0;34m{\u001b[0m\u001b[0;34m'outputs'\u001b[0m\u001b[0;34m:\u001b[0m \u001b[0mbatch_outputs\u001b[0m\u001b[0;34m}\u001b[0m\u001b[0;34m)\u001b[0m\u001b[0;34m\u001b[0m\u001b[0;34m\u001b[0m\u001b[0m\n\u001b[1;32m   1613\u001b[0m       \u001b[0mcallbacks\u001b[0m\u001b[0;34m.\u001b[0m\u001b[0mon_predict_end\u001b[0m\u001b[0;34m(\u001b[0m\u001b[0;34m)\u001b[0m\u001b[0;34m\u001b[0m\u001b[0;34m\u001b[0m\u001b[0m\n\u001b[0;32m-> 1614\u001b[0;31m     \u001b[0mall_outputs\u001b[0m \u001b[0;34m=\u001b[0m \u001b[0mnest\u001b[0m\u001b[0;34m.\u001b[0m\u001b[0mmap_structure_up_to\u001b[0m\u001b[0;34m(\u001b[0m\u001b[0mbatch_outputs\u001b[0m\u001b[0;34m,\u001b[0m \u001b[0mconcat\u001b[0m\u001b[0;34m,\u001b[0m \u001b[0moutputs\u001b[0m\u001b[0;34m)\u001b[0m\u001b[0;34m\u001b[0m\u001b[0;34m\u001b[0m\u001b[0m\n\u001b[0m\u001b[1;32m   1615\u001b[0m     \u001b[0;32mreturn\u001b[0m \u001b[0mtf_utils\u001b[0m\u001b[0;34m.\u001b[0m\u001b[0mto_numpy_or_python_type\u001b[0m\u001b[0;34m(\u001b[0m\u001b[0mall_outputs\u001b[0m\u001b[0;34m)\u001b[0m\u001b[0;34m\u001b[0m\u001b[0;34m\u001b[0m\u001b[0m\n\u001b[1;32m   1616\u001b[0m \u001b[0;34m\u001b[0m\u001b[0m\n",
      "\u001b[0;31mUnboundLocalError\u001b[0m: local variable 'batch_outputs' referenced before assignment"
     ]
    }
   ],
   "source": [
    "train_pred = model.predict(train_inp)\n",
    "test_pred = model.predict(test_inp)\n",
    "\n",
    "train_random=random.randint(1,trainsize)\n",
    "test_random=random.randint(1,testsize)\n",
    "\n",
    "check=np.interp(train_pred, (train_pred.min(), train_pred.max()), (0,255))\n",
    "\n",
    "l_channel = test_inp[20]*255\n",
    "a_channel=check1[20,:,:,0]\n",
    "b_channel=check1[20,:,:,1]\n",
    "\n",
    "transfer = cv2.merge([l_channel, a_channel, b_channel])\n",
    "transfer = cv2.cvtColor(transfer.astype('uint8'), cv2.COLOR_LAB2BGR)"
   ]
  },
  {
   "cell_type": "markdown",
   "id": "lyric-cabin",
   "metadata": {},
   "source": [
    "##### View the Results"
   ]
  },
  {
   "cell_type": "code",
   "execution_count": 101,
   "id": "hungarian-condition",
   "metadata": {},
   "outputs": [
    {
     "data": {
      "text/plain": [
       "<matplotlib.image.AxesImage at 0x7f4e9469e880>"
      ]
     },
     "execution_count": 101,
     "metadata": {},
     "output_type": "execute_result"
    },
    {
     "data": {
      "image/png": "[encoded data removed]",
      "text/plain": [
       "<Figure size 432x288 with 1 Axes>"
      ]
     },
     "metadata": {
      "needs_background": "light"
     },
     "output_type": "display_data"
    }
   ],
   "source": [
    "plt.imshow(transfer)"
   ]
  },
  {
   "cell_type": "markdown",
   "id": "skilled-worth",
   "metadata": {},
   "source": [
    "<hr>\n",
    "<hr>\n",
    "<hr>"
   ]
  },
  {
   "cell_type": "markdown",
   "id": "expired-finland",
   "metadata": {},
   "source": [
    "# With that example done, now for our official model:"
   ]
  },
  {
   "cell_type": "markdown",
   "id": "tropical-conjunction",
   "metadata": {},
   "source": [
    "## creating the data matrix\n",
    "we only need a 2 dimension matrix to hold 3 features (X as eta, Y as phi, Z as occupancy)"
   ]
  },
  {
   "cell_type": "code",
   "execution_count": 117,
   "id": "tribal-africa",
   "metadata": {},
   "outputs": [
    {
     "data": {
      "text/plain": [
       "0"
      ]
     },
     "execution_count": 117,
     "metadata": {},
     "output_type": "execute_result"
    }
   ],
   "source": [
    "np.set_printoptions(threshold=np.inf)\n",
    "eta_length = 64\n",
    "phi_length = 64\n",
    "EPO = np.zeros((eta_length,phi_length), dtype=int)\n",
    "#Thus, the occupancy at eta=0 and phi=2 is... (all are currently set to 0, will populate them from dataframe)\n",
    "EPO[0,2]"
   ]
  },
  {
   "cell_type": "markdown",
   "id": "communist-arizona",
   "metadata": {},
   "source": [
    "With the table setup and ideally the occupancy values populated from the dataframe(s), we must now consider how we will classify our values. Because we only have at best 4 dimensions (eta,phi,hot,cold) and this can be expressed in a single lspace like matrix (with our specified dimensions its as if the hot/cold is the light/dark values inside the grey scale matrix), so it might look something like this:\n",
    "<br>\n",
    "A = \n",
    "$\\begin{bmatrix} \n",
    "a_{00} & a_{01} & ... & a_{0,\\phi}  \\\\\n",
    "a_{10} & a_{11} & ... & a_{1,\\phi} \\\\\n",
    "... & ... & ... & ... \\\\\n",
    "a_{\\eta,0} & a_{\\eta,1} & ... & a_{\\eta,\\phi}\n",
    "\\end{bmatrix}$\n",
    "\n",
    "<br>\n",
    "\n",
    "At location $a_{00}$, if the value is cold as possible, it would be a 0, if it were as hot as possible it would be $o_{max}$ where $o$ is the occupancy value at location $\\eta=0$,$\\phi=0$"
   ]
  },
  {
   "cell_type": "markdown",
   "id": "structural-reproduction",
   "metadata": {},
   "source": [
    "- It appears that the occupancy value for $o_{max}$ is used for the hottest value (deep red) on the chart. This means between two different kinds of histograms, the deep red value or $o_{max}$ would be different than the $o_{max}$ on other histograms, so we would not be able to compare them together unless we <b>normalized the occupancy values between histograms!</b>"
   ]
  },
  {
   "cell_type": "markdown",
   "id": "addressed-glass",
   "metadata": {},
   "source": [
    "- as for the x/y scale on the histogram. When the scales were converted from ROOT TH1/2 to Pandas Dataframe, the original scales were lost because in the pandas dataframe, the coordinate are for the <b>bin coordinates relative to the histogram</b> whereas <b>the actual scale(histogram scale) on the histogram that we are interested in need to be converted to and from bin scale(dataframe)</b>"
   ]
  },
  {
   "cell_type": "markdown",
   "id": "marine-acoustic",
   "metadata": {},
   "source": [
    "- further, we 'could' give the matrix an additional feature/dimension that would represent the specific histogram that it is from. Suppose there are only 5 different kinds of histograms, then the shape of our matrix goes from ($\\eta_{max}$,$\\phi_{max}$) to ($\\eta_{max}$,$\\phi_{max}$,5) ...this is definately worth considering. It could handle the classification for the entire set of histograms we are interested in. However, the more dimensions or types of histograms it considers, the more data it will require to train the thing. For each type of histogram we are probably looking at some hundreds to thousands of histograms in the form of small memory size processed dataframes. So a single dataframe that contains all of the histograms with their respective eta,phi,occupancy values would be ideal. <b>we have this already</b> it just needs to be one-hot encoded for the histograms. \n",
    "- Additionally, we 'could' add yet another feature that would allow us to distinguish between TH1/TH2 files. But this could be going a little too far. It might be easier to do a single model per file type since there are generally only two of interest at the moment (TH1 and TH2s). We have been talking about the TH2s up until this point because they are the ones that have the eta/phi/occ dimensions. The TH1s I believe only have the eta/occupancy dimensions. \n",
    "- we also have to be careful that the Z or histogram values of each respective TH1/TH2 is actually occupancy rather than some other value. But they should classify accordingly I think as long as we account for the type of histogram"
   ]
  },
  {
   "cell_type": "markdown",
   "id": "fixed-exclusion",
   "metadata": {},
   "source": [
    "##### Lets take a look at the stuff in the bins real quick"
   ]
  },
  {
   "cell_type": "code",
   "execution_count": 1,
   "id": "loving-momentum",
   "metadata": {},
   "outputs": [
    {
     "name": "stdout",
     "output_type": "stream",
     "text": [
      "Welcome to JupyROOT 6.16/00\n"
     ]
    }
   ],
   "source": [
    "import ROOT"
   ]
  },
  {
   "cell_type": "code",
   "execution_count": 17,
   "id": "detected-bosnia",
   "metadata": {},
   "outputs": [
    {
     "name": "stdout",
     "output_type": "stream",
     "text": [
      "data18_13TeV.00354176.express_express.merge.HIST.f941_h310._0001.1  July2020\r\n",
      "data18_13TeV.00354176.physics_Main.merge.HIST.f947_h315._0001.1     test.pdf\r\n",
      "histogram.csv\r\n"
     ]
    }
   ],
   "source": [
    "!ls '../../../THESIS files/datafiles/'"
   ]
  },
  {
   "cell_type": "code",
   "execution_count": 2,
   "id": "random-orlando",
   "metadata": {},
   "outputs": [],
   "source": [
    "h_file = ROOT.TFile.Open('../../../THESIS files/datafiles/data18_13TeV.00354176.physics_Main.merge.HIST.f947_h315._0001.1')\n",
    "fname = 'run_354176/CaloMonitoring/ClusterMon/CaloCalTopoClustersNoTrigSel/2d_Rates/m_clus_etaphi_Et_thresh1'"
   ]
  },
  {
   "cell_type": "code",
   "execution_count": 3,
   "id": "dutch-small",
   "metadata": {},
   "outputs": [],
   "source": [
    "h = h_file.Get(fname)"
   ]
  },
  {
   "cell_type": "code",
   "execution_count": 4,
   "id": "waiting-trash",
   "metadata": {},
   "outputs": [],
   "source": [
    "c = ROOT.TCanvas(\"myCanvasName\", \"The Canvas Title\", 800, 600)"
   ]
  },
  {
   "cell_type": "code",
   "execution_count": 5,
   "id": "understanding-anatomy",
   "metadata": {},
   "outputs": [
    {
     "data": {
      "image/png": "[encoded data removed]",
      "text/plain": [
       "<IPython.core.display.Image object>"
      ]
     },
     "metadata": {},
     "output_type": "display_data"
    }
   ],
   "source": [
    "h.Draw()\n",
    "c.Draw()"
   ]
  },
  {
   "cell_type": "code",
   "execution_count": 1,
   "id": "median-script",
   "metadata": {},
   "outputs": [
    {
     "name": "stdout",
     "output_type": "stream",
     "text": [
      "Welcome to JupyROOT 6.16/00\n"
     ]
    }
   ],
   "source": [
    "import ROOT\n",
    "h_file = ROOT.TFile.Open('../../../THESIS files/datafiles/data18_13TeV.00354176.physics_Main.merge.HIST.f947_h315._0001.1')\n",
    "fname = 'run_354176/CaloMonitoring/ClusterMon/CaloCalTopoClustersNoTrigSel/2d_Rates/m_clus_etaphi_Et_thresh1'\n",
    "h = h_file.Get(fname)"
   ]
  },
  {
   "cell_type": "code",
   "execution_count": null,
   "id": "tender-trade",
   "metadata": {},
   "outputs": [],
   "source": [
    "# h.GetXaxis().GetLabels()"
   ]
  },
  {
   "cell_type": "code",
   "execution_count": 5,
   "id": "speaking-visit",
   "metadata": {},
   "outputs": [
    {
     "data": {
      "text/plain": [
       "0.0"
      ]
     },
     "execution_count": 5,
     "metadata": {},
     "output_type": "execute_result"
    }
   ],
   "source": [
    "h.GetZaxis().GetXmin()"
   ]
  },
  {
   "cell_type": "code",
   "execution_count": 6,
   "id": "devoted-honey",
   "metadata": {},
   "outputs": [
    {
     "data": {
      "text/plain": [
       "4.9"
      ]
     },
     "metadata": {},
     "output_type": "display_data"
    },
    {
     "data": {
      "text/plain": [
       "-4.9"
      ]
     },
     "metadata": {},
     "output_type": "display_data"
    },
    {
     "data": {
      "text/plain": [
       "3.15"
      ]
     },
     "metadata": {},
     "output_type": "display_data"
    },
    {
     "data": {
      "text/plain": [
       "-3.15"
      ]
     },
     "metadata": {},
     "output_type": "display_data"
    },
    {
     "data": {
      "text/plain": [
       "98"
      ]
     },
     "metadata": {},
     "output_type": "display_data"
    },
    {
     "data": {
      "text/plain": [
       "64"
      ]
     },
     "metadata": {},
     "output_type": "display_data"
    },
    {
     "data": {
      "text/plain": [
       "1.0"
      ]
     },
     "metadata": {},
     "output_type": "display_data"
    },
    {
     "data": {
      "text/plain": [
       "0.0"
      ]
     },
     "metadata": {},
     "output_type": "display_data"
    }
   ],
   "source": [
    "display(h.GetXaxis().GetXmax())\n",
    "display(h.GetXaxis().GetXmin())\n",
    "display(h.GetYaxis().GetXmax())\n",
    "display(h.GetYaxis().GetXmin())\n",
    "display(h.GetNbinsX())\n",
    "display(h.GetNbinsY())\n",
    "display(h.GetZaxis().GetXmax())\n",
    "display(h.GetZaxis().GetXmin())"
   ]
  },
  {
   "cell_type": "markdown",
   "id": "tracked-violence",
   "metadata": {},
   "source": [
    "As you can see above, if you were to compare the last two numbers ,the X and Y axis repectively, you would see that this is exactly the X/Y values that can be seen in the processed dataframe. \n",
    "- So there are 98+1 X values and 64+1 Y entries in the processed dataframe that come from here\n",
    "- so the scale we need Xmax=4.9 here is at 98\n",
    "- the 0 value on the scale we need is 98/2\n",
    "- the Xmin=-4.9 value here then is at 0 in our dataframe\n",
    "- if the total values in X is 98+1(or 99), and we need to fit \n",
    "- furthermore, we can see that the occupancy values in the z axis go from 0 to 1. This effectively is a percentage where the max occupancy from any bin located at (X,Y) can be only as much as 100% which as we expected before, will differ between histogram because the max detected occupancy will not necessarily always be the same. Especially if what is being analyzed is totally different.\n",
    "those 99 values between 4.9 and -4.9 (a magnitude of 9.8 or Xmax_dataframe/2)\n",
    "\n",
    "\n",
    "Why do we need to convert it to the histogram scale? Reasons. Otherwise, we need to convert these scales to the scale on the matrix that will be grey scale like. So lets take a look at this particular example what such a matrix might look like:"
   ]
  },
  {
   "cell_type": "markdown",
   "id": "plastic-wright",
   "metadata": {},
   "source": [
    "- we have 98+1 X values\n",
    "- we have 64+1 Y values\n",
    "- we have 0 to 100% of maximum occupancy Z values ..or a total of (98+1)(64+1) Z values\n",
    "our matrix then will look like the following:\n",
    "$\n",
    "O = \n",
    "\\begin{bmatrix}\n",
    "\\alpha_{0,0} & ... & \\alpha_{98,0} \\\\\n",
    "... \\\\\n",
    "\\alpha_{0,64} & ... & \\alpha_{98,64}\n",
    "\\end{bmatrix}\n",
    "$\n",
    "\n",
    "where each element $\\alpha_{\\eta,\\phi}$ is the occupancy at the bin $(\\eta,\\phi)$\n",
    "\n",
    "Now, the maximum value that a color matrix can take is set, but since we aren't restricted by that, our occupancy matrix will contain the occupancies, whatever they may be for our classification model. We will just have to rewire a good bit of the CNN network because its unecessary to make it 100% like an image. Just the CNN alone hunts for solutions like it were an image. So that is enough.\n",
    "\n",
    "When will we convert the image to hot/cold values? \n",
    "- The hot(red) values depend on the occupancy, where $\\alpha_{max} = 1.0 = 100\\% =$ deep red color (on root hist)\n",
    "- The cold(blue) values depend on the occupancy, where $\\alpha_{min} = 0.0 = 0\\% =$ deep blue color (on root hist)\n",
    "\n",
    "For the algorithm, all we need to do is use the CNN once the matrix is setup, feed it the training data, test, evaluate, etc. The part about hot/red and cold/blue values is part of the 'after the fact' modelling has been completed.\n",
    "\n",
    "What do we need now?\n",
    "We need to actually get the data. \n",
    "<b>How much do we need?</b>\n",
    " -  1000 of each individual histogram as a minimum, 10k would be better, more even better (1000-10, run files)\n",
    " - if that is impossible to get, we may need to collect similar files and reduce the total number of histograms per type\n",
    "IMPORTANT, we don't just need the data->processed->dataframe, <b>the dataframe needs to include a feature that says quality</b> (0/1/2) for r/y/g for bad/warning/good. This means <b>The dataframe itself will require a slight adjustment in the processing phase because we need the new feature</b>\n",
    " "
   ]
  },
  {
   "cell_type": "markdown",
   "id": "embedded-criterion",
   "metadata": {},
   "source": [
    "##### TODO\n",
    "1. Get the 1000 or however many runs for the 1000+ histograms of each type, make sure they include good/bad or good/warning/bad known values for each histogram\n",
    "2. add the 'quality' feature to the dataframe processing file that labels each coordinate (X,Y,occupancy,label) as label=0(good),1(warning),2(bad)\n",
    "3. create a script or function that will convert the dataframe to the matrix that can be used in the CNN\n",
    "4. Construct the CNN loosely based off of the above CNN to classify input=(X,Y,occupancy,etc) as output=(quality)\n",
    "5. test it"
   ]
  },
  {
   "cell_type": "code",
   "execution_count": null,
   "id": "mysterious-circumstances",
   "metadata": {},
   "outputs": [],
   "source": [
    "#from some c++ example online....this wont work in pyroot, dont run\n",
    "void r2d() { \n",
    "    TFile *f = TFile::Open(\"cross-section.root\"); \n",
    "    TH2 *h1 = (TH2*)f->Get(\"hist_cs\"); \n",
    "    Int_t nx = h1->GetXaxis()->GetNbins(); \n",
    "    Double_t xmin = h1->GetXaxis()->GetXmin(); \n",
    "    Double_t xmax = h1->GetXaxis()->GetXmax(); \n",
    "    Int_t ny = h1->GetYaxis()->GetNbins(); \n",
    "    Double_t ymin = h1->GetYaxis()->GetXmin(); \n",
    "    Double_t ymax = h1->GetYaxis()->GetXmax(); \n",
    "    TH2F *h2 = new TH2F(\"hist_cs_2\",h1->GetTitle(),nx,xmin,xmax,ny,ymin,ymax); \n",
    "    for (Int_t i=1;i<=nx;i++) { \n",
    "        for (Int_t j=1;j<=ny;j++) { \n",
    "            h2->SetBinContent(i,j,h1->GetBinContent(i,j));\n",
    "        } \n",
    "    } \n",
    "    h2->SetEntries(h1->GetEntries()); \n",
    "    gStyle->SetPalette(1); \n",
    "    TCanvas *c1 = new TCanvas(\"c1\",\"c1\",600,800); \n",
    "    c1->Divide(1,2); \n",
    "    c1->cd(1); \n",
    "    h1->Draw(\"col\"); \n",
    "    c1->cd(2); \n",
    "    h2->GetXaxis()->SetLabelOffset(999); \n",
    "    h2->Draw(\"col\"); \n",
    "    TText label; \n",
    "    label.SetTextSize(0.04); \n",
    "    label.SetTextAlign(22); \n",
    "    Double_t ylabel = h2->GetYaxis()->GetBinLowEdge(1) - 0.3*h2->GetYaxis()->GetBinWidth(1); \n",
    "    for (Int_t k=0;k<=nx;k++) { \n",
    "        Double_t xlow = h1->GetXaxis()->GetBinUpEdge(k); \n",
    "        Double_t xnew = h2->GetXaxis()->GetBinLowEdge(k+1); \n",
    "        label.DrawText(xnew,ylabel,Form(\"%5.1f\",xlow)); \n",
    "    } \n",
    "} "
   ]
  },
  {
   "cell_type": "code",
   "execution_count": 9,
   "id": "alone-heating",
   "metadata": {},
   "outputs": [
    {
     "data": {
      "text/plain": [
       "-3.1795312499999997"
      ]
     },
     "execution_count": 9,
     "metadata": {},
     "output_type": "execute_result"
    }
   ],
   "source": [
    "#ylabel\n",
    "h.GetYaxis().GetBinLowEdge(1) - 0.3*h.GetYaxis().GetBinWidth(1)"
   ]
  },
  {
   "cell_type": "code",
   "execution_count": 12,
   "id": "wicked-tooth",
   "metadata": {},
   "outputs": [
    {
     "data": {
      "text/plain": [
       "-3.15"
      ]
     },
     "execution_count": 12,
     "metadata": {},
     "output_type": "execute_result"
    }
   ],
   "source": [
    "h.GetYaxis().GetBinLowEdge(1)"
   ]
  },
  {
   "cell_type": "code",
   "execution_count": 13,
   "id": "fifty-sheriff",
   "metadata": {},
   "outputs": [
    {
     "data": {
      "text/plain": [
       "0.0984375"
      ]
     },
     "execution_count": 13,
     "metadata": {},
     "output_type": "execute_result"
    }
   ],
   "source": [
    "h.GetYaxis().GetBinWidth(1)"
   ]
  },
  {
   "cell_type": "markdown",
   "id": "native-cigarette",
   "metadata": {},
   "source": [
    "##### Suppose you have a histogram, a specific histogram, and you wish to convert it into the multidimensional format that the images are in as a numpy array, do this:"
   ]
  },
  {
   "cell_type": "code",
   "execution_count": 5,
   "id": "disabled-bathroom",
   "metadata": {
    "ExecuteTime": {
     "end_time": "2021-07-16T19:50:58.189072Z",
     "start_time": "2021-07-16T19:50:55.035355Z"
    }
   },
   "outputs": [
    {
     "name": "stderr",
     "output_type": "stream",
     "text": [
      "/cvmfs/sft.cern.ch/lcg/views/LCG_100/x86_64-centos7-gcc8-opt/lib/python3.8/site-packages/numpy/lib/arraysetops.py:569: FutureWarning: elementwise comparison failed; returning scalar instead, but in the future will perform elementwise comparison\n",
      "  mask |= (ar1 == a)\n"
     ]
    },
    {
     "data": {
      "text/html": [
       "<div>\n",
       "<style scoped>\n",
       "    .dataframe tbody tr th:only-of-type {\n",
       "        vertical-align: middle;\n",
       "    }\n",
       "\n",
       "    .dataframe tbody tr th {\n",
       "        vertical-align: top;\n",
       "    }\n",
       "\n",
       "    .dataframe thead th {\n",
       "        text-align: right;\n",
       "    }\n",
       "</style>\n",
       "<table border=\"1\" class=\"dataframe\">\n",
       "  <thead>\n",
       "    <tr style=\"text-align: right;\">\n",
       "      <th></th>\n",
       "      <th>paths</th>\n",
       "      <th>x</th>\n",
       "      <th>y</th>\n",
       "      <th>occ</th>\n",
       "    </tr>\n",
       "  </thead>\n",
       "  <tbody>\n",
       "    <tr>\n",
       "      <th>0</th>\n",
       "      <td>run_363664/CaloMonitoring/ClusterMon/CaloCalTo...</td>\n",
       "      <td>0</td>\n",
       "      <td>NaN</td>\n",
       "      <td>0.000000</td>\n",
       "    </tr>\n",
       "    <tr>\n",
       "      <th>1</th>\n",
       "      <td>run_363664/CaloMonitoring/ClusterMon/CaloCalTo...</td>\n",
       "      <td>1</td>\n",
       "      <td>NaN</td>\n",
       "      <td>79.384947</td>\n",
       "    </tr>\n",
       "    <tr>\n",
       "      <th>2</th>\n",
       "      <td>run_363664/CaloMonitoring/ClusterMon/CaloCalTo...</td>\n",
       "      <td>2</td>\n",
       "      <td>NaN</td>\n",
       "      <td>180.384868</td>\n",
       "    </tr>\n",
       "    <tr>\n",
       "      <th>3</th>\n",
       "      <td>run_363664/CaloMonitoring/ClusterMon/CaloCalTo...</td>\n",
       "      <td>3</td>\n",
       "      <td>NaN</td>\n",
       "      <td>183.394158</td>\n",
       "    </tr>\n",
       "    <tr>\n",
       "      <th>4</th>\n",
       "      <td>run_363664/CaloMonitoring/ClusterMon/CaloCalTo...</td>\n",
       "      <td>4</td>\n",
       "      <td>NaN</td>\n",
       "      <td>146.556252</td>\n",
       "    </tr>\n",
       "    <tr>\n",
       "      <th>...</th>\n",
       "      <td>...</td>\n",
       "      <td>...</td>\n",
       "      <td>...</td>\n",
       "      <td>...</td>\n",
       "    </tr>\n",
       "    <tr>\n",
       "      <th>4004612</th>\n",
       "      <td>run_363664/egamma/tagandprobeZ/electronTagAndP...</td>\n",
       "      <td>60</td>\n",
       "      <td>NaN</td>\n",
       "      <td>538.000000</td>\n",
       "    </tr>\n",
       "    <tr>\n",
       "      <th>4004613</th>\n",
       "      <td>run_363664/egamma/tagandprobeZ/electronTagAndP...</td>\n",
       "      <td>61</td>\n",
       "      <td>NaN</td>\n",
       "      <td>546.000000</td>\n",
       "    </tr>\n",
       "    <tr>\n",
       "      <th>4004614</th>\n",
       "      <td>run_363664/egamma/tagandprobeZ/electronTagAndP...</td>\n",
       "      <td>62</td>\n",
       "      <td>NaN</td>\n",
       "      <td>480.000000</td>\n",
       "    </tr>\n",
       "    <tr>\n",
       "      <th>4004615</th>\n",
       "      <td>run_363664/egamma/tagandprobeZ/electronTagAndP...</td>\n",
       "      <td>63</td>\n",
       "      <td>NaN</td>\n",
       "      <td>500.000000</td>\n",
       "    </tr>\n",
       "    <tr>\n",
       "      <th>4004616</th>\n",
       "      <td>run_363664/egamma/tagandprobeZ/electronTagAndP...</td>\n",
       "      <td>64</td>\n",
       "      <td>NaN</td>\n",
       "      <td>217.000000</td>\n",
       "    </tr>\n",
       "  </tbody>\n",
       "</table>\n",
       "<p>4004617 rows × 4 columns</p>\n",
       "</div>"
      ],
      "text/plain": [
       "                                                     paths   x   y         occ\n",
       "0        run_363664/CaloMonitoring/ClusterMon/CaloCalTo...   0 NaN    0.000000\n",
       "1        run_363664/CaloMonitoring/ClusterMon/CaloCalTo...   1 NaN   79.384947\n",
       "2        run_363664/CaloMonitoring/ClusterMon/CaloCalTo...   2 NaN  180.384868\n",
       "3        run_363664/CaloMonitoring/ClusterMon/CaloCalTo...   3 NaN  183.394158\n",
       "4        run_363664/CaloMonitoring/ClusterMon/CaloCalTo...   4 NaN  146.556252\n",
       "...                                                    ...  ..  ..         ...\n",
       "4004612  run_363664/egamma/tagandprobeZ/electronTagAndP...  60 NaN  538.000000\n",
       "4004613  run_363664/egamma/tagandprobeZ/electronTagAndP...  61 NaN  546.000000\n",
       "4004614  run_363664/egamma/tagandprobeZ/electronTagAndP...  62 NaN  480.000000\n",
       "4004615  run_363664/egamma/tagandprobeZ/electronTagAndP...  63 NaN  500.000000\n",
       "4004616  run_363664/egamma/tagandprobeZ/electronTagAndP...  64 NaN  217.000000\n",
       "\n",
       "[4004617 rows x 4 columns]"
      ]
     },
     "execution_count": 5,
     "metadata": {},
     "output_type": "execute_result"
    }
   ],
   "source": [
    "# import pandas as pd\n",
    "df = pd.read_csv('../Replicas/unprocessed_dfs_pMain/pMain_data_files_run_363664.csv',index_col=[0])\n",
    "df"
   ]
  },
  {
   "cell_type": "code",
   "execution_count": 6,
   "id": "subject-diversity",
   "metadata": {
    "ExecuteTime": {
     "end_time": "2021-07-16T19:51:01.273056Z",
     "start_time": "2021-07-16T19:51:00.141442Z"
    }
   },
   "outputs": [],
   "source": [
    "# Grab a 2d histogram from the various histograms in this pMain run\n",
    "tmp = df[df['paths'] == df['paths'].unique()[19]]"
   ]
  },
  {
   "cell_type": "code",
   "execution_count": 7,
   "id": "hydraulic-image",
   "metadata": {
    "ExecuteTime": {
     "end_time": "2021-07-16T19:51:01.984381Z",
     "start_time": "2021-07-16T19:51:01.958257Z"
    }
   },
   "outputs": [
    {
     "data": {
      "text/html": [
       "<div>\n",
       "<style scoped>\n",
       "    .dataframe tbody tr th:only-of-type {\n",
       "        vertical-align: middle;\n",
       "    }\n",
       "\n",
       "    .dataframe tbody tr th {\n",
       "        vertical-align: top;\n",
       "    }\n",
       "\n",
       "    .dataframe thead th {\n",
       "        text-align: right;\n",
       "    }\n",
       "</style>\n",
       "<table border=\"1\" class=\"dataframe\">\n",
       "  <thead>\n",
       "    <tr style=\"text-align: right;\">\n",
       "      <th></th>\n",
       "      <th>paths</th>\n",
       "      <th>x</th>\n",
       "      <th>y</th>\n",
       "      <th>occ</th>\n",
       "    </tr>\n",
       "  </thead>\n",
       "  <tbody>\n",
       "    <tr>\n",
       "      <th>7639</th>\n",
       "      <td>run_363664/CaloMonitoring/ClusterMon/CaloCalTo...</td>\n",
       "      <td>0</td>\n",
       "      <td>0.0</td>\n",
       "      <td>0.0</td>\n",
       "    </tr>\n",
       "    <tr>\n",
       "      <th>7640</th>\n",
       "      <td>run_363664/CaloMonitoring/ClusterMon/CaloCalTo...</td>\n",
       "      <td>0</td>\n",
       "      <td>1.0</td>\n",
       "      <td>0.0</td>\n",
       "    </tr>\n",
       "    <tr>\n",
       "      <th>7641</th>\n",
       "      <td>run_363664/CaloMonitoring/ClusterMon/CaloCalTo...</td>\n",
       "      <td>0</td>\n",
       "      <td>2.0</td>\n",
       "      <td>0.0</td>\n",
       "    </tr>\n",
       "    <tr>\n",
       "      <th>7642</th>\n",
       "      <td>run_363664/CaloMonitoring/ClusterMon/CaloCalTo...</td>\n",
       "      <td>0</td>\n",
       "      <td>3.0</td>\n",
       "      <td>0.0</td>\n",
       "    </tr>\n",
       "    <tr>\n",
       "      <th>7643</th>\n",
       "      <td>run_363664/CaloMonitoring/ClusterMon/CaloCalTo...</td>\n",
       "      <td>0</td>\n",
       "      <td>4.0</td>\n",
       "      <td>0.0</td>\n",
       "    </tr>\n",
       "    <tr>\n",
       "      <th>...</th>\n",
       "      <td>...</td>\n",
       "      <td>...</td>\n",
       "      <td>...</td>\n",
       "      <td>...</td>\n",
       "    </tr>\n",
       "    <tr>\n",
       "      <th>14069</th>\n",
       "      <td>run_363664/CaloMonitoring/ClusterMon/CaloCalTo...</td>\n",
       "      <td>98</td>\n",
       "      <td>60.0</td>\n",
       "      <td>0.0</td>\n",
       "    </tr>\n",
       "    <tr>\n",
       "      <th>14070</th>\n",
       "      <td>run_363664/CaloMonitoring/ClusterMon/CaloCalTo...</td>\n",
       "      <td>98</td>\n",
       "      <td>61.0</td>\n",
       "      <td>0.0</td>\n",
       "    </tr>\n",
       "    <tr>\n",
       "      <th>14071</th>\n",
       "      <td>run_363664/CaloMonitoring/ClusterMon/CaloCalTo...</td>\n",
       "      <td>98</td>\n",
       "      <td>62.0</td>\n",
       "      <td>0.0</td>\n",
       "    </tr>\n",
       "    <tr>\n",
       "      <th>14072</th>\n",
       "      <td>run_363664/CaloMonitoring/ClusterMon/CaloCalTo...</td>\n",
       "      <td>98</td>\n",
       "      <td>63.0</td>\n",
       "      <td>0.0</td>\n",
       "    </tr>\n",
       "    <tr>\n",
       "      <th>14073</th>\n",
       "      <td>run_363664/CaloMonitoring/ClusterMon/CaloCalTo...</td>\n",
       "      <td>98</td>\n",
       "      <td>64.0</td>\n",
       "      <td>0.0</td>\n",
       "    </tr>\n",
       "  </tbody>\n",
       "</table>\n",
       "<p>6435 rows × 4 columns</p>\n",
       "</div>"
      ],
      "text/plain": [
       "                                                   paths   x     y  occ\n",
       "7639   run_363664/CaloMonitoring/ClusterMon/CaloCalTo...   0   0.0  0.0\n",
       "7640   run_363664/CaloMonitoring/ClusterMon/CaloCalTo...   0   1.0  0.0\n",
       "7641   run_363664/CaloMonitoring/ClusterMon/CaloCalTo...   0   2.0  0.0\n",
       "7642   run_363664/CaloMonitoring/ClusterMon/CaloCalTo...   0   3.0  0.0\n",
       "7643   run_363664/CaloMonitoring/ClusterMon/CaloCalTo...   0   4.0  0.0\n",
       "...                                                  ...  ..   ...  ...\n",
       "14069  run_363664/CaloMonitoring/ClusterMon/CaloCalTo...  98  60.0  0.0\n",
       "14070  run_363664/CaloMonitoring/ClusterMon/CaloCalTo...  98  61.0  0.0\n",
       "14071  run_363664/CaloMonitoring/ClusterMon/CaloCalTo...  98  62.0  0.0\n",
       "14072  run_363664/CaloMonitoring/ClusterMon/CaloCalTo...  98  63.0  0.0\n",
       "14073  run_363664/CaloMonitoring/ClusterMon/CaloCalTo...  98  64.0  0.0\n",
       "\n",
       "[6435 rows x 4 columns]"
      ]
     },
     "execution_count": 7,
     "metadata": {},
     "output_type": "execute_result"
    }
   ],
   "source": [
    "tmp"
   ]
  },
  {
   "cell_type": "code",
   "execution_count": 8,
   "id": "composed-banks",
   "metadata": {
    "ExecuteTime": {
     "end_time": "2021-07-16T19:51:04.320623Z",
     "start_time": "2021-07-16T19:51:04.312918Z"
    }
   },
   "outputs": [
    {
     "data": {
      "text/plain": [
       "'run_363664/CaloMonitoring/ClusterMon/CaloCalTopoClustersNoTrigSel/2d_Rates/m_clus_etaphi_Et_thresh0'"
      ]
     },
     "execution_count": 8,
     "metadata": {},
     "output_type": "execute_result"
    }
   ],
   "source": [
    "tmp['paths'].values[0]"
   ]
  },
  {
   "cell_type": "code",
   "execution_count": 9,
   "id": "bored-shoulder",
   "metadata": {
    "ExecuteTime": {
     "end_time": "2021-07-16T19:51:06.506673Z",
     "start_time": "2021-07-16T19:51:06.417541Z"
    }
   },
   "outputs": [
    {
     "data": {
      "text/html": [
       "<div>\n",
       "<style scoped>\n",
       "    .dataframe tbody tr th:only-of-type {\n",
       "        vertical-align: middle;\n",
       "    }\n",
       "\n",
       "    .dataframe tbody tr th {\n",
       "        vertical-align: top;\n",
       "    }\n",
       "\n",
       "    .dataframe thead th {\n",
       "        text-align: right;\n",
       "    }\n",
       "</style>\n",
       "<table border=\"1\" class=\"dataframe\">\n",
       "  <thead>\n",
       "    <tr style=\"text-align: right;\">\n",
       "      <th>y</th>\n",
       "      <th>0.0</th>\n",
       "      <th>1.0</th>\n",
       "      <th>2.0</th>\n",
       "      <th>3.0</th>\n",
       "      <th>4.0</th>\n",
       "      <th>5.0</th>\n",
       "      <th>6.0</th>\n",
       "      <th>7.0</th>\n",
       "      <th>8.0</th>\n",
       "      <th>9.0</th>\n",
       "      <th>...</th>\n",
       "      <th>55.0</th>\n",
       "      <th>56.0</th>\n",
       "      <th>57.0</th>\n",
       "      <th>58.0</th>\n",
       "      <th>59.0</th>\n",
       "      <th>60.0</th>\n",
       "      <th>61.0</th>\n",
       "      <th>62.0</th>\n",
       "      <th>63.0</th>\n",
       "      <th>64.0</th>\n",
       "    </tr>\n",
       "    <tr>\n",
       "      <th>x</th>\n",
       "      <th></th>\n",
       "      <th></th>\n",
       "      <th></th>\n",
       "      <th></th>\n",
       "      <th></th>\n",
       "      <th></th>\n",
       "      <th></th>\n",
       "      <th></th>\n",
       "      <th></th>\n",
       "      <th></th>\n",
       "      <th></th>\n",
       "      <th></th>\n",
       "      <th></th>\n",
       "      <th></th>\n",
       "      <th></th>\n",
       "      <th></th>\n",
       "      <th></th>\n",
       "      <th></th>\n",
       "      <th></th>\n",
       "      <th></th>\n",
       "      <th></th>\n",
       "    </tr>\n",
       "  </thead>\n",
       "  <tbody>\n",
       "    <tr>\n",
       "      <th>0</th>\n",
       "      <td>0.0</td>\n",
       "      <td>0.0</td>\n",
       "      <td>0.0</td>\n",
       "      <td>0.0</td>\n",
       "      <td>0.0</td>\n",
       "      <td>0.0</td>\n",
       "      <td>0.0</td>\n",
       "      <td>0.0</td>\n",
       "      <td>0.0</td>\n",
       "      <td>0.0</td>\n",
       "      <td>...</td>\n",
       "      <td>0.0</td>\n",
       "      <td>0.0</td>\n",
       "      <td>0.0</td>\n",
       "      <td>0.0</td>\n",
       "      <td>0.0</td>\n",
       "      <td>0.0</td>\n",
       "      <td>0.0</td>\n",
       "      <td>0.0</td>\n",
       "      <td>0.0</td>\n",
       "      <td>0.0</td>\n",
       "    </tr>\n",
       "    <tr>\n",
       "      <th>1</th>\n",
       "      <td>0.0</td>\n",
       "      <td>0.0</td>\n",
       "      <td>0.0</td>\n",
       "      <td>0.0</td>\n",
       "      <td>0.0</td>\n",
       "      <td>653.0</td>\n",
       "      <td>3186.0</td>\n",
       "      <td>540.0</td>\n",
       "      <td>33.0</td>\n",
       "      <td>0.0</td>\n",
       "      <td>...</td>\n",
       "      <td>96.0</td>\n",
       "      <td>8.0</td>\n",
       "      <td>0.0</td>\n",
       "      <td>0.0</td>\n",
       "      <td>0.0</td>\n",
       "      <td>0.0</td>\n",
       "      <td>0.0</td>\n",
       "      <td>0.0</td>\n",
       "      <td>0.0</td>\n",
       "      <td>0.0</td>\n",
       "    </tr>\n",
       "    <tr>\n",
       "      <th>2</th>\n",
       "      <td>0.0</td>\n",
       "      <td>26660.0</td>\n",
       "      <td>45989.0</td>\n",
       "      <td>65275.0</td>\n",
       "      <td>32800.0</td>\n",
       "      <td>40297.0</td>\n",
       "      <td>66439.0</td>\n",
       "      <td>81179.0</td>\n",
       "      <td>70963.0</td>\n",
       "      <td>15039.0</td>\n",
       "      <td>...</td>\n",
       "      <td>61962.0</td>\n",
       "      <td>47366.0</td>\n",
       "      <td>76206.0</td>\n",
       "      <td>79300.0</td>\n",
       "      <td>38347.0</td>\n",
       "      <td>17642.0</td>\n",
       "      <td>18000.0</td>\n",
       "      <td>61974.0</td>\n",
       "      <td>84272.0</td>\n",
       "      <td>41488.0</td>\n",
       "    </tr>\n",
       "    <tr>\n",
       "      <th>3</th>\n",
       "      <td>0.0</td>\n",
       "      <td>53052.0</td>\n",
       "      <td>86561.0</td>\n",
       "      <td>97302.0</td>\n",
       "      <td>68481.0</td>\n",
       "      <td>43009.0</td>\n",
       "      <td>68577.0</td>\n",
       "      <td>80521.0</td>\n",
       "      <td>80468.0</td>\n",
       "      <td>47185.0</td>\n",
       "      <td>...</td>\n",
       "      <td>52571.0</td>\n",
       "      <td>87457.0</td>\n",
       "      <td>96654.0</td>\n",
       "      <td>78324.0</td>\n",
       "      <td>73593.0</td>\n",
       "      <td>53704.0</td>\n",
       "      <td>85910.0</td>\n",
       "      <td>96724.0</td>\n",
       "      <td>80555.0</td>\n",
       "      <td>46646.0</td>\n",
       "    </tr>\n",
       "    <tr>\n",
       "      <th>4</th>\n",
       "      <td>0.0</td>\n",
       "      <td>24945.0</td>\n",
       "      <td>46718.0</td>\n",
       "      <td>43759.0</td>\n",
       "      <td>35923.0</td>\n",
       "      <td>56523.0</td>\n",
       "      <td>30699.0</td>\n",
       "      <td>35376.0</td>\n",
       "      <td>31781.0</td>\n",
       "      <td>19491.0</td>\n",
       "      <td>...</td>\n",
       "      <td>28230.0</td>\n",
       "      <td>27440.0</td>\n",
       "      <td>55665.0</td>\n",
       "      <td>37448.0</td>\n",
       "      <td>41489.0</td>\n",
       "      <td>54162.0</td>\n",
       "      <td>47236.0</td>\n",
       "      <td>41680.0</td>\n",
       "      <td>35929.0</td>\n",
       "      <td>17371.0</td>\n",
       "    </tr>\n",
       "    <tr>\n",
       "      <th>...</th>\n",
       "      <td>...</td>\n",
       "      <td>...</td>\n",
       "      <td>...</td>\n",
       "      <td>...</td>\n",
       "      <td>...</td>\n",
       "      <td>...</td>\n",
       "      <td>...</td>\n",
       "      <td>...</td>\n",
       "      <td>...</td>\n",
       "      <td>...</td>\n",
       "      <td>...</td>\n",
       "      <td>...</td>\n",
       "      <td>...</td>\n",
       "      <td>...</td>\n",
       "      <td>...</td>\n",
       "      <td>...</td>\n",
       "      <td>...</td>\n",
       "      <td>...</td>\n",
       "      <td>...</td>\n",
       "      <td>...</td>\n",
       "      <td>...</td>\n",
       "    </tr>\n",
       "    <tr>\n",
       "      <th>94</th>\n",
       "      <td>0.0</td>\n",
       "      <td>26585.0</td>\n",
       "      <td>37497.0</td>\n",
       "      <td>32551.0</td>\n",
       "      <td>10740.0</td>\n",
       "      <td>24327.0</td>\n",
       "      <td>62163.0</td>\n",
       "      <td>32247.0</td>\n",
       "      <td>24224.0</td>\n",
       "      <td>29023.0</td>\n",
       "      <td>...</td>\n",
       "      <td>34682.0</td>\n",
       "      <td>23787.0</td>\n",
       "      <td>18455.0</td>\n",
       "      <td>29997.0</td>\n",
       "      <td>53517.0</td>\n",
       "      <td>26878.0</td>\n",
       "      <td>14797.0</td>\n",
       "      <td>39887.0</td>\n",
       "      <td>46453.0</td>\n",
       "      <td>20947.0</td>\n",
       "    </tr>\n",
       "    <tr>\n",
       "      <th>95</th>\n",
       "      <td>0.0</td>\n",
       "      <td>19437.0</td>\n",
       "      <td>39116.0</td>\n",
       "      <td>33504.0</td>\n",
       "      <td>17423.0</td>\n",
       "      <td>36372.0</td>\n",
       "      <td>43314.0</td>\n",
       "      <td>51671.0</td>\n",
       "      <td>35571.0</td>\n",
       "      <td>16664.0</td>\n",
       "      <td>...</td>\n",
       "      <td>36279.0</td>\n",
       "      <td>22705.0</td>\n",
       "      <td>44813.0</td>\n",
       "      <td>47502.0</td>\n",
       "      <td>44718.0</td>\n",
       "      <td>27711.0</td>\n",
       "      <td>37559.0</td>\n",
       "      <td>44503.0</td>\n",
       "      <td>38739.0</td>\n",
       "      <td>16535.0</td>\n",
       "    </tr>\n",
       "    <tr>\n",
       "      <th>96</th>\n",
       "      <td>0.0</td>\n",
       "      <td>40472.0</td>\n",
       "      <td>69775.0</td>\n",
       "      <td>68230.0</td>\n",
       "      <td>51332.0</td>\n",
       "      <td>41951.0</td>\n",
       "      <td>75946.0</td>\n",
       "      <td>77459.0</td>\n",
       "      <td>64487.0</td>\n",
       "      <td>42675.0</td>\n",
       "      <td>...</td>\n",
       "      <td>46174.0</td>\n",
       "      <td>61725.0</td>\n",
       "      <td>79252.0</td>\n",
       "      <td>85400.0</td>\n",
       "      <td>63769.0</td>\n",
       "      <td>35716.0</td>\n",
       "      <td>61335.0</td>\n",
       "      <td>65396.0</td>\n",
       "      <td>58185.0</td>\n",
       "      <td>38995.0</td>\n",
       "    </tr>\n",
       "    <tr>\n",
       "      <th>97</th>\n",
       "      <td>0.0</td>\n",
       "      <td>40378.0</td>\n",
       "      <td>54738.0</td>\n",
       "      <td>44215.0</td>\n",
       "      <td>28591.0</td>\n",
       "      <td>47279.0</td>\n",
       "      <td>83237.0</td>\n",
       "      <td>72777.0</td>\n",
       "      <td>46422.0</td>\n",
       "      <td>10809.0</td>\n",
       "      <td>...</td>\n",
       "      <td>51864.0</td>\n",
       "      <td>32641.0</td>\n",
       "      <td>40349.0</td>\n",
       "      <td>71497.0</td>\n",
       "      <td>36556.0</td>\n",
       "      <td>11247.0</td>\n",
       "      <td>9859.0</td>\n",
       "      <td>35151.0</td>\n",
       "      <td>63353.0</td>\n",
       "      <td>46411.0</td>\n",
       "    </tr>\n",
       "    <tr>\n",
       "      <th>98</th>\n",
       "      <td>0.0</td>\n",
       "      <td>0.0</td>\n",
       "      <td>0.0</td>\n",
       "      <td>0.0</td>\n",
       "      <td>1.0</td>\n",
       "      <td>710.0</td>\n",
       "      <td>4919.0</td>\n",
       "      <td>404.0</td>\n",
       "      <td>21.0</td>\n",
       "      <td>0.0</td>\n",
       "      <td>...</td>\n",
       "      <td>96.0</td>\n",
       "      <td>7.0</td>\n",
       "      <td>0.0</td>\n",
       "      <td>0.0</td>\n",
       "      <td>0.0</td>\n",
       "      <td>0.0</td>\n",
       "      <td>0.0</td>\n",
       "      <td>0.0</td>\n",
       "      <td>0.0</td>\n",
       "      <td>0.0</td>\n",
       "    </tr>\n",
       "  </tbody>\n",
       "</table>\n",
       "<p>99 rows × 65 columns</p>\n",
       "</div>"
      ],
      "text/plain": [
       "y   0.0      1.0      2.0      3.0      4.0      5.0      6.0      7.0   \\\n",
       "x                                                                         \n",
       "0    0.0      0.0      0.0      0.0      0.0      0.0      0.0      0.0   \n",
       "1    0.0      0.0      0.0      0.0      0.0    653.0   3186.0    540.0   \n",
       "2    0.0  26660.0  45989.0  65275.0  32800.0  40297.0  66439.0  81179.0   \n",
       "3    0.0  53052.0  86561.0  97302.0  68481.0  43009.0  68577.0  80521.0   \n",
       "4    0.0  24945.0  46718.0  43759.0  35923.0  56523.0  30699.0  35376.0   \n",
       "..   ...      ...      ...      ...      ...      ...      ...      ...   \n",
       "94   0.0  26585.0  37497.0  32551.0  10740.0  24327.0  62163.0  32247.0   \n",
       "95   0.0  19437.0  39116.0  33504.0  17423.0  36372.0  43314.0  51671.0   \n",
       "96   0.0  40472.0  69775.0  68230.0  51332.0  41951.0  75946.0  77459.0   \n",
       "97   0.0  40378.0  54738.0  44215.0  28591.0  47279.0  83237.0  72777.0   \n",
       "98   0.0      0.0      0.0      0.0      1.0    710.0   4919.0    404.0   \n",
       "\n",
       "y      8.0      9.0   ...     55.0     56.0     57.0     58.0     59.0  \\\n",
       "x                     ...                                                \n",
       "0       0.0      0.0  ...      0.0      0.0      0.0      0.0      0.0   \n",
       "1      33.0      0.0  ...     96.0      8.0      0.0      0.0      0.0   \n",
       "2   70963.0  15039.0  ...  61962.0  47366.0  76206.0  79300.0  38347.0   \n",
       "3   80468.0  47185.0  ...  52571.0  87457.0  96654.0  78324.0  73593.0   \n",
       "4   31781.0  19491.0  ...  28230.0  27440.0  55665.0  37448.0  41489.0   \n",
       "..      ...      ...  ...      ...      ...      ...      ...      ...   \n",
       "94  24224.0  29023.0  ...  34682.0  23787.0  18455.0  29997.0  53517.0   \n",
       "95  35571.0  16664.0  ...  36279.0  22705.0  44813.0  47502.0  44718.0   \n",
       "96  64487.0  42675.0  ...  46174.0  61725.0  79252.0  85400.0  63769.0   \n",
       "97  46422.0  10809.0  ...  51864.0  32641.0  40349.0  71497.0  36556.0   \n",
       "98     21.0      0.0  ...     96.0      7.0      0.0      0.0      0.0   \n",
       "\n",
       "y      60.0     61.0     62.0     63.0     64.0  \n",
       "x                                                \n",
       "0       0.0      0.0      0.0      0.0      0.0  \n",
       "1       0.0      0.0      0.0      0.0      0.0  \n",
       "2   17642.0  18000.0  61974.0  84272.0  41488.0  \n",
       "3   53704.0  85910.0  96724.0  80555.0  46646.0  \n",
       "4   54162.0  47236.0  41680.0  35929.0  17371.0  \n",
       "..      ...      ...      ...      ...      ...  \n",
       "94  26878.0  14797.0  39887.0  46453.0  20947.0  \n",
       "95  27711.0  37559.0  44503.0  38739.0  16535.0  \n",
       "96  35716.0  61335.0  65396.0  58185.0  38995.0  \n",
       "97  11247.0   9859.0  35151.0  63353.0  46411.0  \n",
       "98      0.0      0.0      0.0      0.0      0.0  \n",
       "\n",
       "[99 rows x 65 columns]"
      ]
     },
     "execution_count": 9,
     "metadata": {},
     "output_type": "execute_result"
    }
   ],
   "source": [
    "# All you have to do is pivot it correctly, of course now it needs to be scaled\n",
    "tmp.pivot(index='x',columns='y',values='occ')"
   ]
  },
  {
   "cell_type": "code",
   "execution_count": 116,
   "id": "blank-spell",
   "metadata": {
    "ExecuteTime": {
     "end_time": "2021-07-15T19:33:25.088027Z",
     "start_time": "2021-07-15T19:33:23.400691Z"
    }
   },
   "outputs": [
    {
     "data": {
      "text/plain": [
       "Text(69.0, 0.5, '$\\\\phi$')"
      ]
     },
     "execution_count": 116,
     "metadata": {},
     "output_type": "execute_result"
    },
    {
     "data": {
      "image/png": "[encoded data removed]",
      "text/plain": [
       "<Figure size 720x504 with 2 Axes>"
      ]
     },
     "metadata": {
      "needs_background": "light"
     },
     "output_type": "display_data"
    }
   ],
   "source": [
    "# import seaborn as sns\n",
    "# import matplotlib.pyplot as plt\n",
    "plt.figure(figsize=(10,7))\n",
    "sns.heatmap(tmp.pivot(index='y',columns='x',values='occ'))\n",
    "plt.title(r'run_363664/CaloMonitoring/ClusterMon/CaloCalTopoClustersNoTrigSel/2d_Rates/m_clus_etaphi_Et_thresh0' \"\\n\" r'Occupancy of Cells in $(\\eta,\\phi)$')\n",
    "plt.xlabel(r'$\\eta$')\n",
    "plt.ylabel(r'$\\phi$')"
   ]
  },
  {
   "cell_type": "code",
   "execution_count": 93,
   "id": "binary-faculty",
   "metadata": {
    "ExecuteTime": {
     "end_time": "2021-07-15T00:30:38.429339Z",
     "start_time": "2021-07-15T00:30:38.410724Z"
    }
   },
   "outputs": [
    {
     "data": {
      "text/plain": [
       "997649.0"
      ]
     },
     "metadata": {},
     "output_type": "display_data"
    },
    {
     "data": {
      "text/plain": [
       "0.0"
      ]
     },
     "metadata": {},
     "output_type": "display_data"
    }
   ],
   "source": [
    "# Scale the values - see the thing on my phone\n",
    "display(tmp[['occ']].max()[0])\n",
    "display(tmp[['occ']].min()[0])\n",
    "\n",
    "# Then you need to rerun the pivot table with the newly scaled values (needs between 0-255 to be like an image file...but the CNN might take it as is)"
   ]
  },
  {
   "cell_type": "code",
   "execution_count": null,
   "id": "female-kazakhstan",
   "metadata": {},
   "outputs": [],
   "source": []
  },
  {
   "cell_type": "markdown",
   "id": "beginning-privacy",
   "metadata": {},
   "source": [
    "<hr>"
   ]
  },
  {
   "cell_type": "markdown",
   "id": "opposite-dictionary",
   "metadata": {},
   "source": [
    "##### NEXT ACTIONS(update as you complete things and have new tasks to complete):\n",
    "- figure out what specific or general histograms I will use for training the CNN\n",
    "- see if the CNN can handle unscaled ... on the other hand if we can scale it like ATLAS scales the histograms themselves (see sawyers algorithm), then we could get better results?\n",
    "- still need to figure out ground truth of what is a good vs a bad value...the express streams should include bad value but we dont have labels for if it is in fact bad or good\n",
    "- process the csv files in the unprocessed express and unprocessed pMain folders together as a single database_dataframe (might need to optimize individual dfs for memory then concat them together into the database for best results\n",
    "- consider if I will be using primarily TH1,TH2, or combinations of them to train CNN\n",
    "- gather more datasets\n",
    "- rework the CNN, because this formulation only is supposed to figure out what color is needed using the greyscale to train on and the color sets as the target values\n",
    " - we want to train on the 'greyscale' but use ? as the target values ; the target values should be a separate dataframe that looks like this pivoted frame and contain index=x,columns=y,values=TRUE_FALSE_VALUES_as_0_or_1\n",
    "\n",
    "<br><br>\n",
    "\n",
    "- work on more of the Thesis writing\n",
    "- edit presentation for sawyer\n",
    "- evaluate the CNN model, look to the linear regression resources I have for ideas on how to evaluate, look at the deep learning book and approaching ML book as well, use ttests/chi2 tests to also evaluate the model, consider confidence interval stuff too...look into all of that"
   ]
  },
  {
   "cell_type": "markdown",
   "id": "soviet-color",
   "metadata": {},
   "source": [
    "##### Figure out what specific or general histograms I will use for training the CNN:\n",
    "- (COMPLETED - for now) Initially, ReplicasPRocessingScript.py has used histogram 20(2d rates m_clus_Et_thresh1) as the histogram of choice"
   ]
  },
  {
   "cell_type": "markdown",
   "id": "considerable-mainstream",
   "metadata": {},
   "source": [
    "##### Process the csv files in the unprocessed express and unprocessed pMain folders together as a single database_dataframe (might need to optimize individual dfs for memory then concat them together into the database for best results\n",
    "- (COMPLETED)"
   ]
  },
  {
   "cell_type": "markdown",
   "id": "loaded-texture",
   "metadata": {},
   "source": [
    "##### Still need to figure out ground truth of what is a good vs a bad value...the express streams should include bad value but we dont have labels for if it is in fact bad or good\n",
    "- (COMPLETED - for now) Ground truth initially, based on first histogram will assume all express values are 0 for bad, and all pMain values are 1 for good"
   ]
  },
  {
   "cell_type": "markdown",
   "id": "composite-policy",
   "metadata": {},
   "source": [
    "##### Consider if I will be using primarily TH1,TH2, or combinations of them to train CNN\n",
    "- (Completed - for now) For now we are just using a single TH2, more on this later"
   ]
  },
  {
   "cell_type": "markdown",
   "id": "foreign-permission",
   "metadata": {},
   "source": [
    "##### Gather more datasets\n",
    "(Waiting on initial results) - Not certain if we will actually need to do this yet. Technically we already ahve 56million datapoints which is over a 6GB csv"
   ]
  },
  {
   "cell_type": "markdown",
   "id": "invalid-canvas",
   "metadata": {},
   "source": [
    "##### We want to train on the 'greyscale' but use ? as the target values ; the target values should be a separate dataframe that looks like this pivoted frame and contain index=x,columns=y,values=TRUE_FALSE_VALUES_as_0_or_1\n",
    "- This issue has been partially resolved in process of preparing the initial histogram dataset\n",
    "- (Again this issue has abeen partially resolved) So if we go back to our original dataframe we have above, if we add another feature called 'quality' encoded as 0/1/2 for good/okay/bad quality then this CNN should be able to train this "
   ]
  },
  {
   "cell_type": "code",
   "execution_count": null,
   "id": "continuing-target",
   "metadata": {},
   "outputs": [],
   "source": [
    "# Open the file that train_set is stored in as f\n",
    "with open('train_set.npy', 'rb') as f:\n",
    "\n",
    "    # Load and get a handle for train_set\n",
    "    train_set = np.load(f)\n",
    "\n",
    "# Open the file that train_set is stored in as f\n",
    "with open('test_set.npy', 'rb') as f:\n",
    "    \n",
    "    # Load and get a handle for test_set\n",
    "    test_set = np.load(f)"
   ]
  },
  {
   "cell_type": "markdown",
   "id": "defined-skill",
   "metadata": {},
   "source": [
    "##### Next Actions (Update 7-16-21):\n",
    "- edit presentation for sawyer by Monday(7-19-21)\n",
    "- evaluate the CNN model, look to the linear regression resources I have for ideas on how to evaluate, look at the deep learning book and approaching ML book as well, use ttests/chi2 tests to also evaluate the model, consider confidence interval stuff too...look into all of that\n",
    "- take extensive notes on and work on more of the Thesis writing\n"
   ]
  },
  {
   "cell_type": "code",
   "execution_count": null,
   "id": "changing-bottom",
   "metadata": {},
   "outputs": [],
   "source": []
  }
 ],
 "metadata": {
  "kernelspec": {
   "display_name": "Python 3",
   "language": "python",
   "name": "python3"
  },
  "language_info": {
   "codemirror_mode": {
    "name": "ipython",
    "version": 3
   },
   "file_extension": ".py",
   "mimetype": "text/x-python",
   "name": "python",
   "nbconvert_exporter": "python",
   "pygments_lexer": "ipython3",
   "version": "3.8.6"
  },
  "varInspector": {
   "cols": {
    "lenName": 16,
    "lenType": 16,
    "lenVar": 40
   },
   "kernels_config": {
    "python": {
     "delete_cmd_postfix": "",
     "delete_cmd_prefix": "del ",
     "library": "var_list.py",
     "varRefreshCmd": "print(var_dic_list())"
    },
    "r": {
     "delete_cmd_postfix": ") ",
     "delete_cmd_prefix": "rm(",
     "library": "var_list.r",
     "varRefreshCmd": "cat(var_dic_list()) "
    }
   },
   "types_to_exclude": [
    "module",
    "function",
    "builtin_function_or_method",
    "instance",
    "_Feature"
   ],
   "window_display": false
  }
 },
 "nbformat": 4,
 "nbformat_minor": 5
}
